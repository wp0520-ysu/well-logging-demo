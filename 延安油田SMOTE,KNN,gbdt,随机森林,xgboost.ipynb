{
  "nbformat": 4,
  "nbformat_minor": 0,
  "metadata": {
    "anaconda-cloud": {},
    "kernelspec": {
      "display_name": "Python 3",
      "language": "python",
      "name": "python3"
    },
    "language_info": {
      "codemirror_mode": {
        "name": "ipython",
        "version": 3
      },
      "file_extension": ".py",
      "mimetype": "text/x-python",
      "name": "python",
      "nbconvert_exporter": "python",
      "pygments_lexer": "ipython3",
      "version": "3.5.2"
    },
    "colab": {
      "name": "延安油田SMOTE,KNN,gbdt,随机森林,xgboost",
      "provenance": [],
      "collapsed_sections": [],
      "include_colab_link": true
    }
  },
  "cells": [
    {
      "cell_type": "markdown",
      "metadata": {
        "id": "view-in-github",
        "colab_type": "text"
      },
      "source": [
        "<a href=\"https://colab.research.google.com/github/sunyingjian/-Logging-related-network/blob/master/%E5%BB%B6%E5%AE%89%E6%B2%B9%E7%94%B0SMOTE%2CKNN%2Cgbdt%2C%E9%9A%8F%E6%9C%BA%E6%A3%AE%E6%9E%97%2Cxgboost.ipynb\" target=\"_parent\"><img src=\"https://colab.research.google.com/assets/colab-badge.svg\" alt=\"Open In Colab\"/></a>"
      ]
    },
    {
      "cell_type": "markdown",
      "metadata": {
        "id": "Cqy3vXXOMI06",
        "colab_type": "text"
      },
      "source": [
        "### <font size=5px color=\"red\">✦ *Google Colab 突破90分钟自动断开:</font>\n",
        "<p><font size=3px > 每60分钟自动运行代码以刷新90分钟断开限制. 打开 developer-settings (在你的浏览器) 快速健 Ctrl+Shift+I 然后按console 输入以下代码 Enter. ( mac 按 Option+Command+I)</p><b>复制以下隐藏代码粉贴在浏览器console！！不要关闭浏览器以免失效</b>"
      ]
    },
    {
      "cell_type": "markdown",
      "metadata": {
        "id": "3Z8cK8h2Avbv",
        "colab_type": "text"
      },
      "source": [
        "<code>function ClickConnect(){\n",
        "console.log(\"Working\"); \n",
        "document.querySelector(\"colab-connect-button\").click() \n",
        "}setInterval(ClickConnect,6000)</code>"
      ]
    },
    {
      "cell_type": "code",
      "metadata": {
        "id": "jtClEMAMLVHw",
        "colab_type": "code",
        "cellView": "both",
        "colab": {
          "base_uri": "https://localhost:8080/",
          "height": 35
        },
        "outputId": "f7da110d-3e49-4363-9715-d8b2c409cfbd"
      },
      "source": [
        "#@markdown <h3>← 输入了代码后运行以防止断开</h>\n",
        "\n",
        "\n",
        "import IPython\n",
        "from google.colab import output\n",
        "\n",
        "display(IPython.display.Javascript('''\n",
        " function ClickConnect(){\n",
        "   btn = document.querySelector(\"colab-connect-button\")\n",
        "   if (btn != null){\n",
        "     console.log(\"Click colab-connect-button\"); \n",
        "     btn.click() \n",
        "     }\n",
        "   \n",
        "   btn = document.getElementById('ok')\n",
        "   if (btn != null){\n",
        "     console.log(\"Click reconnect\"); \n",
        "     btn.click() \n",
        "     }\n",
        "  }\n",
        "  \n",
        "setInterval(ClickConnect,60000)\n",
        "'''))\n",
        "\n",
        "print(\"Done.\")"
      ],
      "execution_count": 2,
      "outputs": [
        {
          "output_type": "display_data",
          "data": {
            "application/javascript": [
              "\n",
              " function ClickConnect(){\n",
              "   btn = document.querySelector(\"colab-connect-button\")\n",
              "   if (btn != null){\n",
              "     console.log(\"Click colab-connect-button\"); \n",
              "     btn.click() \n",
              "     }\n",
              "   \n",
              "   btn = document.getElementById('ok')\n",
              "   if (btn != null){\n",
              "     console.log(\"Click reconnect\"); \n",
              "     btn.click() \n",
              "     }\n",
              "  }\n",
              "  \n",
              "setInterval(ClickConnect,60000)\n"
            ],
            "text/plain": [
              "<IPython.core.display.Javascript object>"
            ]
          },
          "metadata": {
            "tags": []
          }
        },
        {
          "output_type": "stream",
          "text": [
            "Done.\n"
          ],
          "name": "stdout"
        }
      ]
    },
    {
      "cell_type": "code",
      "metadata": {
        "id": "aFEXKoC6o2wB",
        "colab_type": "code",
        "colab": {
          "base_uri": "https://localhost:8080/",
          "height": 121
        },
        "outputId": "17baf097-375b-4912-f08c-21ad925dd3e2"
      },
      "source": [
        "! git clone https://github.com/sunyingjian/numpy-.git"
      ],
      "execution_count": 3,
      "outputs": [
        {
          "output_type": "stream",
          "text": [
            "Cloning into 'numpy-'...\n",
            "remote: Enumerating objects: 59, done.\u001b[K\n",
            "remote: Counting objects:   1% (1/59)\u001b[K\rremote: Counting objects:   3% (2/59)\u001b[K\rremote: Counting objects:   5% (3/59)\u001b[K\rremote: Counting objects:   6% (4/59)\u001b[K\rremote: Counting objects:   8% (5/59)\u001b[K\rremote: Counting objects:  10% (6/59)\u001b[K\rremote: Counting objects:  11% (7/59)\u001b[K\rremote: Counting objects:  13% (8/59)\u001b[K\rremote: Counting objects:  15% (9/59)\u001b[K\rremote: Counting objects:  16% (10/59)\u001b[K\rremote: Counting objects:  18% (11/59)\u001b[K\rremote: Counting objects:  20% (12/59)\u001b[K\rremote: Counting objects:  22% (13/59)\u001b[K\rremote: Counting objects:  23% (14/59)\u001b[K\rremote: Counting objects:  25% (15/59)\u001b[K\rremote: Counting objects:  27% (16/59)\u001b[K\rremote: Counting objects:  28% (17/59)\u001b[K\rremote: Counting objects:  30% (18/59)\u001b[K\rremote: Counting objects:  32% (19/59)\u001b[K\rremote: Counting objects:  33% (20/59)\u001b[K\rremote: Counting objects:  35% (21/59)\u001b[K\rremote: Counting objects:  37% (22/59)\u001b[K\rremote: Counting objects:  38% (23/59)\u001b[K\rremote: Counting objects:  40% (24/59)\u001b[K\rremote: Counting objects:  42% (25/59)\u001b[K\rremote: Counting objects:  44% (26/59)\u001b[K\rremote: Counting objects:  45% (27/59)\u001b[K\rremote: Counting objects:  47% (28/59)\u001b[K\rremote: Counting objects:  49% (29/59)\u001b[K\rremote: Counting objects:  50% (30/59)\u001b[K\rremote: Counting objects:  52% (31/59)\u001b[K\rremote: Counting objects:  54% (32/59)\u001b[K\rremote: Counting objects:  55% (33/59)\u001b[K\rremote: Counting objects:  57% (34/59)\u001b[K\rremote: Counting objects:  59% (35/59)\u001b[K\rremote: Counting objects:  61% (36/59)\u001b[K\rremote: Counting objects:  62% (37/59)\u001b[K\rremote: Counting objects:  64% (38/59)\u001b[K\rremote: Counting objects:  66% (39/59)\u001b[K\rremote: Counting objects:  67% (40/59)\u001b[K\rremote: Counting objects:  69% (41/59)\u001b[K\rremote: Counting objects:  71% (42/59)\u001b[K\rremote: Counting objects:  72% (43/59)\u001b[K\rremote: Counting objects:  74% (44/59)\u001b[K\rremote: Counting objects:  76% (45/59)\u001b[K\rremote: Counting objects:  77% (46/59)\u001b[K\rremote: Counting objects:  79% (47/59)\u001b[K\rremote: Counting objects:  81% (48/59)\u001b[K\rremote: Counting objects:  83% (49/59)\u001b[K\rremote: Counting objects:  84% (50/59)\u001b[K\rremote: Counting objects:  86% (51/59)\u001b[K\rremote: Counting objects:  88% (52/59)\u001b[K\rremote: Counting objects:  89% (53/59)\u001b[K\rremote: Counting objects:  91% (54/59)\u001b[K\rremote: Counting objects:  93% (55/59)\u001b[K\rremote: Counting objects:  94% (56/59)\u001b[K\rremote: Counting objects:  96% (57/59)\u001b[K\rremote: Counting objects:  98% (58/59)\u001b[K\rremote: Counting objects: 100% (59/59)\u001b[K\rremote: Counting objects: 100% (59/59), done.\u001b[K\n",
            "remote: Compressing objects: 100% (59/59), done.\u001b[K\n",
            "remote: Total 59 (delta 22), reused 0 (delta 0), pack-reused 0\u001b[K\n",
            "Unpacking objects: 100% (59/59), done.\n"
          ],
          "name": "stdout"
        }
      ]
    },
    {
      "cell_type": "code",
      "metadata": {
        "id": "1rJBO73lpHA7",
        "colab_type": "code",
        "colab": {
          "base_uri": "https://localhost:8080/",
          "height": 124
        },
        "outputId": "b666de55-9b2d-47b1-8cb5-52cff6a3f751"
      },
      "source": [
        "import os\n",
        "from google.colab import drive\n",
        "drive.mount('/content/drive')\n",
        "path = \"/content/numpy-/3345train data.csv\""
      ],
      "execution_count": 4,
      "outputs": [
        {
          "output_type": "stream",
          "text": [
            "Go to this URL in a browser: https://accounts.google.com/o/oauth2/auth?client_id=947318989803-6bn6qk8qdgf4n4g3pfee6491hc0brc4i.apps.googleusercontent.com&redirect_uri=urn%3aietf%3awg%3aoauth%3a2.0%3aoob&response_type=code&scope=email%20https%3a%2f%2fwww.googleapis.com%2fauth%2fdocs.test%20https%3a%2f%2fwww.googleapis.com%2fauth%2fdrive%20https%3a%2f%2fwww.googleapis.com%2fauth%2fdrive.photos.readonly%20https%3a%2f%2fwww.googleapis.com%2fauth%2fpeopleapi.readonly\n",
            "\n",
            "Enter your authorization code:\n",
            "··········\n",
            "Mounted at /content/drive\n"
          ],
          "name": "stdout"
        }
      ]
    },
    {
      "cell_type": "code",
      "metadata": {
        "id": "s5phM8LfoxvP",
        "colab_type": "code",
        "colab": {
          "base_uri": "https://localhost:8080/",
          "height": 407
        },
        "outputId": "06811416-d39c-4daa-aaa7-7a7683cf1e3c"
      },
      "source": [
        "%matplotlib inline\n",
        "#%matplotlib inline 可以在Ipython编译器里直接使用，功能是可以内嵌绘图，并且可以省略掉plt.show()这一步。\n",
        "import pandas as pd\n",
        "import numpy as np\n",
        "import matplotlib as mpl\n",
        "import matplotlib.pyplot as plt\n",
        "import matplotlib.colors as colors\n",
        "from mpl_toolkits.axes_grid1 import make_axes_locatable\n",
        "from pandas import set_option\n",
        "set_option(\"display.max_rows\", 10)#设置要显示的默认行数，显示的最大行数是10\n",
        "pd.options.mode.chained_assignment = None #为了在增加列表行数的时候防止出现setting with copy warning\n",
        "filename = 'facies_vectors.csv'\n",
        "training_data = pd.read_csv('/content/numpy-/3345train data.csv')\n",
        "training_data\n",
        "testing_data = pd.read_csv('/content/numpy-/3345test_data.csv')\n",
        "testing_data"
      ],
      "execution_count": 5,
      "outputs": [
        {
          "output_type": "execute_result",
          "data": {
            "text/html": [
              "<div>\n",
              "<style scoped>\n",
              "    .dataframe tbody tr th:only-of-type {\n",
              "        vertical-align: middle;\n",
              "    }\n",
              "\n",
              "    .dataframe tbody tr th {\n",
              "        vertical-align: top;\n",
              "    }\n",
              "\n",
              "    .dataframe thead th {\n",
              "        text-align: right;\n",
              "    }\n",
              "</style>\n",
              "<table border=\"1\" class=\"dataframe\">\n",
              "  <thead>\n",
              "    <tr style=\"text-align: right;\">\n",
              "      <th></th>\n",
              "      <th>AC</th>\n",
              "      <th>CAL</th>\n",
              "      <th>GR</th>\n",
              "      <th>K</th>\n",
              "      <th>RD</th>\n",
              "      <th>SP</th>\n",
              "      <th>Core Lithology</th>\n",
              "    </tr>\n",
              "  </thead>\n",
              "  <tbody>\n",
              "    <tr>\n",
              "      <th>0</th>\n",
              "      <td>0.038756</td>\n",
              "      <td>0.026970</td>\n",
              "      <td>0.094776</td>\n",
              "      <td>0.112543</td>\n",
              "      <td>0.001420</td>\n",
              "      <td>0.614504</td>\n",
              "      <td>5</td>\n",
              "    </tr>\n",
              "    <tr>\n",
              "      <th>1</th>\n",
              "      <td>0.347382</td>\n",
              "      <td>0.090194</td>\n",
              "      <td>0.145150</td>\n",
              "      <td>0.202335</td>\n",
              "      <td>0.002744</td>\n",
              "      <td>0.339568</td>\n",
              "      <td>7</td>\n",
              "    </tr>\n",
              "    <tr>\n",
              "      <th>2</th>\n",
              "      <td>0.218400</td>\n",
              "      <td>0.059510</td>\n",
              "      <td>0.252165</td>\n",
              "      <td>0.711295</td>\n",
              "      <td>0.003874</td>\n",
              "      <td>0.918567</td>\n",
              "      <td>3</td>\n",
              "    </tr>\n",
              "    <tr>\n",
              "      <th>3</th>\n",
              "      <td>0.366064</td>\n",
              "      <td>0.082147</td>\n",
              "      <td>0.149304</td>\n",
              "      <td>0.201731</td>\n",
              "      <td>0.003290</td>\n",
              "      <td>0.343180</td>\n",
              "      <td>7</td>\n",
              "    </tr>\n",
              "    <tr>\n",
              "      <th>4</th>\n",
              "      <td>0.291877</td>\n",
              "      <td>0.079981</td>\n",
              "      <td>0.141782</td>\n",
              "      <td>0.289309</td>\n",
              "      <td>0.003455</td>\n",
              "      <td>0.344605</td>\n",
              "      <td>7</td>\n",
              "    </tr>\n",
              "    <tr>\n",
              "      <th>...</th>\n",
              "      <td>...</td>\n",
              "      <td>...</td>\n",
              "      <td>...</td>\n",
              "      <td>...</td>\n",
              "      <td>...</td>\n",
              "      <td>...</td>\n",
              "      <td>...</td>\n",
              "    </tr>\n",
              "    <tr>\n",
              "      <th>361</th>\n",
              "      <td>0.016947</td>\n",
              "      <td>0.138827</td>\n",
              "      <td>0.118400</td>\n",
              "      <td>0.358567</td>\n",
              "      <td>0.281687</td>\n",
              "      <td>0.302936</td>\n",
              "      <td>6</td>\n",
              "    </tr>\n",
              "    <tr>\n",
              "      <th>362</th>\n",
              "      <td>0.131043</td>\n",
              "      <td>0.069016</td>\n",
              "      <td>0.029354</td>\n",
              "      <td>0.060197</td>\n",
              "      <td>0.282093</td>\n",
              "      <td>0.253809</td>\n",
              "      <td>3</td>\n",
              "    </tr>\n",
              "    <tr>\n",
              "      <th>363</th>\n",
              "      <td>0.036182</td>\n",
              "      <td>0.032010</td>\n",
              "      <td>0.030090</td>\n",
              "      <td>0.071069</td>\n",
              "      <td>0.359737</td>\n",
              "      <td>0.435486</td>\n",
              "      <td>5</td>\n",
              "    </tr>\n",
              "    <tr>\n",
              "      <th>364</th>\n",
              "      <td>0.014562</td>\n",
              "      <td>0.127332</td>\n",
              "      <td>0.035014</td>\n",
              "      <td>0.178579</td>\n",
              "      <td>0.803566</td>\n",
              "      <td>0.311641</td>\n",
              "      <td>6</td>\n",
              "    </tr>\n",
              "    <tr>\n",
              "      <th>365</th>\n",
              "      <td>0.014427</td>\n",
              "      <td>0.134185</td>\n",
              "      <td>0.033460</td>\n",
              "      <td>0.186430</td>\n",
              "      <td>0.891134</td>\n",
              "      <td>0.311652</td>\n",
              "      <td>6</td>\n",
              "    </tr>\n",
              "  </tbody>\n",
              "</table>\n",
              "<p>366 rows × 7 columns</p>\n",
              "</div>"
            ],
            "text/plain": [
              "           AC       CAL        GR         K        RD        SP  Core Lithology\n",
              "0    0.038756  0.026970  0.094776  0.112543  0.001420  0.614504               5\n",
              "1    0.347382  0.090194  0.145150  0.202335  0.002744  0.339568               7\n",
              "2    0.218400  0.059510  0.252165  0.711295  0.003874  0.918567               3\n",
              "3    0.366064  0.082147  0.149304  0.201731  0.003290  0.343180               7\n",
              "4    0.291877  0.079981  0.141782  0.289309  0.003455  0.344605               7\n",
              "..        ...       ...       ...       ...       ...       ...             ...\n",
              "361  0.016947  0.138827  0.118400  0.358567  0.281687  0.302936               6\n",
              "362  0.131043  0.069016  0.029354  0.060197  0.282093  0.253809               3\n",
              "363  0.036182  0.032010  0.030090  0.071069  0.359737  0.435486               5\n",
              "364  0.014562  0.127332  0.035014  0.178579  0.803566  0.311641               6\n",
              "365  0.014427  0.134185  0.033460  0.186430  0.891134  0.311652               6\n",
              "\n",
              "[366 rows x 7 columns]"
            ]
          },
          "metadata": {
            "tags": []
          },
          "execution_count": 5
        }
      ]
    },
    {
      "cell_type": "markdown",
      "metadata": {
        "id": "DkIbFPdg24i1",
        "colab_type": "text"
      },
      "source": [
        "#训练集处理"
      ]
    },
    {
      "cell_type": "code",
      "metadata": {
        "id": "YAVy0Tvfoxvh",
        "colab_type": "code",
        "colab": {
          "base_uri": "https://localhost:8080/",
          "height": 288
        },
        "outputId": "af31d2c1-ee13-4dc8-913c-3db84833ea56"
      },
      "source": [
        "# 1=粗砂岩  2=中砂岩   3=细砂岩\n",
        "# 4=粉砂岩 5=白云岩 6=石灰岩 7=泥岩\n",
        "\n",
        "facies_labels = ['CS', 'MS', 'FS', 'SS', 'DM',\n",
        "                 'LS', 'MDS']\n",
        "training_data.describe()"
      ],
      "execution_count": 6,
      "outputs": [
        {
          "output_type": "execute_result",
          "data": {
            "text/html": [
              "<div>\n",
              "<style scoped>\n",
              "    .dataframe tbody tr th:only-of-type {\n",
              "        vertical-align: middle;\n",
              "    }\n",
              "\n",
              "    .dataframe tbody tr th {\n",
              "        vertical-align: top;\n",
              "    }\n",
              "\n",
              "    .dataframe thead th {\n",
              "        text-align: right;\n",
              "    }\n",
              "</style>\n",
              "<table border=\"1\" class=\"dataframe\">\n",
              "  <thead>\n",
              "    <tr style=\"text-align: right;\">\n",
              "      <th></th>\n",
              "      <th>AC</th>\n",
              "      <th>CAL</th>\n",
              "      <th>GR</th>\n",
              "      <th>K</th>\n",
              "      <th>RD</th>\n",
              "      <th>SP</th>\n",
              "      <th>Core Lithology</th>\n",
              "    </tr>\n",
              "  </thead>\n",
              "  <tbody>\n",
              "    <tr>\n",
              "      <th>count</th>\n",
              "      <td>3.345000e+03</td>\n",
              "      <td>3.345000e+03</td>\n",
              "      <td>3.345000e+03</td>\n",
              "      <td>3.345000e+03</td>\n",
              "      <td>3.345000e+03</td>\n",
              "      <td>3345.000000</td>\n",
              "      <td>3345.000000</td>\n",
              "    </tr>\n",
              "    <tr>\n",
              "      <th>mean</th>\n",
              "      <td>2.107992e-01</td>\n",
              "      <td>1.450162e-01</td>\n",
              "      <td>1.662901e-01</td>\n",
              "      <td>3.464980e-01</td>\n",
              "      <td>4.917120e-02</td>\n",
              "      <td>0.418110</td>\n",
              "      <td>4.221525</td>\n",
              "    </tr>\n",
              "    <tr>\n",
              "      <th>std</th>\n",
              "      <td>1.099814e-01</td>\n",
              "      <td>1.353280e-01</td>\n",
              "      <td>1.036918e-01</td>\n",
              "      <td>1.808527e-01</td>\n",
              "      <td>8.719010e-02</td>\n",
              "      <td>0.196548</td>\n",
              "      <td>2.079667</td>\n",
              "    </tr>\n",
              "    <tr>\n",
              "      <th>min</th>\n",
              "      <td>1.000000e-07</td>\n",
              "      <td>1.000000e-08</td>\n",
              "      <td>1.000000e-07</td>\n",
              "      <td>1.000000e-07</td>\n",
              "      <td>1.000000e-09</td>\n",
              "      <td>-0.062739</td>\n",
              "      <td>1.000000</td>\n",
              "    </tr>\n",
              "    <tr>\n",
              "      <th>25%</th>\n",
              "      <td>1.594008e-01</td>\n",
              "      <td>5.225926e-02</td>\n",
              "      <td>8.778840e-02</td>\n",
              "      <td>2.079726e-01</td>\n",
              "      <td>1.270254e-02</td>\n",
              "      <td>0.325241</td>\n",
              "      <td>2.000000</td>\n",
              "    </tr>\n",
              "    <tr>\n",
              "      <th>50%</th>\n",
              "      <td>2.124234e-01</td>\n",
              "      <td>9.779821e-02</td>\n",
              "      <td>1.520483e-01</td>\n",
              "      <td>3.352124e-01</td>\n",
              "      <td>2.403313e-02</td>\n",
              "      <td>0.384527</td>\n",
              "      <td>4.000000</td>\n",
              "    </tr>\n",
              "    <tr>\n",
              "      <th>75%</th>\n",
              "      <td>2.574892e-01</td>\n",
              "      <td>1.850738e-01</td>\n",
              "      <td>2.359244e-01</td>\n",
              "      <td>4.811758e-01</td>\n",
              "      <td>4.815465e-02</td>\n",
              "      <td>0.439047</td>\n",
              "      <td>7.000000</td>\n",
              "    </tr>\n",
              "    <tr>\n",
              "      <th>max</th>\n",
              "      <td>1.000000e+00</td>\n",
              "      <td>1.000000e+00</td>\n",
              "      <td>1.000000e+00</td>\n",
              "      <td>1.000000e+00</td>\n",
              "      <td>1.000000e+00</td>\n",
              "      <td>1.000000</td>\n",
              "      <td>7.000000</td>\n",
              "    </tr>\n",
              "  </tbody>\n",
              "</table>\n",
              "</div>"
            ],
            "text/plain": [
              "                 AC           CAL  ...           SP  Core Lithology\n",
              "count  3.345000e+03  3.345000e+03  ...  3345.000000     3345.000000\n",
              "mean   2.107992e-01  1.450162e-01  ...     0.418110        4.221525\n",
              "std    1.099814e-01  1.353280e-01  ...     0.196548        2.079667\n",
              "min    1.000000e-07  1.000000e-08  ...    -0.062739        1.000000\n",
              "25%    1.594008e-01  5.225926e-02  ...     0.325241        2.000000\n",
              "50%    2.124234e-01  9.779821e-02  ...     0.384527        4.000000\n",
              "75%    2.574892e-01  1.850738e-01  ...     0.439047        7.000000\n",
              "max    1.000000e+00  1.000000e+00  ...     1.000000        7.000000\n",
              "\n",
              "[8 rows x 7 columns]"
            ]
          },
          "metadata": {
            "tags": []
          },
          "execution_count": 6
        }
      ]
    },
    {
      "cell_type": "markdown",
      "metadata": {
        "id": "AicpZIfj28MY",
        "colab_type": "text"
      },
      "source": [
        "#测试集处理"
      ]
    },
    {
      "cell_type": "code",
      "metadata": {
        "id": "A7kUM7h32-O4",
        "colab_type": "code",
        "colab": {
          "base_uri": "https://localhost:8080/",
          "height": 288
        },
        "outputId": "fc72ef15-006c-4f40-d141-88f6e56598de"
      },
      "source": [
        "# 1=粗砂岩  2=中砂岩   3=细砂岩\n",
        "# 4=粉砂岩 5=白云岩 6=石灰岩 7=泥岩\n",
        "\n",
        "facies_labels = ['CS', 'MS', 'FS', 'SS', 'DM',\n",
        "                 'LS', 'MDS']\n",
        "testing_data.describe()"
      ],
      "execution_count": 7,
      "outputs": [
        {
          "output_type": "execute_result",
          "data": {
            "text/html": [
              "<div>\n",
              "<style scoped>\n",
              "    .dataframe tbody tr th:only-of-type {\n",
              "        vertical-align: middle;\n",
              "    }\n",
              "\n",
              "    .dataframe tbody tr th {\n",
              "        vertical-align: top;\n",
              "    }\n",
              "\n",
              "    .dataframe thead th {\n",
              "        text-align: right;\n",
              "    }\n",
              "</style>\n",
              "<table border=\"1\" class=\"dataframe\">\n",
              "  <thead>\n",
              "    <tr style=\"text-align: right;\">\n",
              "      <th></th>\n",
              "      <th>AC</th>\n",
              "      <th>CAL</th>\n",
              "      <th>GR</th>\n",
              "      <th>K</th>\n",
              "      <th>RD</th>\n",
              "      <th>SP</th>\n",
              "      <th>Core Lithology</th>\n",
              "    </tr>\n",
              "  </thead>\n",
              "  <tbody>\n",
              "    <tr>\n",
              "      <th>count</th>\n",
              "      <td>366.000000</td>\n",
              "      <td>366.000000</td>\n",
              "      <td>366.000000</td>\n",
              "      <td>366.000000</td>\n",
              "      <td>366.000000</td>\n",
              "      <td>366.000000</td>\n",
              "      <td>366.000000</td>\n",
              "    </tr>\n",
              "    <tr>\n",
              "      <th>mean</th>\n",
              "      <td>0.214074</td>\n",
              "      <td>0.148747</td>\n",
              "      <td>0.147995</td>\n",
              "      <td>0.330942</td>\n",
              "      <td>0.046567</td>\n",
              "      <td>0.389129</td>\n",
              "      <td>4.215847</td>\n",
              "    </tr>\n",
              "    <tr>\n",
              "      <th>std</th>\n",
              "      <td>0.108781</td>\n",
              "      <td>0.144160</td>\n",
              "      <td>0.087543</td>\n",
              "      <td>0.181384</td>\n",
              "      <td>0.080542</td>\n",
              "      <td>0.196271</td>\n",
              "      <td>2.072619</td>\n",
              "    </tr>\n",
              "    <tr>\n",
              "      <th>min</th>\n",
              "      <td>0.003611</td>\n",
              "      <td>0.007118</td>\n",
              "      <td>0.005029</td>\n",
              "      <td>0.025971</td>\n",
              "      <td>0.001420</td>\n",
              "      <td>-0.061365</td>\n",
              "      <td>1.000000</td>\n",
              "    </tr>\n",
              "    <tr>\n",
              "      <th>25%</th>\n",
              "      <td>0.162638</td>\n",
              "      <td>0.052989</td>\n",
              "      <td>0.079442</td>\n",
              "      <td>0.194786</td>\n",
              "      <td>0.012828</td>\n",
              "      <td>0.317109</td>\n",
              "      <td>2.000000</td>\n",
              "    </tr>\n",
              "    <tr>\n",
              "      <th>50%</th>\n",
              "      <td>0.215371</td>\n",
              "      <td>0.098682</td>\n",
              "      <td>0.132807</td>\n",
              "      <td>0.302396</td>\n",
              "      <td>0.022275</td>\n",
              "      <td>0.379000</td>\n",
              "      <td>4.000000</td>\n",
              "    </tr>\n",
              "    <tr>\n",
              "      <th>75%</th>\n",
              "      <td>0.269240</td>\n",
              "      <td>0.179492</td>\n",
              "      <td>0.217013</td>\n",
              "      <td>0.456563</td>\n",
              "      <td>0.047410</td>\n",
              "      <td>0.435390</td>\n",
              "      <td>7.000000</td>\n",
              "    </tr>\n",
              "    <tr>\n",
              "      <th>max</th>\n",
              "      <td>0.713160</td>\n",
              "      <td>0.994694</td>\n",
              "      <td>0.483319</td>\n",
              "      <td>0.994363</td>\n",
              "      <td>0.891134</td>\n",
              "      <td>0.997070</td>\n",
              "      <td>7.000000</td>\n",
              "    </tr>\n",
              "  </tbody>\n",
              "</table>\n",
              "</div>"
            ],
            "text/plain": [
              "               AC         CAL  ...          SP  Core Lithology\n",
              "count  366.000000  366.000000  ...  366.000000      366.000000\n",
              "mean     0.214074    0.148747  ...    0.389129        4.215847\n",
              "std      0.108781    0.144160  ...    0.196271        2.072619\n",
              "min      0.003611    0.007118  ...   -0.061365        1.000000\n",
              "25%      0.162638    0.052989  ...    0.317109        2.000000\n",
              "50%      0.215371    0.098682  ...    0.379000        4.000000\n",
              "75%      0.269240    0.179492  ...    0.435390        7.000000\n",
              "max      0.713160    0.994694  ...    0.997070        7.000000\n",
              "\n",
              "[8 rows x 7 columns]"
            ]
          },
          "metadata": {
            "tags": []
          },
          "execution_count": 7
        }
      ]
    },
    {
      "cell_type": "markdown",
      "metadata": {
        "id": "HeCzbkegoxv3",
        "colab_type": "text"
      },
      "source": [
        "##继续处理数据"
      ]
    },
    {
      "cell_type": "code",
      "metadata": {
        "scrolled": true,
        "id": "fdx8XRKqoxv3",
        "colab_type": "code",
        "colab": {
          "base_uri": "https://localhost:8080/",
          "height": 288
        },
        "outputId": "279bbf6e-8dad-49e9-fa1c-324101de21b5"
      },
      "source": [
        "correct_facies_labels = training_data['Core Lithology'].values\n",
        "correct_facies_labels_test = testing_data['Core Lithology'].values\n",
        "feature_vectors = training_data.drop(['Core Lithology'], axis=1)\n",
        "feature_vectors_test = testing_data.drop(['Core Lithology'], axis=1)\n",
        "feature_vectors.describe()\n",
        "feature_vectors_test.describe()"
      ],
      "execution_count": 8,
      "outputs": [
        {
          "output_type": "execute_result",
          "data": {
            "text/html": [
              "<div>\n",
              "<style scoped>\n",
              "    .dataframe tbody tr th:only-of-type {\n",
              "        vertical-align: middle;\n",
              "    }\n",
              "\n",
              "    .dataframe tbody tr th {\n",
              "        vertical-align: top;\n",
              "    }\n",
              "\n",
              "    .dataframe thead th {\n",
              "        text-align: right;\n",
              "    }\n",
              "</style>\n",
              "<table border=\"1\" class=\"dataframe\">\n",
              "  <thead>\n",
              "    <tr style=\"text-align: right;\">\n",
              "      <th></th>\n",
              "      <th>AC</th>\n",
              "      <th>CAL</th>\n",
              "      <th>GR</th>\n",
              "      <th>K</th>\n",
              "      <th>RD</th>\n",
              "      <th>SP</th>\n",
              "    </tr>\n",
              "  </thead>\n",
              "  <tbody>\n",
              "    <tr>\n",
              "      <th>count</th>\n",
              "      <td>366.000000</td>\n",
              "      <td>366.000000</td>\n",
              "      <td>366.000000</td>\n",
              "      <td>366.000000</td>\n",
              "      <td>366.000000</td>\n",
              "      <td>366.000000</td>\n",
              "    </tr>\n",
              "    <tr>\n",
              "      <th>mean</th>\n",
              "      <td>0.214074</td>\n",
              "      <td>0.148747</td>\n",
              "      <td>0.147995</td>\n",
              "      <td>0.330942</td>\n",
              "      <td>0.046567</td>\n",
              "      <td>0.389129</td>\n",
              "    </tr>\n",
              "    <tr>\n",
              "      <th>std</th>\n",
              "      <td>0.108781</td>\n",
              "      <td>0.144160</td>\n",
              "      <td>0.087543</td>\n",
              "      <td>0.181384</td>\n",
              "      <td>0.080542</td>\n",
              "      <td>0.196271</td>\n",
              "    </tr>\n",
              "    <tr>\n",
              "      <th>min</th>\n",
              "      <td>0.003611</td>\n",
              "      <td>0.007118</td>\n",
              "      <td>0.005029</td>\n",
              "      <td>0.025971</td>\n",
              "      <td>0.001420</td>\n",
              "      <td>-0.061365</td>\n",
              "    </tr>\n",
              "    <tr>\n",
              "      <th>25%</th>\n",
              "      <td>0.162638</td>\n",
              "      <td>0.052989</td>\n",
              "      <td>0.079442</td>\n",
              "      <td>0.194786</td>\n",
              "      <td>0.012828</td>\n",
              "      <td>0.317109</td>\n",
              "    </tr>\n",
              "    <tr>\n",
              "      <th>50%</th>\n",
              "      <td>0.215371</td>\n",
              "      <td>0.098682</td>\n",
              "      <td>0.132807</td>\n",
              "      <td>0.302396</td>\n",
              "      <td>0.022275</td>\n",
              "      <td>0.379000</td>\n",
              "    </tr>\n",
              "    <tr>\n",
              "      <th>75%</th>\n",
              "      <td>0.269240</td>\n",
              "      <td>0.179492</td>\n",
              "      <td>0.217013</td>\n",
              "      <td>0.456563</td>\n",
              "      <td>0.047410</td>\n",
              "      <td>0.435390</td>\n",
              "    </tr>\n",
              "    <tr>\n",
              "      <th>max</th>\n",
              "      <td>0.713160</td>\n",
              "      <td>0.994694</td>\n",
              "      <td>0.483319</td>\n",
              "      <td>0.994363</td>\n",
              "      <td>0.891134</td>\n",
              "      <td>0.997070</td>\n",
              "    </tr>\n",
              "  </tbody>\n",
              "</table>\n",
              "</div>"
            ],
            "text/plain": [
              "               AC         CAL          GR           K          RD          SP\n",
              "count  366.000000  366.000000  366.000000  366.000000  366.000000  366.000000\n",
              "mean     0.214074    0.148747    0.147995    0.330942    0.046567    0.389129\n",
              "std      0.108781    0.144160    0.087543    0.181384    0.080542    0.196271\n",
              "min      0.003611    0.007118    0.005029    0.025971    0.001420   -0.061365\n",
              "25%      0.162638    0.052989    0.079442    0.194786    0.012828    0.317109\n",
              "50%      0.215371    0.098682    0.132807    0.302396    0.022275    0.379000\n",
              "75%      0.269240    0.179492    0.217013    0.456563    0.047410    0.435390\n",
              "max      0.713160    0.994694    0.483319    0.994363    0.891134    0.997070"
            ]
          },
          "metadata": {
            "tags": []
          },
          "execution_count": 8
        }
      ]
    },
    {
      "cell_type": "markdown",
      "metadata": {
        "id": "MEDwUBRLoxv6",
        "colab_type": "text"
      },
      "source": [
        "Scikit包含一个预处理模块，可以“标准化”数据（赋予每个变量零均值和单位方差，也称为白化）。 许多机器学习算法都假定特征将是标准的正态分布数据（即：均值和单位方差为零的高斯）。 用于标准化训练集的因素必须应用于将输入到分类器的任何后续功能集中。 StandardScalar类可以适合于训练集，并在以后用于标准化任何训练数据。"
      ]
    },
    {
      "cell_type": "code",
      "metadata": {
        "id": "bz6rBg4ooxv6",
        "colab_type": "code",
        "colab": {}
      },
      "source": [
        "from sklearn import preprocessing\n",
        "\n",
        "scaler = preprocessing.StandardScaler().fit(feature_vectors)\n",
        "scaled_features = scaler.transform(feature_vectors)\n",
        "scaler_test = preprocessing.StandardScaler().fit(feature_vectors_test)\n",
        "scaled_features_test = scaler.transform(feature_vectors_test)"
      ],
      "execution_count": 15,
      "outputs": []
    },
    {
      "cell_type": "code",
      "metadata": {
        "id": "IiC-N8VUoxv9",
        "colab_type": "code",
        "colab": {
          "base_uri": "https://localhost:8080/",
          "height": 407
        },
        "outputId": "65cd0143-b446-4d43-95a5-d6ef89edf93d"
      },
      "source": [
        "feature_vectors"
      ],
      "execution_count": null,
      "outputs": [
        {
          "output_type": "execute_result",
          "data": {
            "text/html": [
              "<div>\n",
              "<style scoped>\n",
              "    .dataframe tbody tr th:only-of-type {\n",
              "        vertical-align: middle;\n",
              "    }\n",
              "\n",
              "    .dataframe tbody tr th {\n",
              "        vertical-align: top;\n",
              "    }\n",
              "\n",
              "    .dataframe thead th {\n",
              "        text-align: right;\n",
              "    }\n",
              "</style>\n",
              "<table border=\"1\" class=\"dataframe\">\n",
              "  <thead>\n",
              "    <tr style=\"text-align: right;\">\n",
              "      <th></th>\n",
              "      <th>AC</th>\n",
              "      <th>CAL</th>\n",
              "      <th>GR</th>\n",
              "      <th>K</th>\n",
              "      <th>RD</th>\n",
              "      <th>SP</th>\n",
              "    </tr>\n",
              "  </thead>\n",
              "  <tbody>\n",
              "    <tr>\n",
              "      <th>0</th>\n",
              "      <td>0.029102</td>\n",
              "      <td>0.031789</td>\n",
              "      <td>0.026724</td>\n",
              "      <td>0.202335</td>\n",
              "      <td>0.078986</td>\n",
              "      <td>0.333754</td>\n",
              "    </tr>\n",
              "    <tr>\n",
              "      <th>1</th>\n",
              "      <td>0.032883</td>\n",
              "      <td>0.033469</td>\n",
              "      <td>0.030592</td>\n",
              "      <td>0.203141</td>\n",
              "      <td>0.076064</td>\n",
              "      <td>0.333669</td>\n",
              "    </tr>\n",
              "    <tr>\n",
              "      <th>2</th>\n",
              "      <td>0.034385</td>\n",
              "      <td>0.037006</td>\n",
              "      <td>0.032359</td>\n",
              "      <td>0.200121</td>\n",
              "      <td>0.074503</td>\n",
              "      <td>0.333619</td>\n",
              "    </tr>\n",
              "    <tr>\n",
              "      <th>3</th>\n",
              "      <td>0.243816</td>\n",
              "      <td>0.143381</td>\n",
              "      <td>0.086581</td>\n",
              "      <td>0.290115</td>\n",
              "      <td>0.017649</td>\n",
              "      <td>0.094025</td>\n",
              "    </tr>\n",
              "    <tr>\n",
              "      <th>4</th>\n",
              "      <td>0.248043</td>\n",
              "      <td>0.146786</td>\n",
              "      <td>0.084643</td>\n",
              "      <td>0.283874</td>\n",
              "      <td>0.017286</td>\n",
              "      <td>0.090554</td>\n",
              "    </tr>\n",
              "    <tr>\n",
              "      <th>...</th>\n",
              "      <td>...</td>\n",
              "      <td>...</td>\n",
              "      <td>...</td>\n",
              "      <td>...</td>\n",
              "      <td>...</td>\n",
              "      <td>...</td>\n",
              "    </tr>\n",
              "    <tr>\n",
              "      <th>3340</th>\n",
              "      <td>0.012092</td>\n",
              "      <td>0.067866</td>\n",
              "      <td>0.007657</td>\n",
              "      <td>0.077713</td>\n",
              "      <td>0.181798</td>\n",
              "      <td>0.348797</td>\n",
              "    </tr>\n",
              "    <tr>\n",
              "      <th>3341</th>\n",
              "      <td>0.011831</td>\n",
              "      <td>0.069989</td>\n",
              "      <td>0.007606</td>\n",
              "      <td>0.081135</td>\n",
              "      <td>0.206839</td>\n",
              "      <td>0.348560</td>\n",
              "    </tr>\n",
              "    <tr>\n",
              "      <th>3342</th>\n",
              "      <td>0.011533</td>\n",
              "      <td>0.070121</td>\n",
              "      <td>0.009591</td>\n",
              "      <td>0.081337</td>\n",
              "      <td>0.250115</td>\n",
              "      <td>0.348470</td>\n",
              "    </tr>\n",
              "    <tr>\n",
              "      <th>3343</th>\n",
              "      <td>0.008903</td>\n",
              "      <td>0.069325</td>\n",
              "      <td>0.010596</td>\n",
              "      <td>0.081135</td>\n",
              "      <td>0.281774</td>\n",
              "      <td>0.348340</td>\n",
              "    </tr>\n",
              "    <tr>\n",
              "      <th>3344</th>\n",
              "      <td>0.003230</td>\n",
              "      <td>0.070210</td>\n",
              "      <td>0.012674</td>\n",
              "      <td>0.080129</td>\n",
              "      <td>0.329088</td>\n",
              "      <td>0.348228</td>\n",
              "    </tr>\n",
              "  </tbody>\n",
              "</table>\n",
              "<p>3345 rows × 6 columns</p>\n",
              "</div>"
            ],
            "text/plain": [
              "            AC       CAL        GR         K        RD        SP\n",
              "0     0.029102  0.031789  0.026724  0.202335  0.078986  0.333754\n",
              "1     0.032883  0.033469  0.030592  0.203141  0.076064  0.333669\n",
              "2     0.034385  0.037006  0.032359  0.200121  0.074503  0.333619\n",
              "3     0.243816  0.143381  0.086581  0.290115  0.017649  0.094025\n",
              "4     0.248043  0.146786  0.084643  0.283874  0.017286  0.090554\n",
              "...        ...       ...       ...       ...       ...       ...\n",
              "3340  0.012092  0.067866  0.007657  0.077713  0.181798  0.348797\n",
              "3341  0.011831  0.069989  0.007606  0.081135  0.206839  0.348560\n",
              "3342  0.011533  0.070121  0.009591  0.081337  0.250115  0.348470\n",
              "3343  0.008903  0.069325  0.010596  0.081135  0.281774  0.348340\n",
              "3344  0.003230  0.070210  0.012674  0.080129  0.329088  0.348228\n",
              "\n",
              "[3345 rows x 6 columns]"
            ]
          },
          "metadata": {
            "tags": []
          },
          "execution_count": 13
        }
      ]
    },
    {
      "cell_type": "code",
      "metadata": {
        "id": "bixBrTzs5qLy",
        "colab_type": "code",
        "colab": {
          "base_uri": "https://localhost:8080/",
          "height": 407
        },
        "outputId": "b5a3061b-72af-4f09-915f-ca69ed5fbe8c"
      },
      "source": [
        "feature_vectors_test"
      ],
      "execution_count": null,
      "outputs": [
        {
          "output_type": "execute_result",
          "data": {
            "text/html": [
              "<div>\n",
              "<style scoped>\n",
              "    .dataframe tbody tr th:only-of-type {\n",
              "        vertical-align: middle;\n",
              "    }\n",
              "\n",
              "    .dataframe tbody tr th {\n",
              "        vertical-align: top;\n",
              "    }\n",
              "\n",
              "    .dataframe thead th {\n",
              "        text-align: right;\n",
              "    }\n",
              "</style>\n",
              "<table border=\"1\" class=\"dataframe\">\n",
              "  <thead>\n",
              "    <tr style=\"text-align: right;\">\n",
              "      <th></th>\n",
              "      <th>AC</th>\n",
              "      <th>CAL</th>\n",
              "      <th>GR</th>\n",
              "      <th>K</th>\n",
              "      <th>RD</th>\n",
              "      <th>SP</th>\n",
              "    </tr>\n",
              "  </thead>\n",
              "  <tbody>\n",
              "    <tr>\n",
              "      <th>0</th>\n",
              "      <td>0.038756</td>\n",
              "      <td>0.026970</td>\n",
              "      <td>0.094776</td>\n",
              "      <td>0.112543</td>\n",
              "      <td>0.001420</td>\n",
              "      <td>0.614504</td>\n",
              "    </tr>\n",
              "    <tr>\n",
              "      <th>1</th>\n",
              "      <td>0.347382</td>\n",
              "      <td>0.090194</td>\n",
              "      <td>0.145150</td>\n",
              "      <td>0.202335</td>\n",
              "      <td>0.002744</td>\n",
              "      <td>0.339568</td>\n",
              "    </tr>\n",
              "    <tr>\n",
              "      <th>2</th>\n",
              "      <td>0.218400</td>\n",
              "      <td>0.059510</td>\n",
              "      <td>0.252165</td>\n",
              "      <td>0.711295</td>\n",
              "      <td>0.003874</td>\n",
              "      <td>0.918567</td>\n",
              "    </tr>\n",
              "    <tr>\n",
              "      <th>3</th>\n",
              "      <td>0.366064</td>\n",
              "      <td>0.082147</td>\n",
              "      <td>0.149304</td>\n",
              "      <td>0.201731</td>\n",
              "      <td>0.003290</td>\n",
              "      <td>0.343180</td>\n",
              "    </tr>\n",
              "    <tr>\n",
              "      <th>4</th>\n",
              "      <td>0.291877</td>\n",
              "      <td>0.079981</td>\n",
              "      <td>0.141782</td>\n",
              "      <td>0.289309</td>\n",
              "      <td>0.003455</td>\n",
              "      <td>0.344605</td>\n",
              "    </tr>\n",
              "    <tr>\n",
              "      <th>...</th>\n",
              "      <td>...</td>\n",
              "      <td>...</td>\n",
              "      <td>...</td>\n",
              "      <td>...</td>\n",
              "      <td>...</td>\n",
              "      <td>...</td>\n",
              "    </tr>\n",
              "    <tr>\n",
              "      <th>361</th>\n",
              "      <td>0.016947</td>\n",
              "      <td>0.138827</td>\n",
              "      <td>0.118400</td>\n",
              "      <td>0.358567</td>\n",
              "      <td>0.281687</td>\n",
              "      <td>0.302936</td>\n",
              "    </tr>\n",
              "    <tr>\n",
              "      <th>362</th>\n",
              "      <td>0.131043</td>\n",
              "      <td>0.069016</td>\n",
              "      <td>0.029354</td>\n",
              "      <td>0.060197</td>\n",
              "      <td>0.282093</td>\n",
              "      <td>0.253809</td>\n",
              "    </tr>\n",
              "    <tr>\n",
              "      <th>363</th>\n",
              "      <td>0.036182</td>\n",
              "      <td>0.032010</td>\n",
              "      <td>0.030090</td>\n",
              "      <td>0.071069</td>\n",
              "      <td>0.359737</td>\n",
              "      <td>0.435486</td>\n",
              "    </tr>\n",
              "    <tr>\n",
              "      <th>364</th>\n",
              "      <td>0.014562</td>\n",
              "      <td>0.127332</td>\n",
              "      <td>0.035014</td>\n",
              "      <td>0.178579</td>\n",
              "      <td>0.803566</td>\n",
              "      <td>0.311641</td>\n",
              "    </tr>\n",
              "    <tr>\n",
              "      <th>365</th>\n",
              "      <td>0.014427</td>\n",
              "      <td>0.134185</td>\n",
              "      <td>0.033460</td>\n",
              "      <td>0.186430</td>\n",
              "      <td>0.891134</td>\n",
              "      <td>0.311652</td>\n",
              "    </tr>\n",
              "  </tbody>\n",
              "</table>\n",
              "<p>366 rows × 6 columns</p>\n",
              "</div>"
            ],
            "text/plain": [
              "           AC       CAL        GR         K        RD        SP\n",
              "0    0.038756  0.026970  0.094776  0.112543  0.001420  0.614504\n",
              "1    0.347382  0.090194  0.145150  0.202335  0.002744  0.339568\n",
              "2    0.218400  0.059510  0.252165  0.711295  0.003874  0.918567\n",
              "3    0.366064  0.082147  0.149304  0.201731  0.003290  0.343180\n",
              "4    0.291877  0.079981  0.141782  0.289309  0.003455  0.344605\n",
              "..        ...       ...       ...       ...       ...       ...\n",
              "361  0.016947  0.138827  0.118400  0.358567  0.281687  0.302936\n",
              "362  0.131043  0.069016  0.029354  0.060197  0.282093  0.253809\n",
              "363  0.036182  0.032010  0.030090  0.071069  0.359737  0.435486\n",
              "364  0.014562  0.127332  0.035014  0.178579  0.803566  0.311641\n",
              "365  0.014427  0.134185  0.033460  0.186430  0.891134  0.311652\n",
              "\n",
              "[366 rows x 6 columns]"
            ]
          },
          "metadata": {
            "tags": []
          },
          "execution_count": 14
        }
      ]
    },
    {
      "cell_type": "markdown",
      "metadata": {
        "id": "1WZaSxbaoxwD",
        "colab_type": "text"
      },
      "source": [
        "##导入本地py模块\n"
      ]
    },
    {
      "cell_type": "code",
      "metadata": {
        "id": "FjGb0UhWYPbu",
        "colab_type": "code",
        "colab": {}
      },
      "source": [
        "import sys\n",
        "sys.path.append('/content/drive/My Drive/Colab Notebooks/Machine-Learning-From-Scratch-master')"
      ],
      "execution_count": 10,
      "outputs": []
    },
    {
      "cell_type": "code",
      "metadata": {
        "id": "KHf61uM9pzdt",
        "colab_type": "code",
        "colab": {}
      },
      "source": [
        "X_train = scaled_features\n",
        "X_test = scaled_features_test\n",
        "y_train = correct_facies_labels\n",
        "y_test = correct_facies_labels_test"
      ],
      "execution_count": 11,
      "outputs": []
    },
    {
      "cell_type": "markdown",
      "metadata": {
        "id": "tjYep1ppoxwI",
        "colab_type": "text"
      },
      "source": [
        "##使用KNN\n",
        "\n"
      ]
    },
    {
      "cell_type": "code",
      "metadata": {
        "id": "mWRb1D0TTJpL",
        "colab_type": "code",
        "colab": {
          "base_uri": "https://localhost:8080/",
          "height": 325
        },
        "outputId": "78ec1907-b773-4788-cf16-c366245a82b4"
      },
      "source": [
        "import numpy as np\n",
        "import matplotlib.pyplot as plt\n",
        "from sklearn import datasets\n",
        "\n",
        "from utils import train_test_split, normalize, accuracy_score\n",
        "from utils import euclidean_distance, Plot\n",
        "class KNN():\n",
        "\n",
        "    def __init__(self,k=5):\n",
        "\n",
        "        self.k = k\n",
        "    def predict(self, X_test, X_train, y_train):\n",
        "\n",
        "        y_predict = np.zeros(X_test.shape[0])\n",
        "\n",
        "        for i in range(X_test.shape[0]):\n",
        "\n",
        "            distances = np.zeros((X_train.shape[0], 2)) #测试的数据和训练的各个数据的欧式距离\n",
        "\n",
        "            for j in range(X_train.shape[0]):\n",
        "                dis = euclidean_distance(X_test[i], X_train[j]) #计算欧式距离\n",
        "                label = y_train[j] #测试集到的每个训练集的数据的分类标签\n",
        "                distances[j] = [dis, label]\n",
        "\n",
        "                # argsort()得到测试集到训练的各个数据的欧式距离从小到大排列并且得到序列，然后再取前k个.\n",
        "                k_nearest_neighbors = distances[distances[:, 0].argsort()][:self.k]\n",
        "\n",
        "                #利用np.bincount统计k个近邻里面各类别出现的次数\n",
        "                counts = np.bincount(k_nearest_neighbors[:, 1].astype('int'))\n",
        "\n",
        "                #得出每个测试数据k个近邻里面各类别出现的次数最多的类别\n",
        "                testLabel = counts.argmax()\n",
        "                y_predict[i] = testLabel\n",
        "\n",
        "        return y_predict\n",
        "\n",
        "def run():\n",
        "    #初始化knn\n",
        "    model = KNN(k=5)\n",
        "    y_pred = model.predict(X_test, X_train, y_train)\n",
        "\n",
        "    accuracy = accuracy_score(y_test, y_pred)\n",
        "\n",
        "    print(\"Accuracy:\", accuracy)\n",
        "\n",
        "    # 用图画出测试集的分类情况\n",
        "    Plot().plot_in_2d(X_test, y_pred, title=\"KNN\", accuracy=accuracy)\n",
        "\n",
        "\n",
        "if __name__ == \"__main__\":\n",
        "    run()"
      ],
      "execution_count": null,
      "outputs": [
        {
          "output_type": "stream",
          "text": [
            "Accuracy: 0.8497267759562842\n"
          ],
          "name": "stdout"
        },
        {
          "output_type": "display_data",
          "data": {
            "image/png": "[encoded data removed]",
            "text/plain": [
              "<Figure size 432x288 with 1 Axes>"
            ]
          },
          "metadata": {
            "tags": [],
            "needs_background": "light"
          }
        }
      ]
    },
    {
      "cell_type": "markdown",
      "metadata": {
        "id": "r_r1dwF2oxwO",
        "colab_type": "text"
      },
      "source": [
        "##分类混淆矩阵"
      ]
    },
    {
      "cell_type": "markdown",
      "metadata": {
        "id": "BT0VKigGmQ9y",
        "colab_type": "text"
      },
      "source": [
        "这里需要导入一个py模块具体方法如下："
      ]
    },
    {
      "cell_type": "code",
      "metadata": {
        "id": "tSgtFGommg4b",
        "colab_type": "code",
        "colab": {
          "base_uri": "https://localhost:8080/",
          "height": 55
        },
        "outputId": "8e2fda70-ebc2-4cc8-8ac4-652853f33132"
      },
      "source": [
        "#导入py模块\n",
        "from google.colab import drive\n",
        "drive.mount('/content/drive/')\n",
        "#加入路径\n",
        "import sys\n",
        "sys.path.append('/content/drive/My Drive/Colab Notebooks/')"
      ],
      "execution_count": null,
      "outputs": [
        {
          "output_type": "stream",
          "text": [
            "Drive already mounted at /content/drive/; to attempt to forcibly remount, call drive.mount(\"/content/drive/\", force_remount=True).\n"
          ],
          "name": "stdout"
        }
      ]
    },
    {
      "cell_type": "code",
      "metadata": {
        "id": "b4HrWWJjoxwP",
        "colab_type": "code",
        "colab": {
          "base_uri": "https://localhost:8080/",
          "height": 173
        },
        "outputId": "dedcfe5e-829f-4550-d8c4-ac86c4f4ff31"
      },
      "source": [
        "from sklearn.metrics import confusion_matrix\n",
        "from classification_utilities import display_cm, display_adj_cm\n",
        "conf = confusion_matrix(y_test, correct_facies_labels_test)\n",
        "display_cm(conf, facies_labels, hide_zeros=True)"
      ],
      "execution_count": null,
      "outputs": [
        {
          "output_type": "stream",
          "text": [
            "     Pred    CS    MS    FS    SS    DM    LS   MDS Total\n",
            "     True\n",
            "       CS    20                                        20\n",
            "       MS          80                                  80\n",
            "       FS                80                            80\n",
            "       SS                      20                      20\n",
            "       DM                            53                53\n",
            "       LS                                  13          13\n",
            "      MDS                                       100   100\n"
          ],
          "name": "stdout"
        }
      ]
    },
    {
      "cell_type": "markdown",
      "metadata": {
        "id": "WVNXWEBuZn9u",
        "colab_type": "text"
      },
      "source": [
        "##实现gbdt"
      ]
    },
    {
      "cell_type": "code",
      "metadata": {
        "id": "TueE172lZmn9",
        "colab_type": "code",
        "colab": {
          "base_uri": "https://localhost:8080/",
          "height": 35
        },
        "outputId": "976635e4-5d14-4192-9d5d-a809fd5cb58d"
      },
      "source": [
        "max_depth=4\n",
        "max_features=10\n",
        "n_estimators=80\n",
        "from sklearn.ensemble import GradientBoostingClassifier\n",
        "import sklearn.metrics\n",
        "gbm0= GradientBoostingClassifier(random_state=10)\n",
        "gbm0.fit(X_train,y_train)\n",
        "y_pred= gbm0.predict(X_test)\n",
        "print(\"Accuracy : %.4f\" % sklearn.metrics.accuracy_score(y_test, y_pred))"
      ],
      "execution_count": null,
      "outputs": [
        {
          "output_type": "stream",
          "text": [
            "Accuracy : 0.8333\n"
          ],
          "name": "stdout"
        }
      ]
    },
    {
      "cell_type": "code",
      "metadata": {
        "id": "mv6q8HrHc0vT",
        "colab_type": "code",
        "colab": {
          "base_uri": "https://localhost:8080/",
          "height": 173
        },
        "outputId": "14beacb6-eb70-409b-ddd5-a7aa51170abf"
      },
      "source": [
        "from sklearn.metrics import confusion_matrix\n",
        "from classification_utilities import display_cm, display_adj_cm\n",
        "conf = confusion_matrix(y_test, correct_facies_labels_test)\n",
        "display_cm(conf, facies_labels, hide_zeros=True)"
      ],
      "execution_count": null,
      "outputs": [
        {
          "output_type": "stream",
          "text": [
            "     Pred    CS    MS    FS    SS    DM    LS   MDS Total\n",
            "     True\n",
            "       CS    20                                        20\n",
            "       MS          80                                  80\n",
            "       FS                80                            80\n",
            "       SS                      20                      20\n",
            "       DM                            53                53\n",
            "       LS                                  13          13\n",
            "      MDS                                       100   100\n"
          ],
          "name": "stdout"
        }
      ]
    },
    {
      "cell_type": "markdown",
      "metadata": {
        "id": "07ffsrfrctbh",
        "colab_type": "text"
      },
      "source": [
        "##随机森林\n",
        "\n"
      ]
    },
    {
      "cell_type": "code",
      "metadata": {
        "id": "U9yut51WdBuS",
        "colab_type": "code",
        "colab": {}
      },
      "source": [
        "import sys\n",
        "sys.path.append('/content/Machine-Learning-From-Scratch')"
      ],
      "execution_count": null,
      "outputs": []
    },
    {
      "cell_type": "code",
      "metadata": {
        "id": "fckcyOhbcm9l",
        "colab_type": "code",
        "colab": {
          "base_uri": "https://localhost:8080/",
          "height": 587
        },
        "outputId": "d05a7048-245c-44d8-f120-c5a99e862f32"
      },
      "source": [
        "from sklearn.ensemble import RandomForestClassifier\n",
        "from sklearn import metrics\n",
        "\n",
        "rfmodel = RandomForestClassifier()\n",
        "rfmodel.fit(X_train,y_train)\n",
        "print('model')\n",
        "print(rfmodel)\n",
        "\n",
        "ypredrf1 = rfmodel.predict(X_test)\n",
        "print('confusion matrix')\n",
        "print(metrics.confusion_matrix(y_test, ypredrf1))\n",
        "print('classification report')\n",
        "print(metrics.classification_report(y_test, ypredrf1))\n",
        "print('Accuracy : %f' % (metrics.accuracy_score(y_test, ypredrf1)))"
      ],
      "execution_count": null,
      "outputs": [
        {
          "output_type": "stream",
          "text": [
            "model\n",
            "RandomForestClassifier(bootstrap=True, ccp_alpha=0.0, class_weight=None,\n",
            "                       criterion='gini', max_depth=None, max_features='auto',\n",
            "                       max_leaf_nodes=None, max_samples=None,\n",
            "                       min_impurity_decrease=0.0, min_impurity_split=None,\n",
            "                       min_samples_leaf=1, min_samples_split=2,\n",
            "                       min_weight_fraction_leaf=0.0, n_estimators=100,\n",
            "                       n_jobs=None, oob_score=False, random_state=None,\n",
            "                       verbose=0, warm_start=False)\n",
            "confusion matrix\n",
            "[[17  3  0  0  0  0  0]\n",
            " [ 0 72  2  0  0  0  6]\n",
            " [ 0  1 75  3  0  0  1]\n",
            " [ 0  3  1 15  0  0  1]\n",
            " [ 0  0  0  0 52  0  1]\n",
            " [ 0  0  0  0  0 13  0]\n",
            " [ 0  7  6  1  1  0 85]]\n",
            "classification report\n",
            "              precision    recall  f1-score   support\n",
            "\n",
            "           1       1.00      0.85      0.92        20\n",
            "           2       0.84      0.90      0.87        80\n",
            "           3       0.89      0.94      0.91        80\n",
            "           4       0.79      0.75      0.77        20\n",
            "           5       0.98      0.98      0.98        53\n",
            "           6       1.00      1.00      1.00        13\n",
            "           7       0.90      0.85      0.88       100\n",
            "\n",
            "    accuracy                           0.90       366\n",
            "   macro avg       0.91      0.90      0.90       366\n",
            "weighted avg       0.90      0.90      0.90       366\n",
            "\n",
            "Accuracy : 0.898907\n"
          ],
          "name": "stdout"
        }
      ]
    },
    {
      "cell_type": "code",
      "metadata": {
        "id": "G5fedIzsQ-jC",
        "colab_type": "code",
        "colab": {
          "base_uri": "https://localhost:8080/",
          "height": 55
        },
        "outputId": "b6178ecd-e665-435e-d2ff-c60e0ab5f7b7"
      },
      "source": [
        "#导入py模块\n",
        "from google.colab import drive\n",
        "drive.mount('/content/drive/')\n",
        "#加入路径\n",
        "import sys\n",
        "sys.path.append('/content/drive/My Drive/Colab Notebooks/')"
      ],
      "execution_count": null,
      "outputs": [
        {
          "output_type": "stream",
          "text": [
            "Drive already mounted at /content/drive/; to attempt to forcibly remount, call drive.mount(\"/content/drive/\", force_remount=True).\n"
          ],
          "name": "stdout"
        }
      ]
    },
    {
      "cell_type": "code",
      "metadata": {
        "id": "353yCbEiREJN",
        "colab_type": "code",
        "colab": {
          "base_uri": "https://localhost:8080/",
          "height": 173
        },
        "outputId": "00b2f662-74bc-4816-8cdc-bda64b8735ad"
      },
      "source": [
        "from sklearn.metrics import confusion_matrix\n",
        "from classification_utilities import display_cm, display_adj_cm\n",
        "conf = confusion_matrix(y_test, correct_facies_labels_test)\n",
        "display_cm(conf, facies_labels, hide_zeros=True)"
      ],
      "execution_count": null,
      "outputs": [
        {
          "output_type": "stream",
          "text": [
            "     Pred    CS    MS    FS    SS    DM    LS   MDS Total\n",
            "     True\n",
            "       CS    20                                        20\n",
            "       MS          80                                  80\n",
            "       FS                80                            80\n",
            "       SS                      20                      20\n",
            "       DM                            53                53\n",
            "       LS                                  13          13\n",
            "      MDS                                       100   100\n"
          ],
          "name": "stdout"
        }
      ]
    },
    {
      "cell_type": "markdown",
      "metadata": {
        "id": "7Ujww7BhTbkg",
        "colab_type": "text"
      },
      "source": [
        "##smote过采样"
      ]
    },
    {
      "cell_type": "code",
      "metadata": {
        "id": "NSd7XB_dTenr",
        "colab_type": "code",
        "colab": {
          "base_uri": "https://localhost:8080/",
          "height": 331
        },
        "outputId": "315dc582-ef8c-4751-ffd4-5d980c55c589"
      },
      "source": [
        "from imblearn.over_sampling import SMOTE\n",
        "from collections import Counter\n",
        "sm = SMOTE(random_state=123)\n",
        "X_train_sm, y_train_sm = sm.fit_sample(X_train, y_train)\n",
        "\n",
        "train_x = pd.DataFrame(X_train_sm)\n",
        "train_y = pd.DataFrame(y_train_sm)\n",
        "print(Counter(y_train_sm))"
      ],
      "execution_count": 21,
      "outputs": [
        {
          "output_type": "stream",
          "text": [
            "/usr/local/lib/python3.6/dist-packages/sklearn/externals/six.py:31: FutureWarning: The module is deprecated in version 0.21 and will be removed in version 0.23 since we've dropped support for Python 2.7. Please rely on the official version of six (https://pypi.org/project/six/).\n",
            "  \"(https://pypi.org/project/six/).\", FutureWarning)\n"
          ],
          "name": "stderr"
        },
        {
          "output_type": "stream",
          "text": [
            "Counter({5: 928, 3: 928, 7: 928, 1: 928, 2: 928, 4: 928, 6: 928})\n"
          ],
          "name": "stdout"
        },
        {
          "output_type": "stream",
          "text": [
            "/usr/local/lib/python3.6/dist-packages/sklearn/utils/deprecation.py:144: FutureWarning: The sklearn.neighbors.base module is  deprecated in version 0.22 and will be removed in version 0.24. The corresponding classes / functions should instead be imported from sklearn.neighbors. Anything that cannot be imported from sklearn.neighbors is now part of the private API.\n",
            "  warnings.warn(message, FutureWarning)\n",
            "/usr/local/lib/python3.6/dist-packages/sklearn/utils/deprecation.py:87: FutureWarning: Function safe_indexing is deprecated; safe_indexing is deprecated in version 0.22 and will be removed in version 0.24.\n",
            "  warnings.warn(msg, category=FutureWarning)\n",
            "/usr/local/lib/python3.6/dist-packages/sklearn/utils/deprecation.py:87: FutureWarning: Function safe_indexing is deprecated; safe_indexing is deprecated in version 0.22 and will be removed in version 0.24.\n",
            "  warnings.warn(msg, category=FutureWarning)\n",
            "/usr/local/lib/python3.6/dist-packages/sklearn/utils/deprecation.py:87: FutureWarning: Function safe_indexing is deprecated; safe_indexing is deprecated in version 0.22 and will be removed in version 0.24.\n",
            "  warnings.warn(msg, category=FutureWarning)\n",
            "/usr/local/lib/python3.6/dist-packages/sklearn/utils/deprecation.py:87: FutureWarning: Function safe_indexing is deprecated; safe_indexing is deprecated in version 0.22 and will be removed in version 0.24.\n",
            "  warnings.warn(msg, category=FutureWarning)\n",
            "/usr/local/lib/python3.6/dist-packages/sklearn/utils/deprecation.py:87: FutureWarning: Function safe_indexing is deprecated; safe_indexing is deprecated in version 0.22 and will be removed in version 0.24.\n",
            "  warnings.warn(msg, category=FutureWarning)\n",
            "/usr/local/lib/python3.6/dist-packages/sklearn/utils/deprecation.py:87: FutureWarning: Function safe_indexing is deprecated; safe_indexing is deprecated in version 0.22 and will be removed in version 0.24.\n",
            "  warnings.warn(msg, category=FutureWarning)\n"
          ],
          "name": "stderr"
        }
      ]
    },
    {
      "cell_type": "markdown",
      "metadata": {
        "id": "ubYsXawxUJ6a",
        "colab_type": "text"
      },
      "source": [
        "##使用smote的随机森林"
      ]
    },
    {
      "cell_type": "code",
      "metadata": {
        "colab_type": "code",
        "id": "GukuP1gRUIcJ",
        "colab": {
          "base_uri": "https://localhost:8080/",
          "height": 642
        },
        "outputId": "27136da6-3a4a-4abb-bf23-aadbaca2d8fd"
      },
      "source": [
        "from sklearn.ensemble import RandomForestClassifier\n",
        "from sklearn import metrics\n",
        "\n",
        "rfmodel = RandomForestClassifier()\n",
        "rfmodel.fit(train_x,train_y)\n",
        "print('model')\n",
        "print(rfmodel)\n",
        "\n",
        "ypredrf1 = rfmodel.predict(X_test)\n",
        "print('confusion matrix')\n",
        "print(metrics.confusion_matrix(y_test, ypredrf1))\n",
        "print('classification report')\n",
        "print(metrics.classification_report(y_test, ypredrf1))\n",
        "print('Accuracy : %f' % (metrics.accuracy_score(y_test, ypredrf1)))"
      ],
      "execution_count": null,
      "outputs": [
        {
          "output_type": "stream",
          "text": [
            "/usr/local/lib/python3.6/dist-packages/ipykernel_launcher.py:5: DataConversionWarning: A column-vector y was passed when a 1d array was expected. Please change the shape of y to (n_samples,), for example using ravel().\n",
            "  \"\"\"\n"
          ],
          "name": "stderr"
        },
        {
          "output_type": "stream",
          "text": [
            "model\n",
            "RandomForestClassifier(bootstrap=True, ccp_alpha=0.0, class_weight=None,\n",
            "                       criterion='gini', max_depth=None, max_features='auto',\n",
            "                       max_leaf_nodes=None, max_samples=None,\n",
            "                       min_impurity_decrease=0.0, min_impurity_split=None,\n",
            "                       min_samples_leaf=1, min_samples_split=2,\n",
            "                       min_weight_fraction_leaf=0.0, n_estimators=100,\n",
            "                       n_jobs=None, oob_score=False, random_state=None,\n",
            "                       verbose=0, warm_start=False)\n",
            "confusion matrix\n",
            "[[20  0  0  0  0  0  0]\n",
            " [ 0 72  3  1  0  0  4]\n",
            " [ 0  1 76  2  0  0  1]\n",
            " [ 0  3  1 16  0  0  0]\n",
            " [ 0  0  0  0 53  0  0]\n",
            " [ 0  0  0  0  0 13  0]\n",
            " [ 0  6  5  2  1  0 86]]\n",
            "classification report\n",
            "              precision    recall  f1-score   support\n",
            "\n",
            "           1       1.00      1.00      1.00        20\n",
            "           2       0.88      0.90      0.89        80\n",
            "           3       0.89      0.95      0.92        80\n",
            "           4       0.76      0.80      0.78        20\n",
            "           5       0.98      1.00      0.99        53\n",
            "           6       1.00      1.00      1.00        13\n",
            "           7       0.95      0.86      0.90       100\n",
            "\n",
            "    accuracy                           0.92       366\n",
            "   macro avg       0.92      0.93      0.93       366\n",
            "weighted avg       0.92      0.92      0.92       366\n",
            "\n",
            "Accuracy : 0.918033\n"
          ],
          "name": "stdout"
        }
      ]
    },
    {
      "cell_type": "markdown",
      "metadata": {
        "id": "m147xfrt7zdD",
        "colab_type": "text"
      },
      "source": [
        "##pca处理"
      ]
    },
    {
      "cell_type": "code",
      "metadata": {
        "id": "0qWeytq172tr",
        "colab_type": "code",
        "colab": {}
      },
      "source": [
        "#前置数据处理\n",
        "all_data=pd.read_csv('/content/numpy-/延安油田总数居.csv')\n",
        "all_data_label=all_data['Core Lithology'].values\n",
        "all_data_only=all_data.drop(['Core Lithology'],axis=1)"
      ],
      "execution_count": 44,
      "outputs": []
    },
    {
      "cell_type": "code",
      "metadata": {
        "id": "D96D71hl8Ba9",
        "colab_type": "code",
        "colab": {
          "base_uri": "https://localhost:8080/",
          "height": 281
        },
        "outputId": "deff6bd8-9800-403e-a301-f6bbe1bcdf47"
      },
      "source": [
        "import numpy as np\n",
        "from sklearn.datasets import load_iris\n",
        "from sklearn.decomposition import PCA\n",
        "import matplotlib.pyplot as plt\n",
        "X = all_data_only\n",
        "Y = all_data_label\n",
        "sklearn_pca = PCA(n_components=6)#降到四维\n",
        "data_2d2 = sklearn_pca.fit_transform(X)\n",
        "plt.subplot(122)\n",
        "plt.title(\"sklearn_PCA\")\n",
        "plt.scatter(data_2d2[:, 0], data_2d2[:, 1], c = Y)\n",
        "plt.show()"
      ],
      "execution_count": 58,
      "outputs": [
        {
          "output_type": "display_data",
          "data": {
            "image/png": "[encoded data removed]",
            "text/plain": [
              "<Figure size 432x288 with 1 Axes>"
            ]
          },
          "metadata": {
            "tags": [],
            "needs_background": "light"
          }
        }
      ]
    },
    {
      "cell_type": "code",
      "metadata": {
        "colab_type": "code",
        "id": "IuZ_ErUnmts6",
        "colab": {}
      },
      "source": [
        "from sklearn.model_selection import train_test_split\n",
        "X_train_PCA,X_test_PCA,y_train_PCA,y_test_PCA=train_test_split(data_2d2,all_data_label,test_size=0.2,random_state=42)"
      ],
      "execution_count": 59,
      "outputs": []
    },
    {
      "cell_type": "markdown",
      "metadata": {
        "id": "FwytgV4l-H6a",
        "colab_type": "text"
      },
      "source": [
        "##采用pca后的随机森林"
      ]
    },
    {
      "cell_type": "code",
      "metadata": {
        "id": "_u7iJPPW9wwq",
        "colab_type": "code",
        "colab": {
          "base_uri": "https://localhost:8080/",
          "height": 587
        },
        "outputId": "46ad352a-70af-407b-d39b-79e777992a79"
      },
      "source": [
        "from sklearn.ensemble import RandomForestClassifier\n",
        "from sklearn import metrics\n",
        "\n",
        "rfmodel = RandomForestClassifier()\n",
        "rfmodel.fit(X_train_PCA,y_train_PCA)\n",
        "print('model')\n",
        "print(rfmodel)\n",
        "\n",
        "ypredrf1 = rfmodel.predict(X_test_PCA)\n",
        "print('confusion matrix')\n",
        "print(metrics.confusion_matrix(y_test_PCA, ypredrf1))\n",
        "print('classification report')\n",
        "print(metrics.classification_report(y_test_PCA, ypredrf1))\n",
        "print('Accuracy : %f' % (metrics.accuracy_score(y_test_PCA, ypredrf1)))"
      ],
      "execution_count": 60,
      "outputs": [
        {
          "output_type": "stream",
          "text": [
            "model\n",
            "RandomForestClassifier(bootstrap=True, ccp_alpha=0.0, class_weight=None,\n",
            "                       criterion='gini', max_depth=None, max_features='auto',\n",
            "                       max_leaf_nodes=None, max_samples=None,\n",
            "                       min_impurity_decrease=0.0, min_impurity_split=None,\n",
            "                       min_samples_leaf=1, min_samples_split=2,\n",
            "                       min_weight_fraction_leaf=0.0, n_estimators=100,\n",
            "                       n_jobs=None, oob_score=False, random_state=None,\n",
            "                       verbose=0, warm_start=False)\n",
            "confusion matrix\n",
            "[[ 33   2   5   0   0   0   0]\n",
            " [  0 145   4   1   0   0  14]\n",
            " [  0  11 157   0   0   0  19]\n",
            " [  0   5   2  27   0   0   2]\n",
            " [  0   0   1   0  96   1   1]\n",
            " [  0   0   0   0   1  20   0]\n",
            " [  2   5   6   0   5   0 178]]\n",
            "classification report\n",
            "              precision    recall  f1-score   support\n",
            "\n",
            "           1       0.94      0.82      0.88        40\n",
            "           2       0.86      0.88      0.87       164\n",
            "           3       0.90      0.84      0.87       187\n",
            "           4       0.96      0.75      0.84        36\n",
            "           5       0.94      0.97      0.96        99\n",
            "           6       0.95      0.95      0.95        21\n",
            "           7       0.83      0.91      0.87       196\n",
            "\n",
            "    accuracy                           0.88       743\n",
            "   macro avg       0.91      0.88      0.89       743\n",
            "weighted avg       0.89      0.88      0.88       743\n",
            "\n",
            "Accuracy : 0.882907\n"
          ],
          "name": "stdout"
        }
      ]
    },
    {
      "cell_type": "markdown",
      "metadata": {
        "id": "WdEpTM8yThXy",
        "colab_type": "text"
      },
      "source": [
        "##LDA"
      ]
    },
    {
      "cell_type": "code",
      "metadata": {
        "id": "74LtxjkUTg1w",
        "colab_type": "code",
        "colab": {
          "base_uri": "https://localhost:8080/",
          "height": 281
        },
        "outputId": "53bf09de-2ebc-4b15-f78c-38e83afe76d0"
      },
      "source": [
        "#coding:utf-8\n",
        "import numpy as np\n",
        "from sklearn.discriminant_analysis import LinearDiscriminantAnalysis\n",
        "import matplotlib.pyplot as plt\n",
        "\n",
        "def lda(data, target, n_dim):\n",
        "\n",
        "    clusters = np.unique(target)\n",
        "\n",
        "    if n_dim > len(clusters)-1:\n",
        "        print(\"K is too much\")\n",
        "        print(\"please input again\")\n",
        "        exit(0)\n",
        "\n",
        "    #within_class scatter matrix\n",
        "    Sw = np.zeros((data.shape[1],data.shape[1]))\n",
        "    for i in clusters:\n",
        "        datai = data[target == i]\n",
        "        datai = datai-datai.mean(0)\n",
        "        Swi = np.mat(datai).T*np.mat(datai)\n",
        "        Sw += Swi\n",
        "\n",
        "    #between_class scatter matrix\n",
        "    SB = np.zeros((data.shape[1],data.shape[1]))\n",
        "    u = data.mean(0)  #所有样本的平均值\n",
        "    for i in clusters:\n",
        "        Ni = data[target == i].shape[0]\n",
        "        ui = data[target == i].mean(0)  #某个类别的平均值\n",
        "        SBi = Ni*np.mat(ui - u).T*np.mat(ui - u)\n",
        "        SB += SBi\n",
        "    S = np.linalg.inv(Sw)*SB\n",
        "    eigVals,eigVects = np.linalg.eig(S)  #求特征值，特征向量\n",
        "    eigValInd = np.argsort(eigVals)\n",
        "    eigValInd = eigValInd[:(-n_dim-1):-1]\n",
        "    w = eigVects[:,eigValInd]\n",
        "    data_ndim = np.dot(data, w)\n",
        "\n",
        "    return data_ndim\n",
        "\n",
        "if __name__ == '__main__':\n",
        "    X=all_data_only\n",
        "    Y=all_data_label\n",
        "    data_1 = lda(X, Y, 5)#自己根据数学原理实现LDA\n",
        "\n",
        "    data_2 = LinearDiscriminantAnalysis(n_components=5).fit_transform(X, Y)#直接调sklearn\n",
        "\n",
        "\n",
        "    plt.figure(figsize=(8,4))\n",
        "    plt.subplot(121)\n",
        "    plt.title(\"my_LDA\")\n",
        "    plt.scatter(data_1[:, 0], data_1[:, 1], c = Y)\n",
        "\n",
        "    plt.subplot(122)\n",
        "    plt.title(\"sklearn_LDA\")\n",
        "    plt.scatter(data_2[:, 0], data_2[:, 1], c = Y)\n",
        "    plt.savefig(\"LDA.png\")\n",
        "    plt.show()"
      ],
      "execution_count": 32,
      "outputs": [
        {
          "output_type": "display_data",
          "data": {
            "image/png": "[encoded data removed]",
            "text/plain": [
              "<Figure size 576x288 with 2 Axes>"
            ]
          },
          "metadata": {
            "tags": [],
            "needs_background": "light"
          }
        }
      ]
    },
    {
      "cell_type": "code",
      "metadata": {
        "id": "gmZ5Xg7ZhPjU",
        "colab_type": "code",
        "colab": {}
      },
      "source": [
        "from sklearn.model_selection import train_test_split\n",
        "X_train_LDA,X_test_LDA,y_train_LDA,y_test_LDA=train_test_split(data_2,all_data_label,test_size=0.2,random_state=42)"
      ],
      "execution_count": 42,
      "outputs": []
    },
    {
      "cell_type": "markdown",
      "metadata": {
        "id": "EIFs3Na0eqjL",
        "colab_type": "text"
      },
      "source": [
        "##LDA后的随机森林"
      ]
    },
    {
      "cell_type": "code",
      "metadata": {
        "id": "K1-CmJhcem3a",
        "colab_type": "code",
        "colab": {
          "base_uri": "https://localhost:8080/",
          "height": 587
        },
        "outputId": "3bc2bdb4-9a04-4533-a006-d74a9a216f8a"
      },
      "source": [
        "from sklearn.ensemble import RandomForestClassifier\n",
        "from sklearn import metrics\n",
        "\n",
        "rfmodel = RandomForestClassifier()\n",
        "rfmodel.fit(X_train_LDA,y_train_LDA)\n",
        "print('model')\n",
        "print(rfmodel)\n",
        "\n",
        "ypredrf1 = rfmodel.predict(X_test_LDA)\n",
        "print('confusion matrix')\n",
        "print(metrics.confusion_matrix(y_test_LDA, ypredrf1))\n",
        "print('classification report')\n",
        "print(metrics.classification_report(y_test_LDA, ypredrf1))\n",
        "print('Accuracy : %f' % (metrics.accuracy_score(y_test_LDA, ypredrf1)))"
      ],
      "execution_count": 43,
      "outputs": [
        {
          "output_type": "stream",
          "text": [
            "model\n",
            "RandomForestClassifier(bootstrap=True, ccp_alpha=0.0, class_weight=None,\n",
            "                       criterion='gini', max_depth=None, max_features='auto',\n",
            "                       max_leaf_nodes=None, max_samples=None,\n",
            "                       min_impurity_decrease=0.0, min_impurity_split=None,\n",
            "                       min_samples_leaf=1, min_samples_split=2,\n",
            "                       min_weight_fraction_leaf=0.0, n_estimators=100,\n",
            "                       n_jobs=None, oob_score=False, random_state=None,\n",
            "                       verbose=0, warm_start=False)\n",
            "confusion matrix\n",
            "[[ 33   3   4   0   0   0   0]\n",
            " [  0 143   5   0   0   0  16]\n",
            " [  1  12 152   2   0   0  20]\n",
            " [  0   4   6  23   0   0   3]\n",
            " [  0   2   1   0  92   3   1]\n",
            " [  0   0   0   0   5  16   0]\n",
            " [  3   5   4   0   4   0 180]]\n",
            "classification report\n",
            "              precision    recall  f1-score   support\n",
            "\n",
            "           1       0.89      0.82      0.86        40\n",
            "           2       0.85      0.87      0.86       164\n",
            "           3       0.88      0.81      0.85       187\n",
            "           4       0.92      0.64      0.75        36\n",
            "           5       0.91      0.93      0.92        99\n",
            "           6       0.84      0.76      0.80        21\n",
            "           7       0.82      0.92      0.87       196\n",
            "\n",
            "    accuracy                           0.86       743\n",
            "   macro avg       0.87      0.82      0.84       743\n",
            "weighted avg       0.86      0.86      0.86       743\n",
            "\n",
            "Accuracy : 0.860027\n"
          ],
          "name": "stdout"
        }
      ]
    },
    {
      "cell_type": "markdown",
      "metadata": {
        "id": "uAZ6o8ZvKO4V",
        "colab_type": "text"
      },
      "source": [
        "##xgboost"
      ]
    },
    {
      "cell_type": "code",
      "metadata": {
        "id": "EX-B3FQYKRb3",
        "colab_type": "code",
        "colab": {
          "base_uri": "https://localhost:8080/",
          "height": 312
        },
        "outputId": "38406482-d30d-4f84-da7e-6adb7e732045"
      },
      "source": [
        "from xgboost import plot_importance\n",
        "from matplotlib import pyplot as plt\n",
        "\n",
        "import xgboost as xgb\n",
        "from numpy import loadtxt\n",
        "from sklearn.model_selection import train_test_split\n",
        "from sklearn.metrics import accuracy_score\n",
        "\n",
        "params ={'learning_rate': 0.4,\n",
        "          'max_depth': 20,                # 构建树的深度，越大越容易过拟合\n",
        "          'num_boost_round':2000,\n",
        "          'objective': 'multi:softprob', # 多分类的问题\n",
        "          'random_state': 7,\n",
        "          'silent':0,\n",
        "          'num_class':8,                 # 类别数，与 multisoftmax 并用\n",
        "          'eta':0.8                      #为了防止过拟合，更新过程中用到的收缩步长。eta通过缩减特征 的权重使提升计算过程更加保守。缺省值为0.3，取值范围为：[0,1]\n",
        "        }\n",
        "model = xgb.train(params,xgb.DMatrix(X_train, y_train))\n",
        "y_pred=model.predict(xgb.DMatrix(X_test))\n",
        "\n",
        "model.save_model('testXGboostClass.model')  # 保存训练模型\n",
        "\n",
        "yprob = np.argmax(y_pred, axis=1)  # return the index of the biggest pro\n",
        "\n",
        "predictions = [round(value) for value in yprob]\n",
        "\n",
        "# evaluate predictions\n",
        "accuracy = accuracy_score(y_test, predictions)\n",
        "print(\"Accuracy: %.2f%%\" % (accuracy * 100.0))\n",
        "\n",
        "# 显示重要特征\n",
        "plot_importance(model)\n",
        "plt.show()"
      ],
      "execution_count": 23,
      "outputs": [
        {
          "output_type": "stream",
          "text": [
            "Accuracy: 87.98%\n"
          ],
          "name": "stdout"
        },
        {
          "output_type": "display_data",
          "data": {
            "image/png": "[encoded data removed]",
            "text/plain": [
              "<Figure size 432x288 with 1 Axes>"
            ]
          },
          "metadata": {
            "tags": [],
            "needs_background": "light"
          }
        }
      ]
    },
    {
      "cell_type": "markdown",
      "metadata": {
        "id": "MCV7donmSmRB",
        "colab_type": "text"
      },
      "source": [
        "##使用smote的xgboost"
      ]
    },
    {
      "cell_type": "code",
      "metadata": {
        "id": "iZwebWNzSpKb",
        "colab_type": "code",
        "colab": {
          "base_uri": "https://localhost:8080/",
          "height": 312
        },
        "outputId": "1f0ade27-fd5c-46b5-f81e-fdf4b10d9e91"
      },
      "source": [
        "from xgboost import plot_importance\n",
        "from matplotlib import pyplot as plt\n",
        "\n",
        "import xgboost as xgb\n",
        "from numpy import loadtxt\n",
        "from sklearn.model_selection import train_test_split\n",
        "from sklearn.metrics import accuracy_score\n",
        "\n",
        "params ={'learning_rate': 0.4,\n",
        "          'max_depth': 20,                # 构建树的深度，越大越容易过拟合\n",
        "          'num_boost_round':2000,\n",
        "          'objective': 'multi:softprob', # 多分类的问题\n",
        "          'random_state': 7,\n",
        "          'silent':0,\n",
        "          'num_class':8,                 # 类别数，与 multisoftmax 并用\n",
        "          'eta':0.8                      #为了防止过拟合，更新过程中用到的收缩步长。eta通过缩减特征 的权重使提升计算过程更加保守。缺省值为0.3，取值范围为：[0,1]\n",
        "        }\n",
        "model = xgb.train(params,xgb.DMatrix(X_train_sm, y_train_sm))\n",
        "y_pred=model.predict(xgb.DMatrix(X_test))\n",
        "\n",
        "model.save_model('testXGboostClass.model')  # 保存训练模型\n",
        "\n",
        "yprob = np.argmax(y_pred, axis=1)  # return the index of the biggest pro\n",
        "\n",
        "predictions = [round(value) for value in yprob]\n",
        "\n",
        "# evaluate predictions\n",
        "accuracy = accuracy_score(y_test, predictions)\n",
        "print(\"Accuracy: %.2f%%\" % (accuracy * 100.0))\n",
        "\n",
        "# 显示重要特征\n",
        "plot_importance(model)\n",
        "plt.show()"
      ],
      "execution_count": 24,
      "outputs": [
        {
          "output_type": "stream",
          "text": [
            "Accuracy: 87.43%\n"
          ],
          "name": "stdout"
        },
        {
          "output_type": "display_data",
          "data": {
            "image/png": "[encoded data removed]",
            "text/plain": [
              "<Figure size 432x288 with 1 Axes>"
            ]
          },
          "metadata": {
            "tags": [],
            "needs_background": "light"
          }
        }
      ]
    }
  ]
}