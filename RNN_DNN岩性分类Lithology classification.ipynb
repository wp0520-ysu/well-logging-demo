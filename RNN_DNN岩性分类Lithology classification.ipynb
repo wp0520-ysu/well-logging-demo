{
  "nbformat": 4,
  "nbformat_minor": 0,
  "metadata": {
    "colab": {
      "name": "RNN DNN岩性分类.ipynb",
      "provenance": [],
      "toc_visible": true,
      "authorship_tag": "ABX9TyOmccGQSsF1JfAzfZzA+5zw",
      "include_colab_link": true
    },
    "kernelspec": {
      "name": "python3",
      "display_name": "Python 3"
    },
    "accelerator": "GPU"
  },
  "cells": [
    {
      "cell_type": "markdown",
      "metadata": {
        "id": "view-in-github",
        "colab_type": "text"
      },
      "source": [
        "<a href=\"https://colab.research.google.com/github/sunyingjian/-Logging-related-network/blob/master/RNN_DNN%E5%B2%A9%E6%80%A7%E5%88%86%E7%B1%BB.ipynb\" target=\"_parent\"><img src=\"https://colab.research.google.com/assets/colab-badge.svg\" alt=\"Open In Colab\"/></a>"
      ]
    },
    {
      "cell_type": "markdown",
      "metadata": {
        "id": "Cqy3vXXOMI06",
        "colab_type": "text"
      },
      "source": [
        "### <font size=5px color=\"red\">✦ *Google Colab 突破90分钟自动断开:</font>\n",
        "<p><font size=3px > 每60分钟自动运行代码以刷新90分钟断开限制. 打开 developer-settings (在你的浏览器) 快速健 Ctrl+Shift+I 然后按console 输入以下代码 Enter. ( mac 按 Option+Command+I)</p><b>复制以下隐藏代码粉贴在浏览器console！！不要关闭浏览器以免失效</b>"
      ]
    },
    {
      "cell_type": "markdown",
      "metadata": {
        "id": "3Z8cK8h2Avbv",
        "colab_type": "text"
      },
      "source": [
        "<code>function ClickConnect(){\n",
        "console.log(\"Working\"); \n",
        "document.querySelector(\"colab-connect-button\").click() \n",
        "}setInterval(ClickConnect,6000)</code>"
      ]
    },
    {
      "cell_type": "code",
      "metadata": {
        "id": "jtClEMAMLVHw",
        "colab_type": "code",
        "cellView": "both",
        "colab": {
          "base_uri": "https://localhost:8080/",
          "height": 35
        },
        "outputId": "b7e88ccb-aeba-461f-b691-2f7a9b34be07"
      },
      "source": [
        "#@markdown <h3>← 输入了代码后运行以防止断开</h>\n",
        "\n",
        "\n",
        "import IPython\n",
        "from google.colab import output\n",
        "\n",
        "display(IPython.display.Javascript('''\n",
        " function ClickConnect(){\n",
        "   btn = document.querySelector(\"colab-connect-button\")\n",
        "   if (btn != null){\n",
        "     console.log(\"Click colab-connect-button\"); \n",
        "     btn.click() \n",
        "     }\n",
        "   \n",
        "   btn = document.getElementById('ok')\n",
        "   if (btn != null){\n",
        "     console.log(\"Click reconnect\"); \n",
        "     btn.click() \n",
        "     }\n",
        "  }\n",
        "  \n",
        "setInterval(ClickConnect,60000)\n",
        "'''))\n",
        "\n",
        "print(\"Done.\")"
      ],
      "execution_count": null,
      "outputs": [
        {
          "output_type": "display_data",
          "data": {
            "application/javascript": [
              "\n",
              " function ClickConnect(){\n",
              "   btn = document.querySelector(\"colab-connect-button\")\n",
              "   if (btn != null){\n",
              "     console.log(\"Click colab-connect-button\"); \n",
              "     btn.click() \n",
              "     }\n",
              "   \n",
              "   btn = document.getElementById('ok')\n",
              "   if (btn != null){\n",
              "     console.log(\"Click reconnect\"); \n",
              "     btn.click() \n",
              "     }\n",
              "  }\n",
              "  \n",
              "setInterval(ClickConnect,60000)\n"
            ],
            "text/plain": [
              "<IPython.core.display.Javascript object>"
            ]
          },
          "metadata": {
            "tags": []
          }
        },
        {
          "output_type": "stream",
          "text": [
            "Done.\n"
          ],
          "name": "stdout"
        }
      ]
    },
    {
      "cell_type": "markdown",
      "metadata": {
        "id": "Yd3MQph-PpH2",
        "colab_type": "text"
      },
      "source": [
        "#引入数据"
      ]
    },
    {
      "cell_type": "code",
      "metadata": {
        "id": "fokPJgr0Pw8B",
        "colab_type": "code",
        "colab": {
          "base_uri": "https://localhost:8080/",
          "height": 311
        },
        "outputId": "bb6b2a19-76cb-4c79-c39b-a153a9debcdc"
      },
      "source": [
        "! git clone https://github.com/seg/tutorials-2016.git\n",
        "! git clone https://github.com/sunyingjian/numpy-.git\n",
        "! git clone https://github.com/sunyingjian/Machine-Learning-From-Scratch.git"
      ],
      "execution_count": null,
      "outputs": [
        {
          "output_type": "stream",
          "text": [
            "Cloning into 'tutorials-2016'...\n",
            "remote: Enumerating objects: 161, done.\u001b[K\n",
            "remote: Total 161 (delta 0), reused 0 (delta 0), pack-reused 161\u001b[K\n",
            "Receiving objects: 100% (161/161), 16.86 MiB | 21.34 MiB/s, done.\n",
            "Resolving deltas: 100% (64/64), done.\n",
            "Cloning into 'numpy-'...\n",
            "remote: Enumerating objects: 17, done.\u001b[K\n",
            "remote: Counting objects: 100% (17/17), done.\u001b[K\n",
            "remote: Compressing objects: 100% (17/17), done.\u001b[K\n",
            "remote: Total 106 (delta 6), reused 0 (delta 0), pack-reused 89\u001b[K\n",
            "Receiving objects: 100% (106/106), 3.90 MiB | 15.97 MiB/s, done.\n",
            "Resolving deltas: 100% (39/39), done.\n",
            "Cloning into 'Machine-Learning-From-Scratch'...\n",
            "remote: Enumerating objects: 287, done.\u001b[K\n",
            "remote: Total 287 (delta 0), reused 0 (delta 0), pack-reused 287\u001b[K\n",
            "Receiving objects: 100% (287/287), 91.24 KiB | 1.82 MiB/s, done.\n",
            "Resolving deltas: 100% (133/133), done.\n"
          ],
          "name": "stdout"
        }
      ]
    },
    {
      "cell_type": "code",
      "metadata": {
        "id": "b2t-kbnBP1Sb",
        "colab_type": "code",
        "colab": {
          "base_uri": "https://localhost:8080/",
          "height": 124
        },
        "outputId": "a1512d29-d85b-4181-faa6-b62d69ebfc96"
      },
      "source": [
        "import os\n",
        "from google.colab import drive\n",
        "drive.mount('/content/drive')"
      ],
      "execution_count": null,
      "outputs": [
        {
          "output_type": "stream",
          "text": [
            "Go to this URL in a browser: https://accounts.google.com/o/oauth2/auth?client_id=947318989803-6bn6qk8qdgf4n4g3pfee6491hc0brc4i.apps.googleusercontent.com&redirect_uri=urn%3aietf%3awg%3aoauth%3a2.0%3aoob&response_type=code&scope=email%20https%3a%2f%2fwww.googleapis.com%2fauth%2fdocs.test%20https%3a%2f%2fwww.googleapis.com%2fauth%2fdrive%20https%3a%2f%2fwww.googleapis.com%2fauth%2fdrive.photos.readonly%20https%3a%2f%2fwww.googleapis.com%2fauth%2fpeopleapi.readonly\n",
            "\n",
            "Enter your authorization code:\n",
            "··········\n",
            "Mounted at /content/drive\n"
          ],
          "name": "stdout"
        }
      ]
    },
    {
      "cell_type": "markdown",
      "metadata": {
        "id": "4TrAKecRQBeX",
        "colab_type": "text"
      },
      "source": [
        "#数据处理"
      ]
    },
    {
      "cell_type": "code",
      "metadata": {
        "id": "gS4jV_1VP8vw",
        "colab_type": "code",
        "colab": {
          "base_uri": "https://localhost:8080/",
          "height": 407
        },
        "outputId": "141dc5a9-617e-4108-d73c-c849fc3bff3a"
      },
      "source": [
        "%matplotlib inline\n",
        "#%matplotlib inline 可以在Ipython编译器里直接使用，功能是可以内嵌绘图，并且可以省略掉plt.show()这一步。\n",
        "import pandas as pd\n",
        "import numpy as np\n",
        "import matplotlib as mpl\n",
        "import matplotlib.pyplot as plt\n",
        "import matplotlib.colors as colors\n",
        "from mpl_toolkits.axes_grid1 import make_axes_locatable\n",
        "from pandas import set_option\n",
        "set_option(\"display.max_rows\", 10)#设置要显示的默认行数，显示的最大行数是10\n",
        "pd.options.mode.chained_assignment = None #为了在增加列表行数的时候防止出现setting with copy warning\n",
        "training_data = pd.read_csv('/content/numpy-/3345train data.csv')\n",
        "training_data\n",
        "testing_data = pd.read_csv('/content/numpy-/3345test_data.csv')\n",
        "testing_data"
      ],
      "execution_count": null,
      "outputs": [
        {
          "output_type": "execute_result",
          "data": {
            "text/html": [
              "<div>\n",
              "<style scoped>\n",
              "    .dataframe tbody tr th:only-of-type {\n",
              "        vertical-align: middle;\n",
              "    }\n",
              "\n",
              "    .dataframe tbody tr th {\n",
              "        vertical-align: top;\n",
              "    }\n",
              "\n",
              "    .dataframe thead th {\n",
              "        text-align: right;\n",
              "    }\n",
              "</style>\n",
              "<table border=\"1\" class=\"dataframe\">\n",
              "  <thead>\n",
              "    <tr style=\"text-align: right;\">\n",
              "      <th></th>\n",
              "      <th>AC</th>\n",
              "      <th>CAL</th>\n",
              "      <th>GR</th>\n",
              "      <th>K</th>\n",
              "      <th>RD</th>\n",
              "      <th>SP</th>\n",
              "      <th>Core Lithology</th>\n",
              "    </tr>\n",
              "  </thead>\n",
              "  <tbody>\n",
              "    <tr>\n",
              "      <th>0</th>\n",
              "      <td>0.038756</td>\n",
              "      <td>0.026970</td>\n",
              "      <td>0.094776</td>\n",
              "      <td>0.112543</td>\n",
              "      <td>0.001420</td>\n",
              "      <td>0.614504</td>\n",
              "      <td>5</td>\n",
              "    </tr>\n",
              "    <tr>\n",
              "      <th>1</th>\n",
              "      <td>0.347382</td>\n",
              "      <td>0.090194</td>\n",
              "      <td>0.145150</td>\n",
              "      <td>0.202335</td>\n",
              "      <td>0.002744</td>\n",
              "      <td>0.339568</td>\n",
              "      <td>7</td>\n",
              "    </tr>\n",
              "    <tr>\n",
              "      <th>2</th>\n",
              "      <td>0.218400</td>\n",
              "      <td>0.059510</td>\n",
              "      <td>0.252165</td>\n",
              "      <td>0.711295</td>\n",
              "      <td>0.003874</td>\n",
              "      <td>0.918567</td>\n",
              "      <td>3</td>\n",
              "    </tr>\n",
              "    <tr>\n",
              "      <th>3</th>\n",
              "      <td>0.366064</td>\n",
              "      <td>0.082147</td>\n",
              "      <td>0.149304</td>\n",
              "      <td>0.201731</td>\n",
              "      <td>0.003290</td>\n",
              "      <td>0.343180</td>\n",
              "      <td>7</td>\n",
              "    </tr>\n",
              "    <tr>\n",
              "      <th>4</th>\n",
              "      <td>0.291877</td>\n",
              "      <td>0.079981</td>\n",
              "      <td>0.141782</td>\n",
              "      <td>0.289309</td>\n",
              "      <td>0.003455</td>\n",
              "      <td>0.344605</td>\n",
              "      <td>7</td>\n",
              "    </tr>\n",
              "    <tr>\n",
              "      <th>...</th>\n",
              "      <td>...</td>\n",
              "      <td>...</td>\n",
              "      <td>...</td>\n",
              "      <td>...</td>\n",
              "      <td>...</td>\n",
              "      <td>...</td>\n",
              "      <td>...</td>\n",
              "    </tr>\n",
              "    <tr>\n",
              "      <th>361</th>\n",
              "      <td>0.016947</td>\n",
              "      <td>0.138827</td>\n",
              "      <td>0.118400</td>\n",
              "      <td>0.358567</td>\n",
              "      <td>0.281687</td>\n",
              "      <td>0.302936</td>\n",
              "      <td>6</td>\n",
              "    </tr>\n",
              "    <tr>\n",
              "      <th>362</th>\n",
              "      <td>0.131043</td>\n",
              "      <td>0.069016</td>\n",
              "      <td>0.029354</td>\n",
              "      <td>0.060197</td>\n",
              "      <td>0.282093</td>\n",
              "      <td>0.253809</td>\n",
              "      <td>3</td>\n",
              "    </tr>\n",
              "    <tr>\n",
              "      <th>363</th>\n",
              "      <td>0.036182</td>\n",
              "      <td>0.032010</td>\n",
              "      <td>0.030090</td>\n",
              "      <td>0.071069</td>\n",
              "      <td>0.359737</td>\n",
              "      <td>0.435486</td>\n",
              "      <td>5</td>\n",
              "    </tr>\n",
              "    <tr>\n",
              "      <th>364</th>\n",
              "      <td>0.014562</td>\n",
              "      <td>0.127332</td>\n",
              "      <td>0.035014</td>\n",
              "      <td>0.178579</td>\n",
              "      <td>0.803566</td>\n",
              "      <td>0.311641</td>\n",
              "      <td>6</td>\n",
              "    </tr>\n",
              "    <tr>\n",
              "      <th>365</th>\n",
              "      <td>0.014427</td>\n",
              "      <td>0.134185</td>\n",
              "      <td>0.033460</td>\n",
              "      <td>0.186430</td>\n",
              "      <td>0.891134</td>\n",
              "      <td>0.311652</td>\n",
              "      <td>6</td>\n",
              "    </tr>\n",
              "  </tbody>\n",
              "</table>\n",
              "<p>366 rows × 7 columns</p>\n",
              "</div>"
            ],
            "text/plain": [
              "           AC       CAL        GR         K        RD        SP  Core Lithology\n",
              "0    0.038756  0.026970  0.094776  0.112543  0.001420  0.614504               5\n",
              "1    0.347382  0.090194  0.145150  0.202335  0.002744  0.339568               7\n",
              "2    0.218400  0.059510  0.252165  0.711295  0.003874  0.918567               3\n",
              "3    0.366064  0.082147  0.149304  0.201731  0.003290  0.343180               7\n",
              "4    0.291877  0.079981  0.141782  0.289309  0.003455  0.344605               7\n",
              "..        ...       ...       ...       ...       ...       ...             ...\n",
              "361  0.016947  0.138827  0.118400  0.358567  0.281687  0.302936               6\n",
              "362  0.131043  0.069016  0.029354  0.060197  0.282093  0.253809               3\n",
              "363  0.036182  0.032010  0.030090  0.071069  0.359737  0.435486               5\n",
              "364  0.014562  0.127332  0.035014  0.178579  0.803566  0.311641               6\n",
              "365  0.014427  0.134185  0.033460  0.186430  0.891134  0.311652               6\n",
              "\n",
              "[366 rows x 7 columns]"
            ]
          },
          "metadata": {
            "tags": []
          },
          "execution_count": 4
        }
      ]
    },
    {
      "cell_type": "code",
      "metadata": {
        "id": "H2_eUnyJQHlV",
        "colab_type": "code",
        "colab": {}
      },
      "source": [
        "correct_facies_labels = np.array(training_data['Core Lithology'].values)\n",
        "correct_facies_labels_test = np.array(testing_data['Core Lithology'].values)\n",
        "feature_vectors = np.array(training_data.drop(['Core Lithology'], axis=1))\n",
        "feature_vectors_test = np.array(testing_data.drop(['Core Lithology'], axis=1))"
      ],
      "execution_count": null,
      "outputs": []
    },
    {
      "cell_type": "code",
      "metadata": {
        "id": "UYf1ygcjQNav",
        "colab_type": "code",
        "colab": {}
      },
      "source": [
        "X_train = feature_vectors.reshape([3345,-1,6]) \n",
        "X_test = feature_vectors_test.reshape([366,-1,6])\n",
        "y_train = correct_facies_labels\n",
        "y_test = correct_facies_labels_test"
      ],
      "execution_count": null,
      "outputs": []
    },
    {
      "cell_type": "code",
      "metadata": {
        "id": "sfgj7-SdYdGG",
        "colab_type": "code",
        "colab": {}
      },
      "source": [
        "X_trains = feature_vectors\n",
        "X_tests = feature_vectors_test"
      ],
      "execution_count": null,
      "outputs": []
    },
    {
      "cell_type": "markdown",
      "metadata": {
        "id": "0jioXfhMT4Us",
        "colab_type": "text"
      },
      "source": [
        "#DNN分类"
      ]
    },
    {
      "cell_type": "code",
      "metadata": {
        "id": "Jgb5U9XPT63j",
        "colab_type": "code",
        "colab": {}
      },
      "source": [
        "import tensorflow as tf"
      ],
      "execution_count": null,
      "outputs": []
    },
    {
      "cell_type": "code",
      "metadata": {
        "id": "DImCC4GEUEiv",
        "colab_type": "code",
        "colab": {
          "base_uri": "https://localhost:8080/",
          "height": 259
        },
        "outputId": "e1763e60-3d77-443b-9a68-7780945b174c"
      },
      "source": [
        "model =tf.keras.Sequential([\n",
        "                            tf.keras.layers.Dense(16,input_shape=[6],activation='relu'),\n",
        "                            tf.keras.layers.Dense(32,activation='relu'),\n",
        "                            tf.keras.layers.Dense(6,activation='linear')\n",
        "])\n",
        "model.summary()"
      ],
      "execution_count": null,
      "outputs": [
        {
          "output_type": "stream",
          "text": [
            "Model: \"sequential_7\"\n",
            "_________________________________________________________________\n",
            "Layer (type)                 Output Shape              Param #   \n",
            "=================================================================\n",
            "dense_24 (Dense)             (None, 16)                112       \n",
            "_________________________________________________________________\n",
            "dense_25 (Dense)             (None, 32)                544       \n",
            "_________________________________________________________________\n",
            "dense_26 (Dense)             (None, 6)                 198       \n",
            "=================================================================\n",
            "Total params: 854\n",
            "Trainable params: 854\n",
            "Non-trainable params: 0\n",
            "_________________________________________________________________\n"
          ],
          "name": "stdout"
        }
      ]
    },
    {
      "cell_type": "code",
      "metadata": {
        "id": "aP0ecll2VNTX",
        "colab_type": "code",
        "colab": {}
      },
      "source": [
        "tf.keras.optimizers.Adam(\n",
        "    learning_rate=0.1, beta_1=0.9, beta_2=0.999, epsilon=1e-07, amsgrad=False,\n",
        "    name='Adam'\n",
        ")\n",
        "model.compile(loss='mse',metrics=['acc'])"
      ],
      "execution_count": null,
      "outputs": []
    },
    {
      "cell_type": "code",
      "metadata": {
        "id": "e3fZjDskVcW7",
        "colab_type": "code",
        "colab": {
          "base_uri": "https://localhost:8080/",
          "height": 1000
        },
        "outputId": "e8bf3365-2c3a-4510-89a2-5089dab76bc9"
      },
      "source": [
        "model.fit(X_trains,y_train,epochs=50,validation_data=(X_tests,y_test))"
      ],
      "execution_count": null,
      "outputs": [
        {
          "output_type": "stream",
          "text": [
            "Epoch 1/50\n",
            "105/105 [==============================] - 0s 4ms/step - loss: 17.5394 - acc: 0.0439 - val_loss: 10.6035 - val_acc: 0.0546\n",
            "Epoch 2/50\n",
            "105/105 [==============================] - 0s 3ms/step - loss: 5.9346 - acc: 0.0508 - val_loss: 4.2780 - val_acc: 0.1038\n",
            "Epoch 3/50\n",
            "105/105 [==============================] - 0s 3ms/step - loss: 4.3156 - acc: 0.0990 - val_loss: 4.1216 - val_acc: 0.0984\n",
            "Epoch 4/50\n",
            "105/105 [==============================] - 0s 3ms/step - loss: 4.1905 - acc: 0.0909 - val_loss: 3.9587 - val_acc: 0.1120\n",
            "Epoch 5/50\n",
            "105/105 [==============================] - 0s 4ms/step - loss: 4.1264 - acc: 0.0966 - val_loss: 3.8858 - val_acc: 0.1202\n",
            "Epoch 6/50\n",
            "105/105 [==============================] - 0s 3ms/step - loss: 4.0915 - acc: 0.1037 - val_loss: 3.8524 - val_acc: 0.1230\n",
            "Epoch 7/50\n",
            "105/105 [==============================] - 0s 3ms/step - loss: 4.0611 - acc: 0.1097 - val_loss: 3.8340 - val_acc: 0.1339\n",
            "Epoch 8/50\n",
            "105/105 [==============================] - 0s 4ms/step - loss: 4.0474 - acc: 0.1226 - val_loss: 3.7956 - val_acc: 0.1475\n",
            "Epoch 9/50\n",
            "105/105 [==============================] - 0s 3ms/step - loss: 4.0135 - acc: 0.1283 - val_loss: 3.7799 - val_acc: 0.1585\n",
            "Epoch 10/50\n",
            "105/105 [==============================] - 0s 3ms/step - loss: 3.9881 - acc: 0.1312 - val_loss: 3.8071 - val_acc: 0.1694\n",
            "Epoch 11/50\n",
            "105/105 [==============================] - 0s 3ms/step - loss: 3.9617 - acc: 0.1366 - val_loss: 3.7362 - val_acc: 0.1530\n",
            "Epoch 12/50\n",
            "105/105 [==============================] - 0s 3ms/step - loss: 3.9287 - acc: 0.1354 - val_loss: 3.7236 - val_acc: 0.1557\n",
            "Epoch 13/50\n",
            "105/105 [==============================] - 0s 3ms/step - loss: 3.9034 - acc: 0.1423 - val_loss: 3.7267 - val_acc: 0.1612\n",
            "Epoch 14/50\n",
            "105/105 [==============================] - 0s 3ms/step - loss: 3.8632 - acc: 0.1366 - val_loss: 3.6949 - val_acc: 0.1557\n",
            "Epoch 15/50\n",
            "105/105 [==============================] - 0s 3ms/step - loss: 3.8372 - acc: 0.1336 - val_loss: 3.7110 - val_acc: 0.1612\n",
            "Epoch 16/50\n",
            "105/105 [==============================] - 0s 3ms/step - loss: 3.8050 - acc: 0.1357 - val_loss: 3.7040 - val_acc: 0.1667\n",
            "Epoch 17/50\n",
            "105/105 [==============================] - 0s 3ms/step - loss: 3.7652 - acc: 0.1387 - val_loss: 3.6708 - val_acc: 0.1311\n",
            "Epoch 18/50\n",
            "105/105 [==============================] - 0s 3ms/step - loss: 3.7385 - acc: 0.1372 - val_loss: 3.6514 - val_acc: 0.1311\n",
            "Epoch 19/50\n",
            "105/105 [==============================] - 0s 3ms/step - loss: 3.6999 - acc: 0.1294 - val_loss: 3.6088 - val_acc: 0.1503\n",
            "Epoch 20/50\n",
            "105/105 [==============================] - 0s 3ms/step - loss: 3.6592 - acc: 0.1312 - val_loss: 3.5929 - val_acc: 0.1475\n",
            "Epoch 21/50\n",
            "105/105 [==============================] - 0s 3ms/step - loss: 3.6229 - acc: 0.1268 - val_loss: 3.5885 - val_acc: 0.1230\n",
            "Epoch 22/50\n",
            "105/105 [==============================] - 0s 3ms/step - loss: 3.5947 - acc: 0.1312 - val_loss: 3.6034 - val_acc: 0.1093\n",
            "Epoch 23/50\n",
            "105/105 [==============================] - 0s 3ms/step - loss: 3.5494 - acc: 0.1256 - val_loss: 3.6223 - val_acc: 0.1530\n",
            "Epoch 24/50\n",
            "105/105 [==============================] - 0s 3ms/step - loss: 3.5274 - acc: 0.1259 - val_loss: 3.5704 - val_acc: 0.1202\n",
            "Epoch 25/50\n",
            "105/105 [==============================] - 0s 3ms/step - loss: 3.4986 - acc: 0.1097 - val_loss: 3.5415 - val_acc: 0.0956\n",
            "Epoch 26/50\n",
            "105/105 [==============================] - 0s 3ms/step - loss: 3.4669 - acc: 0.1028 - val_loss: 3.5216 - val_acc: 0.1038\n",
            "Epoch 27/50\n",
            "105/105 [==============================] - 0s 3ms/step - loss: 3.4370 - acc: 0.0969 - val_loss: 3.5171 - val_acc: 0.1011\n",
            "Epoch 28/50\n",
            "105/105 [==============================] - 0s 3ms/step - loss: 3.4037 - acc: 0.0993 - val_loss: 3.5805 - val_acc: 0.0710\n",
            "Epoch 29/50\n",
            "105/105 [==============================] - 0s 3ms/step - loss: 3.3876 - acc: 0.0861 - val_loss: 3.5046 - val_acc: 0.1011\n",
            "Epoch 30/50\n",
            "105/105 [==============================] - 0s 3ms/step - loss: 3.3599 - acc: 0.0879 - val_loss: 3.4926 - val_acc: 0.1066\n",
            "Epoch 31/50\n",
            "105/105 [==============================] - 0s 3ms/step - loss: 3.3389 - acc: 0.0903 - val_loss: 3.5220 - val_acc: 0.0710\n",
            "Epoch 32/50\n",
            "105/105 [==============================] - 0s 3ms/step - loss: 3.3180 - acc: 0.0960 - val_loss: 3.4962 - val_acc: 0.1202\n",
            "Epoch 33/50\n",
            "105/105 [==============================] - 0s 3ms/step - loss: 3.2967 - acc: 0.0897 - val_loss: 3.4774 - val_acc: 0.0874\n",
            "Epoch 34/50\n",
            "105/105 [==============================] - 0s 3ms/step - loss: 3.2781 - acc: 0.0927 - val_loss: 3.4674 - val_acc: 0.1393\n",
            "Epoch 35/50\n",
            "105/105 [==============================] - 0s 3ms/step - loss: 3.2648 - acc: 0.0981 - val_loss: 3.4677 - val_acc: 0.1011\n",
            "Epoch 36/50\n",
            "105/105 [==============================] - 0s 3ms/step - loss: 3.2437 - acc: 0.0975 - val_loss: 3.4589 - val_acc: 0.1066\n",
            "Epoch 37/50\n",
            "105/105 [==============================] - 0s 3ms/step - loss: 3.2209 - acc: 0.0903 - val_loss: 3.5104 - val_acc: 0.0874\n",
            "Epoch 38/50\n",
            "105/105 [==============================] - 0s 3ms/step - loss: 3.2090 - acc: 0.0846 - val_loss: 3.5103 - val_acc: 0.0683\n",
            "Epoch 39/50\n",
            "105/105 [==============================] - 0s 3ms/step - loss: 3.2056 - acc: 0.0780 - val_loss: 3.4423 - val_acc: 0.0710\n",
            "Epoch 40/50\n",
            "105/105 [==============================] - 0s 3ms/step - loss: 3.1834 - acc: 0.0747 - val_loss: 3.4626 - val_acc: 0.0820\n",
            "Epoch 41/50\n",
            "105/105 [==============================] - 0s 3ms/step - loss: 3.1580 - acc: 0.0747 - val_loss: 3.4599 - val_acc: 0.0628\n",
            "Epoch 42/50\n",
            "105/105 [==============================] - 0s 3ms/step - loss: 3.1483 - acc: 0.0688 - val_loss: 3.4630 - val_acc: 0.0656\n",
            "Epoch 43/50\n",
            "105/105 [==============================] - 0s 3ms/step - loss: 3.1347 - acc: 0.0756 - val_loss: 3.4876 - val_acc: 0.0683\n",
            "Epoch 44/50\n",
            "105/105 [==============================] - 0s 3ms/step - loss: 3.1272 - acc: 0.0714 - val_loss: 3.4470 - val_acc: 0.0656\n",
            "Epoch 45/50\n",
            "105/105 [==============================] - 0s 3ms/step - loss: 3.1148 - acc: 0.0700 - val_loss: 3.4483 - val_acc: 0.0656\n",
            "Epoch 46/50\n",
            "105/105 [==============================] - 0s 3ms/step - loss: 3.0923 - acc: 0.0685 - val_loss: 3.4526 - val_acc: 0.0710\n",
            "Epoch 47/50\n",
            "105/105 [==============================] - 0s 3ms/step - loss: 3.0867 - acc: 0.0744 - val_loss: 3.4262 - val_acc: 0.0738\n",
            "Epoch 48/50\n",
            "105/105 [==============================] - 0s 3ms/step - loss: 3.0798 - acc: 0.0682 - val_loss: 3.4415 - val_acc: 0.0738\n",
            "Epoch 49/50\n",
            "105/105 [==============================] - 0s 3ms/step - loss: 3.0638 - acc: 0.0679 - val_loss: 3.4439 - val_acc: 0.0683\n",
            "Epoch 50/50\n",
            "105/105 [==============================] - 0s 3ms/step - loss: 3.0576 - acc: 0.0712 - val_loss: 3.4666 - val_acc: 0.0738\n"
          ],
          "name": "stdout"
        },
        {
          "output_type": "execute_result",
          "data": {
            "text/plain": [
              "<tensorflow.python.keras.callbacks.History at 0x7f4f04bb1278>"
            ]
          },
          "metadata": {
            "tags": []
          },
          "execution_count": 48
        }
      ]
    },
    {
      "cell_type": "markdown",
      "metadata": {
        "id": "AdKCZtQXQj_s",
        "colab_type": "text"
      },
      "source": [
        "#RNN分类"
      ]
    },
    {
      "cell_type": "code",
      "metadata": {
        "id": "1dMkg7aOALuv",
        "colab_type": "code",
        "colab": {
          "base_uri": "https://localhost:8080/",
          "height": 35
        },
        "outputId": "8704d9b9-12cb-46ab-d0fa-a0a7da7de5fe"
      },
      "source": [
        "import tensorflow as tf\n",
        "print('tensorflow:',format(tf.__version__))\n",
        "import matplotlib.pyplot as plt\n",
        "import numpy as np"
      ],
      "execution_count": null,
      "outputs": [
        {
          "output_type": "stream",
          "text": [
            "tensorflow: 2.2.0\n"
          ],
          "name": "stdout"
        }
      ]
    },
    {
      "cell_type": "code",
      "metadata": {
        "id": "7yUc0K9qIUfE",
        "colab_type": "code",
        "colab": {
          "base_uri": "https://localhost:8080/",
          "height": 432
        },
        "outputId": "ecf63fe8-73bf-4b96-e666-bf51ae33257f"
      },
      "source": [
        "model =  tf.keras.Sequential([\n",
        "                              tf.keras.layers.GRU(64,input_shape=[None,6],return_sequences=True),\n",
        "                              tf.keras.layers.Dropout(0.3),\n",
        "                              tf.keras.layers.BatchNormalization(),\n",
        "                              tf.keras.layers.GRU(128,return_sequences=True),\n",
        "                              tf.keras.layers.Dropout(0.3),\n",
        "                              tf.keras.layers.BatchNormalization(),\n",
        "                              tf.keras.layers.Dense(64),\n",
        "                              tf.keras.layers.Dense(7,activation='linear')\n",
        "])\n",
        "model.summary()"
      ],
      "execution_count": null,
      "outputs": [
        {
          "output_type": "stream",
          "text": [
            "Model: \"sequential_11\"\n",
            "_________________________________________________________________\n",
            "Layer (type)                 Output Shape              Param #   \n",
            "=================================================================\n",
            "gru_22 (GRU)                 (None, None, 64)          13824     \n",
            "_________________________________________________________________\n",
            "dropout_22 (Dropout)         (None, None, 64)          0         \n",
            "_________________________________________________________________\n",
            "batch_normalization_22 (Batc (None, None, 64)          256       \n",
            "_________________________________________________________________\n",
            "gru_23 (GRU)                 (None, None, 128)         74496     \n",
            "_________________________________________________________________\n",
            "dropout_23 (Dropout)         (None, None, 128)         0         \n",
            "_________________________________________________________________\n",
            "batch_normalization_23 (Batc (None, None, 128)         512       \n",
            "_________________________________________________________________\n",
            "dense_22 (Dense)             (None, None, 64)          8256      \n",
            "_________________________________________________________________\n",
            "dense_23 (Dense)             (None, None, 7)           455       \n",
            "=================================================================\n",
            "Total params: 97,799\n",
            "Trainable params: 97,415\n",
            "Non-trainable params: 384\n",
            "_________________________________________________________________\n"
          ],
          "name": "stdout"
        }
      ]
    },
    {
      "cell_type": "code",
      "metadata": {
        "id": "LWjhpr74J8ED",
        "colab_type": "code",
        "colab": {}
      },
      "source": [
        "model.compile(optimizer='adam',loss='mse',\n",
        "              metrics=['acc'])"
      ],
      "execution_count": null,
      "outputs": []
    },
    {
      "cell_type": "code",
      "metadata": {
        "id": "erY91C_TKL5l",
        "colab_type": "code",
        "colab": {
          "base_uri": "https://localhost:8080/",
          "height": 1000
        },
        "outputId": "bcedc0d1-d579-4f63-c033-38f9ecb3ebb5"
      },
      "source": [
        "history=model.fit(X_train,y_train,\n",
        "         epochs=100,\n",
        "         validation_data=(X_test,y_test))"
      ],
      "execution_count": null,
      "outputs": [
        {
          "output_type": "stream",
          "text": [
            "Epoch 1/100\n",
            "105/105 [==============================] - 2s 21ms/step - loss: 14.9243 - acc: 0.1049 - val_loss: 4.4502 - val_acc: 0.0000e+00\n",
            "Epoch 2/100\n",
            "105/105 [==============================] - 1s 11ms/step - loss: 6.1178 - acc: 0.0981 - val_loss: 4.3247 - val_acc: 0.0410\n",
            "Epoch 3/100\n",
            "105/105 [==============================] - 1s 10ms/step - loss: 5.3543 - acc: 0.1109 - val_loss: 4.3334 - val_acc: 0.0301\n",
            "Epoch 4/100\n",
            "105/105 [==============================] - 1s 10ms/step - loss: 5.0633 - acc: 0.1088 - val_loss: 4.2929 - val_acc: 0.0273\n",
            "Epoch 5/100\n",
            "105/105 [==============================] - 1s 10ms/step - loss: 4.8883 - acc: 0.1061 - val_loss: 4.3247 - val_acc: 0.0519\n",
            "Epoch 6/100\n",
            "105/105 [==============================] - 1s 10ms/step - loss: 4.7289 - acc: 0.1169 - val_loss: 4.3352 - val_acc: 0.0546\n",
            "Epoch 7/100\n",
            "105/105 [==============================] - 1s 10ms/step - loss: 4.6722 - acc: 0.1100 - val_loss: 4.3336 - val_acc: 0.1639\n",
            "Epoch 8/100\n",
            "105/105 [==============================] - 1s 10ms/step - loss: 4.6111 - acc: 0.1160 - val_loss: 4.2930 - val_acc: 0.1694\n",
            "Epoch 9/100\n",
            "105/105 [==============================] - 1s 10ms/step - loss: 4.5783 - acc: 0.1085 - val_loss: 4.2966 - val_acc: 0.0137\n",
            "Epoch 10/100\n",
            "105/105 [==============================] - 1s 10ms/step - loss: 4.5282 - acc: 0.1097 - val_loss: 4.3298 - val_acc: 0.0301\n",
            "Epoch 11/100\n",
            "105/105 [==============================] - 1s 10ms/step - loss: 4.4734 - acc: 0.0993 - val_loss: 4.2894 - val_acc: 0.0137\n",
            "Epoch 12/100\n",
            "105/105 [==============================] - 1s 10ms/step - loss: 4.4597 - acc: 0.1034 - val_loss: 4.2929 - val_acc: 0.0109\n",
            "Epoch 13/100\n",
            "105/105 [==============================] - 1s 10ms/step - loss: 4.4469 - acc: 0.1088 - val_loss: 4.3353 - val_acc: 0.0027\n",
            "Epoch 14/100\n",
            "105/105 [==============================] - 1s 11ms/step - loss: 4.4291 - acc: 0.1115 - val_loss: 4.3435 - val_acc: 0.0191\n",
            "Epoch 15/100\n",
            "105/105 [==============================] - 1s 10ms/step - loss: 4.4689 - acc: 0.0999 - val_loss: 4.3305 - val_acc: 0.0246\n",
            "Epoch 16/100\n",
            "105/105 [==============================] - 1s 11ms/step - loss: 4.4210 - acc: 0.1040 - val_loss: 4.2857 - val_acc: 0.1475\n",
            "Epoch 17/100\n",
            "105/105 [==============================] - 1s 10ms/step - loss: 4.4084 - acc: 0.1145 - val_loss: 4.3202 - val_acc: 0.0164\n",
            "Epoch 18/100\n",
            "105/105 [==============================] - 1s 10ms/step - loss: 4.4224 - acc: 0.1088 - val_loss: 4.4350 - val_acc: 0.2158\n",
            "Epoch 19/100\n",
            "105/105 [==============================] - 1s 10ms/step - loss: 4.3975 - acc: 0.1022 - val_loss: 4.3626 - val_acc: 0.2186\n",
            "Epoch 20/100\n",
            "105/105 [==============================] - 1s 10ms/step - loss: 4.4746 - acc: 0.1091 - val_loss: 4.2876 - val_acc: 0.1667\n",
            "Epoch 21/100\n",
            "105/105 [==============================] - 1s 10ms/step - loss: 4.3712 - acc: 0.1076 - val_loss: 4.2978 - val_acc: 0.0164\n",
            "Epoch 22/100\n",
            "105/105 [==============================] - 1s 10ms/step - loss: 4.3584 - acc: 0.1154 - val_loss: 4.2905 - val_acc: 0.0027\n",
            "Epoch 23/100\n",
            "105/105 [==============================] - 1s 10ms/step - loss: 4.4120 - acc: 0.1118 - val_loss: 4.2777 - val_acc: 0.2432\n",
            "Epoch 24/100\n",
            "105/105 [==============================] - 1s 10ms/step - loss: 4.4301 - acc: 0.1253 - val_loss: 4.3136 - val_acc: 0.0137\n",
            "Epoch 25/100\n",
            "105/105 [==============================] - 1s 10ms/step - loss: 4.4090 - acc: 0.1190 - val_loss: 4.2980 - val_acc: 0.0820\n",
            "Epoch 26/100\n",
            "105/105 [==============================] - 1s 10ms/step - loss: 4.3760 - acc: 0.1094 - val_loss: 4.2837 - val_acc: 0.2077\n",
            "Epoch 27/100\n",
            "105/105 [==============================] - 1s 10ms/step - loss: 4.3542 - acc: 0.1148 - val_loss: 4.2989 - val_acc: 0.0656\n",
            "Epoch 28/100\n",
            "105/105 [==============================] - 1s 11ms/step - loss: 4.3666 - acc: 0.1172 - val_loss: 4.2815 - val_acc: 0.0628\n",
            "Epoch 29/100\n",
            "105/105 [==============================] - 1s 10ms/step - loss: 4.3771 - acc: 0.1184 - val_loss: 4.2924 - val_acc: 0.1148\n",
            "Epoch 30/100\n",
            "105/105 [==============================] - 1s 10ms/step - loss: 4.3571 - acc: 0.1259 - val_loss: 4.4451 - val_acc: 0.0492\n",
            "Epoch 31/100\n",
            "105/105 [==============================] - 1s 10ms/step - loss: 4.3763 - acc: 0.1459 - val_loss: 4.2850 - val_acc: 0.1066\n",
            "Epoch 32/100\n",
            "105/105 [==============================] - 1s 11ms/step - loss: 4.3792 - acc: 0.1178 - val_loss: 4.3887 - val_acc: 0.2186\n",
            "Epoch 33/100\n",
            "105/105 [==============================] - 1s 10ms/step - loss: 4.3671 - acc: 0.1291 - val_loss: 4.3054 - val_acc: 0.0437\n",
            "Epoch 34/100\n",
            "105/105 [==============================] - 1s 10ms/step - loss: 4.3414 - acc: 0.1303 - val_loss: 4.4046 - val_acc: 0.2186\n",
            "Epoch 35/100\n",
            "105/105 [==============================] - 1s 10ms/step - loss: 4.3713 - acc: 0.1342 - val_loss: 4.3299 - val_acc: 0.1284\n",
            "Epoch 36/100\n",
            "105/105 [==============================] - 1s 10ms/step - loss: 4.3602 - acc: 0.1423 - val_loss: 4.3266 - val_acc: 0.0109\n",
            "Epoch 37/100\n",
            "105/105 [==============================] - 1s 10ms/step - loss: 4.3624 - acc: 0.1432 - val_loss: 4.2723 - val_acc: 0.0956\n",
            "Epoch 38/100\n",
            "105/105 [==============================] - 1s 10ms/step - loss: 4.3666 - acc: 0.1510 - val_loss: 4.2789 - val_acc: 0.1366\n",
            "Epoch 39/100\n",
            "105/105 [==============================] - 1s 11ms/step - loss: 4.3566 - acc: 0.1492 - val_loss: 4.3044 - val_acc: 0.2077\n",
            "Epoch 40/100\n",
            "105/105 [==============================] - 1s 10ms/step - loss: 4.3542 - acc: 0.1438 - val_loss: 4.3808 - val_acc: 0.2186\n",
            "Epoch 41/100\n",
            "105/105 [==============================] - 1s 10ms/step - loss: 4.3566 - acc: 0.1366 - val_loss: 4.3404 - val_acc: 0.1202\n",
            "Epoch 42/100\n",
            "105/105 [==============================] - 1s 10ms/step - loss: 4.3541 - acc: 0.1584 - val_loss: 4.3069 - val_acc: 0.2186\n",
            "Epoch 43/100\n",
            "105/105 [==============================] - 1s 10ms/step - loss: 4.3575 - acc: 0.1438 - val_loss: 4.2673 - val_acc: 0.0765\n",
            "Epoch 44/100\n",
            "105/105 [==============================] - 1s 10ms/step - loss: 4.3443 - acc: 0.1489 - val_loss: 4.2993 - val_acc: 0.0656\n",
            "Epoch 45/100\n",
            "105/105 [==============================] - 1s 10ms/step - loss: 4.3547 - acc: 0.1507 - val_loss: 4.3622 - val_acc: 0.2213\n",
            "Epoch 46/100\n",
            "105/105 [==============================] - 1s 10ms/step - loss: 4.3462 - acc: 0.1614 - val_loss: 4.3953 - val_acc: 0.2186\n",
            "Epoch 47/100\n",
            "105/105 [==============================] - 1s 10ms/step - loss: 4.3446 - acc: 0.1447 - val_loss: 4.2530 - val_acc: 0.0738\n",
            "Epoch 48/100\n",
            "105/105 [==============================] - 1s 10ms/step - loss: 4.3380 - acc: 0.1495 - val_loss: 4.2832 - val_acc: 0.0601\n",
            "Epoch 49/100\n",
            "105/105 [==============================] - 1s 10ms/step - loss: 4.3413 - acc: 0.1477 - val_loss: 4.2626 - val_acc: 0.1257\n",
            "Epoch 50/100\n",
            "105/105 [==============================] - 1s 10ms/step - loss: 4.3379 - acc: 0.1474 - val_loss: 4.3011 - val_acc: 0.1913\n",
            "Epoch 51/100\n",
            "105/105 [==============================] - 1s 10ms/step - loss: 4.3384 - acc: 0.1683 - val_loss: 4.3225 - val_acc: 0.1284\n",
            "Epoch 52/100\n",
            "105/105 [==============================] - 1s 10ms/step - loss: 4.3400 - acc: 0.1528 - val_loss: 4.3042 - val_acc: 0.1831\n",
            "Epoch 53/100\n",
            "105/105 [==============================] - 1s 11ms/step - loss: 4.3454 - acc: 0.1578 - val_loss: 4.2877 - val_acc: 0.2186\n",
            "Epoch 54/100\n",
            "105/105 [==============================] - 1s 10ms/step - loss: 4.3446 - acc: 0.1453 - val_loss: 4.2860 - val_acc: 0.0027\n",
            "Epoch 55/100\n",
            "105/105 [==============================] - 1s 10ms/step - loss: 4.3289 - acc: 0.1552 - val_loss: 4.2940 - val_acc: 0.0191\n",
            "Epoch 56/100\n",
            "105/105 [==============================] - 1s 10ms/step - loss: 4.3500 - acc: 0.1572 - val_loss: 4.2873 - val_acc: 0.2022\n",
            "Epoch 57/100\n",
            "105/105 [==============================] - 1s 10ms/step - loss: 4.3403 - acc: 0.1507 - val_loss: 4.2983 - val_acc: 0.2186\n",
            "Epoch 58/100\n",
            "105/105 [==============================] - 1s 11ms/step - loss: 4.3450 - acc: 0.1507 - val_loss: 4.2861 - val_acc: 0.0601\n",
            "Epoch 59/100\n",
            "105/105 [==============================] - 1s 10ms/step - loss: 4.3345 - acc: 0.1534 - val_loss: 4.2855 - val_acc: 0.2213\n",
            "Epoch 60/100\n",
            "105/105 [==============================] - 1s 10ms/step - loss: 4.3276 - acc: 0.1387 - val_loss: 4.3022 - val_acc: 0.0792\n",
            "Epoch 61/100\n",
            "105/105 [==============================] - 1s 10ms/step - loss: 4.3351 - acc: 0.1465 - val_loss: 4.2864 - val_acc: 0.1066\n",
            "Epoch 62/100\n",
            "105/105 [==============================] - 1s 10ms/step - loss: 4.3292 - acc: 0.1468 - val_loss: 4.2980 - val_acc: 0.1284\n",
            "Epoch 63/100\n",
            "105/105 [==============================] - 1s 11ms/step - loss: 4.3272 - acc: 0.1229 - val_loss: 4.2918 - val_acc: 0.0738\n",
            "Epoch 64/100\n",
            "105/105 [==============================] - 1s 10ms/step - loss: 4.3324 - acc: 0.1393 - val_loss: 4.2949 - val_acc: 0.0683\n",
            "Epoch 65/100\n",
            "105/105 [==============================] - 1s 11ms/step - loss: 4.3275 - acc: 0.1441 - val_loss: 4.2956 - val_acc: 0.0574\n",
            "Epoch 66/100\n",
            "105/105 [==============================] - 1s 10ms/step - loss: 4.3299 - acc: 0.1402 - val_loss: 4.2864 - val_acc: 0.0273\n",
            "Epoch 67/100\n",
            "105/105 [==============================] - 1s 10ms/step - loss: 4.3413 - acc: 0.1390 - val_loss: 4.2900 - val_acc: 0.2322\n",
            "Epoch 68/100\n",
            "105/105 [==============================] - 1s 10ms/step - loss: 4.3344 - acc: 0.1581 - val_loss: 4.2890 - val_acc: 0.1230\n",
            "Epoch 69/100\n",
            "105/105 [==============================] - 1s 10ms/step - loss: 4.3361 - acc: 0.1510 - val_loss: 4.2851 - val_acc: 0.2240\n",
            "Epoch 70/100\n",
            "105/105 [==============================] - 1s 10ms/step - loss: 4.3386 - acc: 0.1504 - val_loss: 4.2887 - val_acc: 0.1230\n",
            "Epoch 71/100\n",
            "105/105 [==============================] - 1s 10ms/step - loss: 4.3395 - acc: 0.1405 - val_loss: 4.2814 - val_acc: 0.1967\n",
            "Epoch 72/100\n",
            "105/105 [==============================] - 1s 10ms/step - loss: 4.3287 - acc: 0.1504 - val_loss: 4.2962 - val_acc: 0.0246\n",
            "Epoch 73/100\n",
            "105/105 [==============================] - 1s 10ms/step - loss: 4.3340 - acc: 0.1492 - val_loss: 4.2844 - val_acc: 0.1831\n",
            "Epoch 74/100\n",
            "105/105 [==============================] - 1s 10ms/step - loss: 4.3348 - acc: 0.1393 - val_loss: 4.2879 - val_acc: 0.2131\n",
            "Epoch 75/100\n",
            "105/105 [==============================] - 1s 11ms/step - loss: 4.3301 - acc: 0.1507 - val_loss: 4.2867 - val_acc: 0.0765\n",
            "Epoch 76/100\n",
            "105/105 [==============================] - 1s 10ms/step - loss: 4.3298 - acc: 0.1459 - val_loss: 4.2968 - val_acc: 0.0546\n",
            "Epoch 77/100\n",
            "105/105 [==============================] - 1s 10ms/step - loss: 4.3340 - acc: 0.1480 - val_loss: 4.2858 - val_acc: 0.2186\n",
            "Epoch 78/100\n",
            "105/105 [==============================] - 1s 10ms/step - loss: 4.3276 - acc: 0.1471 - val_loss: 4.2870 - val_acc: 0.2077\n",
            "Epoch 79/100\n",
            "105/105 [==============================] - 1s 10ms/step - loss: 4.3360 - acc: 0.1411 - val_loss: 4.2848 - val_acc: 0.2158\n",
            "Epoch 80/100\n",
            "105/105 [==============================] - 1s 10ms/step - loss: 4.3332 - acc: 0.1402 - val_loss: 4.2825 - val_acc: 0.0792\n",
            "Epoch 81/100\n",
            "105/105 [==============================] - 1s 10ms/step - loss: 4.3363 - acc: 0.1546 - val_loss: 4.2877 - val_acc: 0.1284\n",
            "Epoch 82/100\n",
            "105/105 [==============================] - 1s 10ms/step - loss: 4.3326 - acc: 0.1453 - val_loss: 4.2836 - val_acc: 0.0847\n",
            "Epoch 83/100\n",
            "105/105 [==============================] - 1s 10ms/step - loss: 4.3345 - acc: 0.1474 - val_loss: 4.2951 - val_acc: 0.0137\n",
            "Epoch 84/100\n",
            "105/105 [==============================] - 1s 10ms/step - loss: 4.3373 - acc: 0.1339 - val_loss: 4.2829 - val_acc: 0.1366\n",
            "Epoch 85/100\n",
            "105/105 [==============================] - 1s 10ms/step - loss: 4.3373 - acc: 0.1357 - val_loss: 4.2824 - val_acc: 0.2077\n",
            "Epoch 86/100\n",
            "105/105 [==============================] - 1s 10ms/step - loss: 4.3336 - acc: 0.1384 - val_loss: 4.2822 - val_acc: 0.1995\n",
            "Epoch 87/100\n",
            "105/105 [==============================] - 1s 10ms/step - loss: 4.3270 - acc: 0.1244 - val_loss: 4.2940 - val_acc: 0.0738\n",
            "Epoch 88/100\n",
            "105/105 [==============================] - 1s 10ms/step - loss: 4.3306 - acc: 0.1480 - val_loss: 4.2903 - val_acc: 0.0137\n",
            "Epoch 89/100\n",
            "105/105 [==============================] - 1s 10ms/step - loss: 4.3388 - acc: 0.1288 - val_loss: 4.2887 - val_acc: 0.1284\n",
            "Epoch 90/100\n",
            "105/105 [==============================] - 1s 10ms/step - loss: 4.3300 - acc: 0.1288 - val_loss: 4.2862 - val_acc: 0.1803\n",
            "Epoch 91/100\n",
            "105/105 [==============================] - 1s 10ms/step - loss: 4.3321 - acc: 0.1519 - val_loss: 4.2967 - val_acc: 0.1803\n",
            "Epoch 92/100\n",
            "105/105 [==============================] - 1s 10ms/step - loss: 4.3261 - acc: 0.1453 - val_loss: 4.3108 - val_acc: 0.2377\n",
            "Epoch 93/100\n",
            "105/105 [==============================] - 1s 11ms/step - loss: 4.3309 - acc: 0.1360 - val_loss: 4.3196 - val_acc: 0.0492\n",
            "Epoch 94/100\n",
            "105/105 [==============================] - 1s 10ms/step - loss: 4.3360 - acc: 0.1519 - val_loss: 4.2828 - val_acc: 0.0628\n",
            "Epoch 95/100\n",
            "105/105 [==============================] - 1s 11ms/step - loss: 4.3316 - acc: 0.1283 - val_loss: 4.2946 - val_acc: 0.0929\n",
            "Epoch 96/100\n",
            "105/105 [==============================] - 1s 10ms/step - loss: 4.3296 - acc: 0.1408 - val_loss: 4.2911 - val_acc: 0.2268\n",
            "Epoch 97/100\n",
            "105/105 [==============================] - 1s 10ms/step - loss: 4.3345 - acc: 0.1468 - val_loss: 4.2909 - val_acc: 0.0847\n",
            "Epoch 98/100\n",
            "105/105 [==============================] - 1s 10ms/step - loss: 4.3294 - acc: 0.1402 - val_loss: 4.2909 - val_acc: 0.2240\n",
            "Epoch 99/100\n",
            "105/105 [==============================] - 1s 10ms/step - loss: 4.3316 - acc: 0.1315 - val_loss: 4.2961 - val_acc: 0.2213\n",
            "Epoch 100/100\n",
            "105/105 [==============================] - 1s 10ms/step - loss: 4.3305 - acc: 0.1318 - val_loss: 4.2816 - val_acc: 0.0464\n"
          ],
          "name": "stdout"
        }
      ]
    },
    {
      "cell_type": "code",
      "metadata": {
        "id": "YJeqcSkoLhWd",
        "colab_type": "code",
        "colab": {
          "base_uri": "https://localhost:8080/",
          "height": 35
        },
        "outputId": "ead8a734-92eb-44fc-de4a-e7c159938901"
      },
      "source": [
        "history.history.keys()"
      ],
      "execution_count": null,
      "outputs": [
        {
          "output_type": "execute_result",
          "data": {
            "text/plain": [
              "dict_keys(['loss', 'acc', 'val_loss', 'val_acc'])"
            ]
          },
          "metadata": {
            "tags": []
          },
          "execution_count": 89
        }
      ]
    },
    {
      "cell_type": "code",
      "metadata": {
        "id": "7Hr4OVpsMBjQ",
        "colab_type": "code",
        "colab": {
          "base_uri": "https://localhost:8080/",
          "height": 282
        },
        "outputId": "b0b1df36-17aa-41fb-b29c-fd03d222232b"
      },
      "source": [
        "plt.plot(history.epoch,history.history.get('acc'),label='acc')\n",
        "plt.plot(history.epoch,history.history.get('val_acc'),label='val_acc')"
      ],
      "execution_count": null,
      "outputs": [
        {
          "output_type": "execute_result",
          "data": {
            "text/plain": [
              "[<matplotlib.lines.Line2D at 0x7f6dcfdeb438>]"
            ]
          },
          "metadata": {
            "tags": []
          },
          "execution_count": 38
        },
        {
          "output_type": "display_data",
          "data": {
            "image/png": "[encoded data removed]",
            "text/plain": [
              "<Figure size 432x288 with 1 Axes>"
            ]
          },
          "metadata": {
            "tags": [],
            "needs_background": "light"
          }
        }
      ]
    },
    {
      "cell_type": "code",
      "metadata": {
        "id": "rq2MjdxvMIDC",
        "colab_type": "code",
        "colab": {
          "base_uri": "https://localhost:8080/",
          "height": 282
        },
        "outputId": "2e997ede-04ea-4dd3-9c8e-650ee54be3f3"
      },
      "source": [
        "plt.plot(history.epoch,history.history.get('loss'),label='loss')\n",
        "plt.plot(history.epoch,history.history.get('val_loss'),label='val_loss')"
      ],
      "execution_count": null,
      "outputs": [
        {
          "output_type": "execute_result",
          "data": {
            "text/plain": [
              "[<matplotlib.lines.Line2D at 0x7f6dc8aca5c0>]"
            ]
          },
          "metadata": {
            "tags": []
          },
          "execution_count": 39
        },
        {
          "output_type": "display_data",
          "data": {
            "image/png": "[encoded data removed]",
            "text/plain": [
              "<Figure size 432x288 with 1 Axes>"
            ]
          },
          "metadata": {
            "tags": [],
            "needs_background": "light"
          }
        }
      ]
    },
    {
      "cell_type": "markdown",
      "metadata": {
        "id": "LwanBK1dG1p_",
        "colab_type": "text"
      },
      "source": [
        "#sklearn的多层感知器"
      ]
    },
    {
      "cell_type": "code",
      "metadata": {
        "id": "H0M1GrCQHRjr",
        "colab_type": "code",
        "colab": {}
      },
      "source": [
        "from sklearn.neural_network import MLPClassifier\n",
        "from sklearn import metrics"
      ],
      "execution_count": null,
      "outputs": []
    },
    {
      "cell_type": "code",
      "metadata": {
        "id": "T9e19OEOG8Dd",
        "colab_type": "code",
        "colab": {
          "base_uri": "https://localhost:8080/",
          "height": 35
        },
        "outputId": "5aa9c86a-e087-4d7d-fbf3-4dd98f73e798"
      },
      "source": [
        "clf = MLPClassifier(hidden_layer_sizes=(100,100, ),max_iter=10000)\n",
        "clf.fit(X_trains,y_train)\n",
        "y_pred=clf.predict(X_tests)\n",
        "accuracy = metrics.accuracy_score(y_test, y_pred)\n",
        "print(f'准确率{accuracy}')"
      ],
      "execution_count": null,
      "outputs": [
        {
          "output_type": "stream",
          "text": [
            "准确率0.8469945355191257\n"
          ],
          "name": "stdout"
        }
      ]
    },
    {
      "cell_type": "markdown",
      "metadata": {
        "id": "MdgMZ1K9Plfb",
        "colab_type": "text"
      },
      "source": [
        "#HMM隐式马尔科夫模型"
      ]
    },
    {
      "cell_type": "code",
      "metadata": {
        "id": "5F-AOApiPop_",
        "colab_type": "code",
        "colab": {
          "base_uri": "https://localhost:8080/",
          "height": 193
        },
        "outputId": "a210aa24-b478-4904-86fb-bd7a27798721"
      },
      "source": [
        "!pip install hmmlearn"
      ],
      "execution_count": null,
      "outputs": [
        {
          "output_type": "stream",
          "text": [
            "Collecting hmmlearn\n",
            "\u001b[?25l  Downloading https://files.pythonhosted.org/packages/ff/7b/33f629a443a0671161c019e55c3f1b511c7e9fdce5ab8c8c3c33470eb939/hmmlearn-0.2.3-cp36-cp36m-manylinux1_x86_64.whl (363kB)\n",
            "\r\u001b[K     |█                               | 10kB 20.5MB/s eta 0:00:01\r\u001b[K     |█▉                              | 20kB 2.2MB/s eta 0:00:01\r\u001b[K     |██▊                             | 30kB 2.8MB/s eta 0:00:01\r\u001b[K     |███▋                            | 40kB 3.1MB/s eta 0:00:01\r\u001b[K     |████▌                           | 51kB 2.5MB/s eta 0:00:01\r\u001b[K     |█████▍                          | 61kB 2.8MB/s eta 0:00:01\r\u001b[K     |██████▎                         | 71kB 3.1MB/s eta 0:00:01\r\u001b[K     |███████▏                        | 81kB 3.4MB/s eta 0:00:01\r\u001b[K     |████████                        | 92kB 3.6MB/s eta 0:00:01\r\u001b[K     |█████████                       | 102kB 3.5MB/s eta 0:00:01\r\u001b[K     |██████████                      | 112kB 3.5MB/s eta 0:00:01\r\u001b[K     |██████████▉                     | 122kB 3.5MB/s eta 0:00:01\r\u001b[K     |███████████▊                    | 133kB 3.5MB/s eta 0:00:01\r\u001b[K     |████████████▋                   | 143kB 3.5MB/s eta 0:00:01\r\u001b[K     |█████████████▌                  | 153kB 3.5MB/s eta 0:00:01\r\u001b[K     |██████████████▍                 | 163kB 3.5MB/s eta 0:00:01\r\u001b[K     |███████████████▎                | 174kB 3.5MB/s eta 0:00:01\r\u001b[K     |████████████████▏               | 184kB 3.5MB/s eta 0:00:01\r\u001b[K     |█████████████████               | 194kB 3.5MB/s eta 0:00:01\r\u001b[K     |██████████████████              | 204kB 3.5MB/s eta 0:00:01\r\u001b[K     |███████████████████             | 215kB 3.5MB/s eta 0:00:01\r\u001b[K     |███████████████████▉            | 225kB 3.5MB/s eta 0:00:01\r\u001b[K     |████████████████████▊           | 235kB 3.5MB/s eta 0:00:01\r\u001b[K     |█████████████████████▋          | 245kB 3.5MB/s eta 0:00:01\r\u001b[K     |██████████████████████▌         | 256kB 3.5MB/s eta 0:00:01\r\u001b[K     |███████████████████████▍        | 266kB 3.5MB/s eta 0:00:01\r\u001b[K     |████████████████████████▎       | 276kB 3.5MB/s eta 0:00:01\r\u001b[K     |█████████████████████████▏      | 286kB 3.5MB/s eta 0:00:01\r\u001b[K     |██████████████████████████      | 296kB 3.5MB/s eta 0:00:01\r\u001b[K     |███████████████████████████     | 307kB 3.5MB/s eta 0:00:01\r\u001b[K     |████████████████████████████    | 317kB 3.5MB/s eta 0:00:01\r\u001b[K     |████████████████████████████▉   | 327kB 3.5MB/s eta 0:00:01\r\u001b[K     |█████████████████████████████▊  | 337kB 3.5MB/s eta 0:00:01\r\u001b[K     |██████████████████████████████▋ | 348kB 3.5MB/s eta 0:00:01\r\u001b[K     |███████████████████████████████▌| 358kB 3.5MB/s eta 0:00:01\r\u001b[K     |████████████████████████████████| 368kB 3.5MB/s \n",
            "\u001b[?25hRequirement already satisfied: numpy>=1.10 in /usr/local/lib/python3.6/dist-packages (from hmmlearn) (1.18.5)\n",
            "Requirement already satisfied: scikit-learn>=0.16 in /usr/local/lib/python3.6/dist-packages (from hmmlearn) (0.22.2.post1)\n",
            "Requirement already satisfied: scipy>=0.15 in /usr/local/lib/python3.6/dist-packages (from hmmlearn) (1.4.1)\n",
            "Requirement already satisfied: joblib>=0.11 in /usr/local/lib/python3.6/dist-packages (from scikit-learn>=0.16->hmmlearn) (0.16.0)\n",
            "Installing collected packages: hmmlearn\n",
            "Successfully installed hmmlearn-0.2.3\n"
          ],
          "name": "stdout"
        }
      ]
    },
    {
      "cell_type": "code",
      "metadata": {
        "id": "SK3NJ0kiPm03",
        "colab_type": "code",
        "colab": {}
      },
      "source": [
        "from hmmlearn import hmm"
      ],
      "execution_count": null,
      "outputs": []
    },
    {
      "cell_type": "code",
      "metadata": {
        "id": "3Wh8k7FgPzCT",
        "colab_type": "code",
        "colab": {}
      },
      "source": [
        "model = hmm.MultinomialHMM(n_components=len(X_trains))"
      ],
      "execution_count": null,
      "outputs": []
    },
    {
      "cell_type": "code",
      "metadata": {
        "id": "Yc_6m01wQVAg",
        "colab_type": "code",
        "colab": {}
      },
      "source": [
        ""
      ],
      "execution_count": null,
      "outputs": []
    }
  ]
}
