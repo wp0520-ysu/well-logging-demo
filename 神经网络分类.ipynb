{
  "nbformat": 4,
  "nbformat_minor": 0,
  "metadata": {
    "colab": {
      "name": "神经网络分类.ipynb",
      "provenance": [],
      "toc_visible": true,
      "authorship_tag": "ABX9TyPat0SkMtjiDScP8KX8jO1/",
      "include_colab_link": true
    },
    "kernelspec": {
      "name": "python3",
      "display_name": "Python 3"
    },
    "accelerator": "GPU"
  },
  "cells": [
    {
      "cell_type": "markdown",
      "metadata": {
        "id": "view-in-github",
        "colab_type": "text"
      },
      "source": [
        "<a href=\"https://colab.research.google.com/github/sunyingjian/-Logging-related-network/blob/master/%E7%A5%9E%E7%BB%8F%E7%BD%91%E7%BB%9C%E5%88%86%E7%B1%BB.ipynb\" target=\"_parent\"><img src=\"https://colab.research.google.com/assets/colab-badge.svg\" alt=\"Open In Colab\"/></a>"
      ]
    },
    {
      "cell_type": "markdown",
      "metadata": {
        "id": "Cqy3vXXOMI06",
        "colab_type": "text"
      },
      "source": [
        "### <font size=5px color=\"red\">✦ *Google Colab 突破90分钟自动断开:</font>\n",
        "<p><font size=3px > 每60分钟自动运行代码以刷新90分钟断开限制. 打开 developer-settings (在你的浏览器) 快速健 Ctrl+Shift+I 然后按console 输入以下代码 Enter. ( mac 按 Option+Command+I)</p><b>复制以下隐藏代码粉贴在浏览器console！！不要关闭浏览器以免失效</b>"
      ]
    },
    {
      "cell_type": "markdown",
      "metadata": {
        "id": "3Z8cK8h2Avbv",
        "colab_type": "text"
      },
      "source": [
        "<code>function ClickConnect(){\n",
        "console.log(\"Working\"); \n",
        "document.querySelector(\"colab-connect-button\").click() \n",
        "}setInterval(ClickConnect,6000)</code>"
      ]
    },
    {
      "cell_type": "code",
      "metadata": {
        "id": "jtClEMAMLVHw",
        "colab_type": "code",
        "cellView": "both",
        "colab": {
          "base_uri": "https://localhost:8080/",
          "height": 35
        },
        "outputId": "1efa27ea-4a1f-4c3e-921b-42c666449fde"
      },
      "source": [
        "#@markdown <h3>← 输入了代码后运行以防止断开</h>\n",
        "\n",
        "\n",
        "import IPython\n",
        "from google.colab import output\n",
        "\n",
        "display(IPython.display.Javascript('''\n",
        " function ClickConnect(){\n",
        "   btn = document.querySelector(\"colab-connect-button\")\n",
        "   if (btn != null){\n",
        "     console.log(\"Click colab-connect-button\"); \n",
        "     btn.click() \n",
        "     }\n",
        "   \n",
        "   btn = document.getElementById('ok')\n",
        "   if (btn != null){\n",
        "     console.log(\"Click reconnect\"); \n",
        "     btn.click() \n",
        "     }\n",
        "  }\n",
        "  \n",
        "setInterval(ClickConnect,60000)\n",
        "'''))\n",
        "\n",
        "print(\"Done.\")"
      ],
      "execution_count": null,
      "outputs": [
        {
          "output_type": "display_data",
          "data": {
            "application/javascript": [
              "\n",
              " function ClickConnect(){\n",
              "   btn = document.querySelector(\"colab-connect-button\")\n",
              "   if (btn != null){\n",
              "     console.log(\"Click colab-connect-button\"); \n",
              "     btn.click() \n",
              "     }\n",
              "   \n",
              "   btn = document.getElementById('ok')\n",
              "   if (btn != null){\n",
              "     console.log(\"Click reconnect\"); \n",
              "     btn.click() \n",
              "     }\n",
              "  }\n",
              "  \n",
              "setInterval(ClickConnect,60000)\n"
            ],
            "text/plain": [
              "<IPython.core.display.Javascript object>"
            ]
          },
          "metadata": {
            "tags": []
          }
        },
        {
          "output_type": "stream",
          "text": [
            "Done.\n"
          ],
          "name": "stdout"
        }
      ]
    },
    {
      "cell_type": "markdown",
      "metadata": {
        "id": "Yd3MQph-PpH2",
        "colab_type": "text"
      },
      "source": [
        "#引入数据"
      ]
    },
    {
      "cell_type": "code",
      "metadata": {
        "id": "fokPJgr0Pw8B",
        "colab_type": "code",
        "colab": {
          "base_uri": "https://localhost:8080/",
          "height": 121
        },
        "outputId": "e3f30ffa-20b4-49e8-c0cc-54099db1f967"
      },
      "source": [
        "! git clone https://github.com/sunyingjian/numpy-.git"
      ],
      "execution_count": null,
      "outputs": [
        {
          "output_type": "stream",
          "text": [
            "Cloning into 'numpy-'...\n",
            "remote: Enumerating objects: 5, done.\u001b[K\n",
            "remote: Counting objects: 100% (5/5), done.\u001b[K\n",
            "remote: Compressing objects: 100% (5/5), done.\u001b[K\n",
            "remote: Total 94 (delta 0), reused 0 (delta 0), pack-reused 89\u001b[K\n",
            "Unpacking objects: 100% (94/94), done.\n"
          ],
          "name": "stdout"
        }
      ]
    },
    {
      "cell_type": "code",
      "metadata": {
        "id": "b2t-kbnBP1Sb",
        "colab_type": "code",
        "colab": {
          "base_uri": "https://localhost:8080/",
          "height": 124
        },
        "outputId": "686b5729-870f-4756-dd94-9a557c5644f7"
      },
      "source": [
        "import os\n",
        "from google.colab import drive\n",
        "drive.mount('/content/drive')"
      ],
      "execution_count": null,
      "outputs": [
        {
          "output_type": "stream",
          "text": [
            "Go to this URL in a browser: https://accounts.google.com/o/oauth2/auth?client_id=947318989803-6bn6qk8qdgf4n4g3pfee6491hc0brc4i.apps.googleusercontent.com&redirect_uri=urn%3aietf%3awg%3aoauth%3a2.0%3aoob&response_type=code&scope=email%20https%3a%2f%2fwww.googleapis.com%2fauth%2fdocs.test%20https%3a%2f%2fwww.googleapis.com%2fauth%2fdrive%20https%3a%2f%2fwww.googleapis.com%2fauth%2fdrive.photos.readonly%20https%3a%2f%2fwww.googleapis.com%2fauth%2fpeopleapi.readonly\n",
            "\n",
            "Enter your authorization code:\n",
            "··········\n",
            "Mounted at /content/drive\n"
          ],
          "name": "stdout"
        }
      ]
    },
    {
      "cell_type": "markdown",
      "metadata": {
        "id": "4TrAKecRQBeX",
        "colab_type": "text"
      },
      "source": [
        "#数据处理"
      ]
    },
    {
      "cell_type": "code",
      "metadata": {
        "id": "gS4jV_1VP8vw",
        "colab_type": "code",
        "colab": {
          "base_uri": "https://localhost:8080/",
          "height": 407
        },
        "outputId": "1e1dcf41-fda1-484c-fb03-1047f4dfe2e8"
      },
      "source": [
        "%matplotlib inline\n",
        "#%matplotlib inline 可以在Ipython编译器里直接使用，功能是可以内嵌绘图，并且可以省略掉plt.show()这一步。\n",
        "import pandas as pd\n",
        "import numpy as np\n",
        "import matplotlib as mpl\n",
        "import matplotlib.pyplot as plt\n",
        "import matplotlib.colors as colors\n",
        "from mpl_toolkits.axes_grid1 import make_axes_locatable\n",
        "from pandas import set_option\n",
        "set_option(\"display.max_rows\", 10)#设置要显示的默认行数，显示的最大行数是10\n",
        "pd.options.mode.chained_assignment = None #为了在增加列表行数的时候防止出现setting with copy warning\n",
        "filename = 'facies_vectors.csv'\n",
        "training_data = pd.read_csv('/content/numpy-/3345train data.csv')\n",
        "training_data\n",
        "testing_data = pd.read_csv('/content/numpy-/3345test_data.csv')\n",
        "testing_data"
      ],
      "execution_count": null,
      "outputs": [
        {
          "output_type": "execute_result",
          "data": {
            "text/html": [
              "<div>\n",
              "<style scoped>\n",
              "    .dataframe tbody tr th:only-of-type {\n",
              "        vertical-align: middle;\n",
              "    }\n",
              "\n",
              "    .dataframe tbody tr th {\n",
              "        vertical-align: top;\n",
              "    }\n",
              "\n",
              "    .dataframe thead th {\n",
              "        text-align: right;\n",
              "    }\n",
              "</style>\n",
              "<table border=\"1\" class=\"dataframe\">\n",
              "  <thead>\n",
              "    <tr style=\"text-align: right;\">\n",
              "      <th></th>\n",
              "      <th>AC</th>\n",
              "      <th>CAL</th>\n",
              "      <th>GR</th>\n",
              "      <th>K</th>\n",
              "      <th>RD</th>\n",
              "      <th>SP</th>\n",
              "      <th>Core Lithology</th>\n",
              "    </tr>\n",
              "  </thead>\n",
              "  <tbody>\n",
              "    <tr>\n",
              "      <th>0</th>\n",
              "      <td>0.038756</td>\n",
              "      <td>0.026970</td>\n",
              "      <td>0.094776</td>\n",
              "      <td>0.112543</td>\n",
              "      <td>0.001420</td>\n",
              "      <td>0.614504</td>\n",
              "      <td>5</td>\n",
              "    </tr>\n",
              "    <tr>\n",
              "      <th>1</th>\n",
              "      <td>0.347382</td>\n",
              "      <td>0.090194</td>\n",
              "      <td>0.145150</td>\n",
              "      <td>0.202335</td>\n",
              "      <td>0.002744</td>\n",
              "      <td>0.339568</td>\n",
              "      <td>7</td>\n",
              "    </tr>\n",
              "    <tr>\n",
              "      <th>2</th>\n",
              "      <td>0.218400</td>\n",
              "      <td>0.059510</td>\n",
              "      <td>0.252165</td>\n",
              "      <td>0.711295</td>\n",
              "      <td>0.003874</td>\n",
              "      <td>0.918567</td>\n",
              "      <td>3</td>\n",
              "    </tr>\n",
              "    <tr>\n",
              "      <th>3</th>\n",
              "      <td>0.366064</td>\n",
              "      <td>0.082147</td>\n",
              "      <td>0.149304</td>\n",
              "      <td>0.201731</td>\n",
              "      <td>0.003290</td>\n",
              "      <td>0.343180</td>\n",
              "      <td>7</td>\n",
              "    </tr>\n",
              "    <tr>\n",
              "      <th>4</th>\n",
              "      <td>0.291877</td>\n",
              "      <td>0.079981</td>\n",
              "      <td>0.141782</td>\n",
              "      <td>0.289309</td>\n",
              "      <td>0.003455</td>\n",
              "      <td>0.344605</td>\n",
              "      <td>7</td>\n",
              "    </tr>\n",
              "    <tr>\n",
              "      <th>...</th>\n",
              "      <td>...</td>\n",
              "      <td>...</td>\n",
              "      <td>...</td>\n",
              "      <td>...</td>\n",
              "      <td>...</td>\n",
              "      <td>...</td>\n",
              "      <td>...</td>\n",
              "    </tr>\n",
              "    <tr>\n",
              "      <th>361</th>\n",
              "      <td>0.016947</td>\n",
              "      <td>0.138827</td>\n",
              "      <td>0.118400</td>\n",
              "      <td>0.358567</td>\n",
              "      <td>0.281687</td>\n",
              "      <td>0.302936</td>\n",
              "      <td>6</td>\n",
              "    </tr>\n",
              "    <tr>\n",
              "      <th>362</th>\n",
              "      <td>0.131043</td>\n",
              "      <td>0.069016</td>\n",
              "      <td>0.029354</td>\n",
              "      <td>0.060197</td>\n",
              "      <td>0.282093</td>\n",
              "      <td>0.253809</td>\n",
              "      <td>3</td>\n",
              "    </tr>\n",
              "    <tr>\n",
              "      <th>363</th>\n",
              "      <td>0.036182</td>\n",
              "      <td>0.032010</td>\n",
              "      <td>0.030090</td>\n",
              "      <td>0.071069</td>\n",
              "      <td>0.359737</td>\n",
              "      <td>0.435486</td>\n",
              "      <td>5</td>\n",
              "    </tr>\n",
              "    <tr>\n",
              "      <th>364</th>\n",
              "      <td>0.014562</td>\n",
              "      <td>0.127332</td>\n",
              "      <td>0.035014</td>\n",
              "      <td>0.178579</td>\n",
              "      <td>0.803566</td>\n",
              "      <td>0.311641</td>\n",
              "      <td>6</td>\n",
              "    </tr>\n",
              "    <tr>\n",
              "      <th>365</th>\n",
              "      <td>0.014427</td>\n",
              "      <td>0.134185</td>\n",
              "      <td>0.033460</td>\n",
              "      <td>0.186430</td>\n",
              "      <td>0.891134</td>\n",
              "      <td>0.311652</td>\n",
              "      <td>6</td>\n",
              "    </tr>\n",
              "  </tbody>\n",
              "</table>\n",
              "<p>366 rows × 7 columns</p>\n",
              "</div>"
            ],
            "text/plain": [
              "           AC       CAL        GR         K        RD        SP  Core Lithology\n",
              "0    0.038756  0.026970  0.094776  0.112543  0.001420  0.614504               5\n",
              "1    0.347382  0.090194  0.145150  0.202335  0.002744  0.339568               7\n",
              "2    0.218400  0.059510  0.252165  0.711295  0.003874  0.918567               3\n",
              "3    0.366064  0.082147  0.149304  0.201731  0.003290  0.343180               7\n",
              "4    0.291877  0.079981  0.141782  0.289309  0.003455  0.344605               7\n",
              "..        ...       ...       ...       ...       ...       ...             ...\n",
              "361  0.016947  0.138827  0.118400  0.358567  0.281687  0.302936               6\n",
              "362  0.131043  0.069016  0.029354  0.060197  0.282093  0.253809               3\n",
              "363  0.036182  0.032010  0.030090  0.071069  0.359737  0.435486               5\n",
              "364  0.014562  0.127332  0.035014  0.178579  0.803566  0.311641               6\n",
              "365  0.014427  0.134185  0.033460  0.186430  0.891134  0.311652               6\n",
              "\n",
              "[366 rows x 7 columns]"
            ]
          },
          "metadata": {
            "tags": []
          },
          "execution_count": 4
        }
      ]
    },
    {
      "cell_type": "code",
      "metadata": {
        "id": "3ueJhkUKQAAH",
        "colab_type": "code",
        "colab": {
          "base_uri": "https://localhost:8080/",
          "height": 288
        },
        "outputId": "cc61350a-4a0a-4c84-b1f6-01246fe69b7f"
      },
      "source": [
        "# 1=粗砂岩  2=中砂岩   3=细砂岩\n",
        "# 4=粉砂岩 5=白云岩 6=石灰岩 7=泥岩\n",
        "\n",
        "facies_labels = ['CS', 'MS', 'FS', 'SS', 'DM',\n",
        "                 'LS', 'MDS']\n",
        "training_data.describe()"
      ],
      "execution_count": null,
      "outputs": [
        {
          "output_type": "execute_result",
          "data": {
            "text/html": [
              "<div>\n",
              "<style scoped>\n",
              "    .dataframe tbody tr th:only-of-type {\n",
              "        vertical-align: middle;\n",
              "    }\n",
              "\n",
              "    .dataframe tbody tr th {\n",
              "        vertical-align: top;\n",
              "    }\n",
              "\n",
              "    .dataframe thead th {\n",
              "        text-align: right;\n",
              "    }\n",
              "</style>\n",
              "<table border=\"1\" class=\"dataframe\">\n",
              "  <thead>\n",
              "    <tr style=\"text-align: right;\">\n",
              "      <th></th>\n",
              "      <th>AC</th>\n",
              "      <th>CAL</th>\n",
              "      <th>GR</th>\n",
              "      <th>K</th>\n",
              "      <th>RD</th>\n",
              "      <th>SP</th>\n",
              "      <th>Core Lithology</th>\n",
              "    </tr>\n",
              "  </thead>\n",
              "  <tbody>\n",
              "    <tr>\n",
              "      <th>count</th>\n",
              "      <td>3.345000e+03</td>\n",
              "      <td>3.345000e+03</td>\n",
              "      <td>3.345000e+03</td>\n",
              "      <td>3.345000e+03</td>\n",
              "      <td>3.345000e+03</td>\n",
              "      <td>3345.000000</td>\n",
              "      <td>3345.000000</td>\n",
              "    </tr>\n",
              "    <tr>\n",
              "      <th>mean</th>\n",
              "      <td>2.107992e-01</td>\n",
              "      <td>1.450162e-01</td>\n",
              "      <td>1.662901e-01</td>\n",
              "      <td>3.464980e-01</td>\n",
              "      <td>4.917120e-02</td>\n",
              "      <td>0.418110</td>\n",
              "      <td>4.221525</td>\n",
              "    </tr>\n",
              "    <tr>\n",
              "      <th>std</th>\n",
              "      <td>1.099814e-01</td>\n",
              "      <td>1.353280e-01</td>\n",
              "      <td>1.036918e-01</td>\n",
              "      <td>1.808527e-01</td>\n",
              "      <td>8.719010e-02</td>\n",
              "      <td>0.196548</td>\n",
              "      <td>2.079667</td>\n",
              "    </tr>\n",
              "    <tr>\n",
              "      <th>min</th>\n",
              "      <td>1.000000e-07</td>\n",
              "      <td>1.000000e-08</td>\n",
              "      <td>1.000000e-07</td>\n",
              "      <td>1.000000e-07</td>\n",
              "      <td>1.000000e-09</td>\n",
              "      <td>-0.062739</td>\n",
              "      <td>1.000000</td>\n",
              "    </tr>\n",
              "    <tr>\n",
              "      <th>25%</th>\n",
              "      <td>1.594008e-01</td>\n",
              "      <td>5.225926e-02</td>\n",
              "      <td>8.778840e-02</td>\n",
              "      <td>2.079726e-01</td>\n",
              "      <td>1.270254e-02</td>\n",
              "      <td>0.325241</td>\n",
              "      <td>2.000000</td>\n",
              "    </tr>\n",
              "    <tr>\n",
              "      <th>50%</th>\n",
              "      <td>2.124234e-01</td>\n",
              "      <td>9.779821e-02</td>\n",
              "      <td>1.520483e-01</td>\n",
              "      <td>3.352124e-01</td>\n",
              "      <td>2.403313e-02</td>\n",
              "      <td>0.384527</td>\n",
              "      <td>4.000000</td>\n",
              "    </tr>\n",
              "    <tr>\n",
              "      <th>75%</th>\n",
              "      <td>2.574892e-01</td>\n",
              "      <td>1.850738e-01</td>\n",
              "      <td>2.359244e-01</td>\n",
              "      <td>4.811758e-01</td>\n",
              "      <td>4.815465e-02</td>\n",
              "      <td>0.439047</td>\n",
              "      <td>7.000000</td>\n",
              "    </tr>\n",
              "    <tr>\n",
              "      <th>max</th>\n",
              "      <td>1.000000e+00</td>\n",
              "      <td>1.000000e+00</td>\n",
              "      <td>1.000000e+00</td>\n",
              "      <td>1.000000e+00</td>\n",
              "      <td>1.000000e+00</td>\n",
              "      <td>1.000000</td>\n",
              "      <td>7.000000</td>\n",
              "    </tr>\n",
              "  </tbody>\n",
              "</table>\n",
              "</div>"
            ],
            "text/plain": [
              "                 AC           CAL  ...           SP  Core Lithology\n",
              "count  3.345000e+03  3.345000e+03  ...  3345.000000     3345.000000\n",
              "mean   2.107992e-01  1.450162e-01  ...     0.418110        4.221525\n",
              "std    1.099814e-01  1.353280e-01  ...     0.196548        2.079667\n",
              "min    1.000000e-07  1.000000e-08  ...    -0.062739        1.000000\n",
              "25%    1.594008e-01  5.225926e-02  ...     0.325241        2.000000\n",
              "50%    2.124234e-01  9.779821e-02  ...     0.384527        4.000000\n",
              "75%    2.574892e-01  1.850738e-01  ...     0.439047        7.000000\n",
              "max    1.000000e+00  1.000000e+00  ...     1.000000        7.000000\n",
              "\n",
              "[8 rows x 7 columns]"
            ]
          },
          "metadata": {
            "tags": []
          },
          "execution_count": 5
        }
      ]
    },
    {
      "cell_type": "code",
      "metadata": {
        "id": "vO1kUfC9QDol",
        "colab_type": "code",
        "colab": {
          "base_uri": "https://localhost:8080/",
          "height": 288
        },
        "outputId": "bb3c5de6-41e7-4796-9368-f0b28cc9818a"
      },
      "source": [
        "# 1=粗砂岩  2=中砂岩   3=细砂岩\n",
        "# 4=粉砂岩 5=白云岩 6=石灰岩 7=泥岩\n",
        "\n",
        "facies_labels = ['CS', 'MS', 'FS', 'SS', 'DM',\n",
        "                 'LS', 'MDS']\n",
        "testing_data.describe()"
      ],
      "execution_count": null,
      "outputs": [
        {
          "output_type": "execute_result",
          "data": {
            "text/html": [
              "<div>\n",
              "<style scoped>\n",
              "    .dataframe tbody tr th:only-of-type {\n",
              "        vertical-align: middle;\n",
              "    }\n",
              "\n",
              "    .dataframe tbody tr th {\n",
              "        vertical-align: top;\n",
              "    }\n",
              "\n",
              "    .dataframe thead th {\n",
              "        text-align: right;\n",
              "    }\n",
              "</style>\n",
              "<table border=\"1\" class=\"dataframe\">\n",
              "  <thead>\n",
              "    <tr style=\"text-align: right;\">\n",
              "      <th></th>\n",
              "      <th>AC</th>\n",
              "      <th>CAL</th>\n",
              "      <th>GR</th>\n",
              "      <th>K</th>\n",
              "      <th>RD</th>\n",
              "      <th>SP</th>\n",
              "      <th>Core Lithology</th>\n",
              "    </tr>\n",
              "  </thead>\n",
              "  <tbody>\n",
              "    <tr>\n",
              "      <th>count</th>\n",
              "      <td>366.000000</td>\n",
              "      <td>366.000000</td>\n",
              "      <td>366.000000</td>\n",
              "      <td>366.000000</td>\n",
              "      <td>366.000000</td>\n",
              "      <td>366.000000</td>\n",
              "      <td>366.000000</td>\n",
              "    </tr>\n",
              "    <tr>\n",
              "      <th>mean</th>\n",
              "      <td>0.214074</td>\n",
              "      <td>0.148747</td>\n",
              "      <td>0.147995</td>\n",
              "      <td>0.330942</td>\n",
              "      <td>0.046567</td>\n",
              "      <td>0.389129</td>\n",
              "      <td>4.215847</td>\n",
              "    </tr>\n",
              "    <tr>\n",
              "      <th>std</th>\n",
              "      <td>0.108781</td>\n",
              "      <td>0.144160</td>\n",
              "      <td>0.087543</td>\n",
              "      <td>0.181384</td>\n",
              "      <td>0.080542</td>\n",
              "      <td>0.196271</td>\n",
              "      <td>2.072619</td>\n",
              "    </tr>\n",
              "    <tr>\n",
              "      <th>min</th>\n",
              "      <td>0.003611</td>\n",
              "      <td>0.007118</td>\n",
              "      <td>0.005029</td>\n",
              "      <td>0.025971</td>\n",
              "      <td>0.001420</td>\n",
              "      <td>-0.061365</td>\n",
              "      <td>1.000000</td>\n",
              "    </tr>\n",
              "    <tr>\n",
              "      <th>25%</th>\n",
              "      <td>0.162638</td>\n",
              "      <td>0.052989</td>\n",
              "      <td>0.079442</td>\n",
              "      <td>0.194786</td>\n",
              "      <td>0.012828</td>\n",
              "      <td>0.317109</td>\n",
              "      <td>2.000000</td>\n",
              "    </tr>\n",
              "    <tr>\n",
              "      <th>50%</th>\n",
              "      <td>0.215371</td>\n",
              "      <td>0.098682</td>\n",
              "      <td>0.132807</td>\n",
              "      <td>0.302396</td>\n",
              "      <td>0.022275</td>\n",
              "      <td>0.379000</td>\n",
              "      <td>4.000000</td>\n",
              "    </tr>\n",
              "    <tr>\n",
              "      <th>75%</th>\n",
              "      <td>0.269240</td>\n",
              "      <td>0.179492</td>\n",
              "      <td>0.217013</td>\n",
              "      <td>0.456563</td>\n",
              "      <td>0.047410</td>\n",
              "      <td>0.435390</td>\n",
              "      <td>7.000000</td>\n",
              "    </tr>\n",
              "    <tr>\n",
              "      <th>max</th>\n",
              "      <td>0.713160</td>\n",
              "      <td>0.994694</td>\n",
              "      <td>0.483319</td>\n",
              "      <td>0.994363</td>\n",
              "      <td>0.891134</td>\n",
              "      <td>0.997070</td>\n",
              "      <td>7.000000</td>\n",
              "    </tr>\n",
              "  </tbody>\n",
              "</table>\n",
              "</div>"
            ],
            "text/plain": [
              "               AC         CAL  ...          SP  Core Lithology\n",
              "count  366.000000  366.000000  ...  366.000000      366.000000\n",
              "mean     0.214074    0.148747  ...    0.389129        4.215847\n",
              "std      0.108781    0.144160  ...    0.196271        2.072619\n",
              "min      0.003611    0.007118  ...   -0.061365        1.000000\n",
              "25%      0.162638    0.052989  ...    0.317109        2.000000\n",
              "50%      0.215371    0.098682  ...    0.379000        4.000000\n",
              "75%      0.269240    0.179492  ...    0.435390        7.000000\n",
              "max      0.713160    0.994694  ...    0.997070        7.000000\n",
              "\n",
              "[8 rows x 7 columns]"
            ]
          },
          "metadata": {
            "tags": []
          },
          "execution_count": 6
        }
      ]
    },
    {
      "cell_type": "code",
      "metadata": {
        "id": "H2_eUnyJQHlV",
        "colab_type": "code",
        "colab": {
          "base_uri": "https://localhost:8080/",
          "height": 288
        },
        "outputId": "d128fe2e-ce20-4fb7-f47b-f5db0f2b4aa2"
      },
      "source": [
        "correct_facies_labels = training_data['Core Lithology'].values\n",
        "correct_facies_labels_test = testing_data['Core Lithology'].values\n",
        "feature_vectors = training_data.drop(['Core Lithology'], axis=1)\n",
        "feature_vectors_test = testing_data.drop(['Core Lithology'], axis=1)\n",
        "feature_vectors.describe()\n",
        "feature_vectors_test.describe()"
      ],
      "execution_count": null,
      "outputs": [
        {
          "output_type": "execute_result",
          "data": {
            "text/html": [
              "<div>\n",
              "<style scoped>\n",
              "    .dataframe tbody tr th:only-of-type {\n",
              "        vertical-align: middle;\n",
              "    }\n",
              "\n",
              "    .dataframe tbody tr th {\n",
              "        vertical-align: top;\n",
              "    }\n",
              "\n",
              "    .dataframe thead th {\n",
              "        text-align: right;\n",
              "    }\n",
              "</style>\n",
              "<table border=\"1\" class=\"dataframe\">\n",
              "  <thead>\n",
              "    <tr style=\"text-align: right;\">\n",
              "      <th></th>\n",
              "      <th>AC</th>\n",
              "      <th>CAL</th>\n",
              "      <th>GR</th>\n",
              "      <th>K</th>\n",
              "      <th>RD</th>\n",
              "      <th>SP</th>\n",
              "    </tr>\n",
              "  </thead>\n",
              "  <tbody>\n",
              "    <tr>\n",
              "      <th>count</th>\n",
              "      <td>366.000000</td>\n",
              "      <td>366.000000</td>\n",
              "      <td>366.000000</td>\n",
              "      <td>366.000000</td>\n",
              "      <td>366.000000</td>\n",
              "      <td>366.000000</td>\n",
              "    </tr>\n",
              "    <tr>\n",
              "      <th>mean</th>\n",
              "      <td>0.214074</td>\n",
              "      <td>0.148747</td>\n",
              "      <td>0.147995</td>\n",
              "      <td>0.330942</td>\n",
              "      <td>0.046567</td>\n",
              "      <td>0.389129</td>\n",
              "    </tr>\n",
              "    <tr>\n",
              "      <th>std</th>\n",
              "      <td>0.108781</td>\n",
              "      <td>0.144160</td>\n",
              "      <td>0.087543</td>\n",
              "      <td>0.181384</td>\n",
              "      <td>0.080542</td>\n",
              "      <td>0.196271</td>\n",
              "    </tr>\n",
              "    <tr>\n",
              "      <th>min</th>\n",
              "      <td>0.003611</td>\n",
              "      <td>0.007118</td>\n",
              "      <td>0.005029</td>\n",
              "      <td>0.025971</td>\n",
              "      <td>0.001420</td>\n",
              "      <td>-0.061365</td>\n",
              "    </tr>\n",
              "    <tr>\n",
              "      <th>25%</th>\n",
              "      <td>0.162638</td>\n",
              "      <td>0.052989</td>\n",
              "      <td>0.079442</td>\n",
              "      <td>0.194786</td>\n",
              "      <td>0.012828</td>\n",
              "      <td>0.317109</td>\n",
              "    </tr>\n",
              "    <tr>\n",
              "      <th>50%</th>\n",
              "      <td>0.215371</td>\n",
              "      <td>0.098682</td>\n",
              "      <td>0.132807</td>\n",
              "      <td>0.302396</td>\n",
              "      <td>0.022275</td>\n",
              "      <td>0.379000</td>\n",
              "    </tr>\n",
              "    <tr>\n",
              "      <th>75%</th>\n",
              "      <td>0.269240</td>\n",
              "      <td>0.179492</td>\n",
              "      <td>0.217013</td>\n",
              "      <td>0.456563</td>\n",
              "      <td>0.047410</td>\n",
              "      <td>0.435390</td>\n",
              "    </tr>\n",
              "    <tr>\n",
              "      <th>max</th>\n",
              "      <td>0.713160</td>\n",
              "      <td>0.994694</td>\n",
              "      <td>0.483319</td>\n",
              "      <td>0.994363</td>\n",
              "      <td>0.891134</td>\n",
              "      <td>0.997070</td>\n",
              "    </tr>\n",
              "  </tbody>\n",
              "</table>\n",
              "</div>"
            ],
            "text/plain": [
              "               AC         CAL          GR           K          RD          SP\n",
              "count  366.000000  366.000000  366.000000  366.000000  366.000000  366.000000\n",
              "mean     0.214074    0.148747    0.147995    0.330942    0.046567    0.389129\n",
              "std      0.108781    0.144160    0.087543    0.181384    0.080542    0.196271\n",
              "min      0.003611    0.007118    0.005029    0.025971    0.001420   -0.061365\n",
              "25%      0.162638    0.052989    0.079442    0.194786    0.012828    0.317109\n",
              "50%      0.215371    0.098682    0.132807    0.302396    0.022275    0.379000\n",
              "75%      0.269240    0.179492    0.217013    0.456563    0.047410    0.435390\n",
              "max      0.713160    0.994694    0.483319    0.994363    0.891134    0.997070"
            ]
          },
          "metadata": {
            "tags": []
          },
          "execution_count": 7
        }
      ]
    },
    {
      "cell_type": "code",
      "metadata": {
        "id": "UYf1ygcjQNav",
        "colab_type": "code",
        "colab": {}
      },
      "source": [
        "X_train = feature_vectors \n",
        "X_test = feature_vectors_test\n",
        "y_train = correct_facies_labels\n",
        "y_test = correct_facies_labels_test"
      ],
      "execution_count": null,
      "outputs": []
    },
    {
      "cell_type": "markdown",
      "metadata": {
        "id": "AdKCZtQXQj_s",
        "colab_type": "text"
      },
      "source": [
        "#RNN分类"
      ]
    },
    {
      "cell_type": "code",
      "metadata": {
        "id": "1dMkg7aOALuv",
        "colab_type": "code",
        "colab": {
          "base_uri": "https://localhost:8080/",
          "height": 52
        },
        "outputId": "97c05aa7-c56a-4bfd-ea2e-d9a65f2ce4c0"
      },
      "source": [
        "import tensorflow as tf\n",
        "print('tensorflow:',format(tf.__version__))\n",
        "import matplotlib.pyplot as plt\n",
        "import numpy as np"
      ],
      "execution_count": null,
      "outputs": [
        {
          "output_type": "stream",
          "text": [
            "tensorflow: 2.2.0\n"
          ],
          "name": "stdout"
        },
        {
          "output_type": "stream",
          "text": [
            "Using TensorFlow backend.\n"
          ],
          "name": "stderr"
        }
      ]
    },
    {
      "cell_type": "code",
      "metadata": {
        "id": "7yUc0K9qIUfE",
        "colab_type": "code",
        "colab": {
          "base_uri": "https://localhost:8080/",
          "height": 294
        },
        "outputId": "d5f1be6f-00ae-4f07-82e1-c63cd4454854"
      },
      "source": [
        "model =  tf.keras.Sequential([\n",
        "                              tf.keras.layers.Embedding(input_dim=6,output_dim=64),\n",
        "                              tf.keras.layers.GRU(64,return_sequences=True),\n",
        "                              tf.keras.layers.SimpleRNN(32),\n",
        "                              tf.keras.layers.Dense(7)\n",
        "])\n",
        "model.summary()"
      ],
      "execution_count": null,
      "outputs": [
        {
          "output_type": "stream",
          "text": [
            "Model: \"sequential_21\"\n",
            "_________________________________________________________________\n",
            "Layer (type)                 Output Shape              Param #   \n",
            "=================================================================\n",
            "embedding_12 (Embedding)     (None, None, 64)          384       \n",
            "_________________________________________________________________\n",
            "gru_6 (GRU)                  (None, None, 64)          24960     \n",
            "_________________________________________________________________\n",
            "simple_rnn_3 (SimpleRNN)     (None, 32)                3104      \n",
            "_________________________________________________________________\n",
            "dense_39 (Dense)             (None, 7)                 231       \n",
            "=================================================================\n",
            "Total params: 28,679\n",
            "Trainable params: 28,679\n",
            "Non-trainable params: 0\n",
            "_________________________________________________________________\n"
          ],
          "name": "stdout"
        }
      ]
    },
    {
      "cell_type": "code",
      "metadata": {
        "id": "LWjhpr74J8ED",
        "colab_type": "code",
        "colab": {}
      },
      "source": [
        "model.compile(optimizer='adam',\n",
        "              loss='mse',\n",
        "              metrics=['acc'])"
      ],
      "execution_count": null,
      "outputs": []
    },
    {
      "cell_type": "code",
      "metadata": {
        "id": "erY91C_TKL5l",
        "colab_type": "code",
        "colab": {
          "base_uri": "https://localhost:8080/",
          "height": 1000
        },
        "outputId": "ccb78d3b-6e4d-4b45-f37b-81256c1fba7a"
      },
      "source": [
        "history=model.fit(X_train,y_train,\n",
        "         epochs=100,\n",
        "         validation_data=(X_test,y_test))"
      ],
      "execution_count": null,
      "outputs": [
        {
          "output_type": "stream",
          "text": [
            "Epoch 1/100\n",
            "105/105 [==============================] - 2s 16ms/step - loss: 8.6977 - acc: 0.0580 - val_loss: 4.4830 - val_acc: 0.0546\n",
            "Epoch 2/100\n",
            "105/105 [==============================] - 1s 9ms/step - loss: 4.3629 - acc: 0.0676 - val_loss: 4.2856 - val_acc: 0.0355\n",
            "Epoch 3/100\n",
            "105/105 [==============================] - 1s 9ms/step - loss: 4.3262 - acc: 0.1181 - val_loss: 4.2849 - val_acc: 0.2186\n",
            "Epoch 4/100\n",
            "105/105 [==============================] - 1s 9ms/step - loss: 4.3267 - acc: 0.1070 - val_loss: 4.2842 - val_acc: 0.2186\n",
            "Epoch 5/100\n",
            "105/105 [==============================] - 1s 9ms/step - loss: 4.3261 - acc: 0.1280 - val_loss: 4.2847 - val_acc: 0.1448\n",
            "Epoch 6/100\n",
            "105/105 [==============================] - 1s 9ms/step - loss: 4.3274 - acc: 0.1013 - val_loss: 4.2857 - val_acc: 0.0355\n",
            "Epoch 7/100\n",
            "105/105 [==============================] - 1s 9ms/step - loss: 4.3293 - acc: 0.1082 - val_loss: 4.2858 - val_acc: 0.0355\n",
            "Epoch 8/100\n",
            "105/105 [==============================] - 1s 9ms/step - loss: 4.3294 - acc: 0.1070 - val_loss: 4.2859 - val_acc: 0.1448\n",
            "Epoch 9/100\n",
            "105/105 [==============================] - 1s 9ms/step - loss: 4.3263 - acc: 0.0945 - val_loss: 4.2899 - val_acc: 0.0546\n",
            "Epoch 10/100\n",
            "105/105 [==============================] - 1s 9ms/step - loss: 4.3329 - acc: 0.0906 - val_loss: 4.2893 - val_acc: 0.1448\n",
            "Epoch 11/100\n",
            "105/105 [==============================] - 1s 9ms/step - loss: 4.3381 - acc: 0.0951 - val_loss: 4.2866 - val_acc: 0.2186\n",
            "Epoch 12/100\n",
            "105/105 [==============================] - 1s 9ms/step - loss: 4.3261 - acc: 0.1118 - val_loss: 4.2843 - val_acc: 0.2186\n",
            "Epoch 13/100\n",
            "105/105 [==============================] - 1s 9ms/step - loss: 4.3366 - acc: 0.1247 - val_loss: 4.2876 - val_acc: 0.0546\n",
            "Epoch 14/100\n",
            "105/105 [==============================] - 1s 9ms/step - loss: 4.3277 - acc: 0.1106 - val_loss: 4.2841 - val_acc: 0.0546\n",
            "Epoch 15/100\n",
            "105/105 [==============================] - 1s 9ms/step - loss: 4.3290 - acc: 0.1297 - val_loss: 4.2843 - val_acc: 0.2186\n",
            "Epoch 16/100\n",
            "105/105 [==============================] - 1s 9ms/step - loss: 4.3268 - acc: 0.1130 - val_loss: 4.2921 - val_acc: 0.2186\n",
            "Epoch 17/100\n",
            "105/105 [==============================] - 1s 9ms/step - loss: 4.3306 - acc: 0.1103 - val_loss: 4.2861 - val_acc: 0.2186\n",
            "Epoch 18/100\n",
            "105/105 [==============================] - 1s 9ms/step - loss: 4.3250 - acc: 0.1052 - val_loss: 4.2844 - val_acc: 0.0546\n",
            "Epoch 19/100\n",
            "105/105 [==============================] - 1s 9ms/step - loss: 4.3302 - acc: 0.1480 - val_loss: 4.2843 - val_acc: 0.0355\n",
            "Epoch 20/100\n",
            "105/105 [==============================] - 1s 9ms/step - loss: 4.3363 - acc: 0.1157 - val_loss: 4.2862 - val_acc: 0.0546\n",
            "Epoch 21/100\n",
            "105/105 [==============================] - 1s 9ms/step - loss: 4.3278 - acc: 0.1148 - val_loss: 4.2850 - val_acc: 0.1448\n",
            "Epoch 22/100\n",
            "105/105 [==============================] - 1s 9ms/step - loss: 4.3266 - acc: 0.1342 - val_loss: 4.2862 - val_acc: 0.1448\n",
            "Epoch 23/100\n",
            "105/105 [==============================] - 1s 9ms/step - loss: 4.3251 - acc: 0.1555 - val_loss: 4.3021 - val_acc: 0.2186\n",
            "Epoch 24/100\n",
            "105/105 [==============================] - 1s 9ms/step - loss: 4.3261 - acc: 0.0915 - val_loss: 4.2840 - val_acc: 0.0546\n",
            "Epoch 25/100\n",
            "105/105 [==============================] - 1s 9ms/step - loss: 4.3257 - acc: 0.0930 - val_loss: 4.2859 - val_acc: 0.0546\n",
            "Epoch 26/100\n",
            "105/105 [==============================] - 1s 9ms/step - loss: 4.3285 - acc: 0.1133 - val_loss: 4.2841 - val_acc: 0.1448\n",
            "Epoch 27/100\n",
            "105/105 [==============================] - 1s 9ms/step - loss: 4.3264 - acc: 0.1193 - val_loss: 4.2872 - val_acc: 0.0355\n",
            "Epoch 28/100\n",
            "105/105 [==============================] - 1s 9ms/step - loss: 4.3269 - acc: 0.1025 - val_loss: 4.2842 - val_acc: 0.1448\n",
            "Epoch 29/100\n",
            "105/105 [==============================] - 1s 9ms/step - loss: 4.3285 - acc: 0.1336 - val_loss: 4.2884 - val_acc: 0.1448\n",
            "Epoch 30/100\n",
            "105/105 [==============================] - 1s 9ms/step - loss: 4.3216 - acc: 0.1205 - val_loss: 4.2873 - val_acc: 0.2186\n",
            "Epoch 31/100\n",
            "105/105 [==============================] - 1s 9ms/step - loss: 4.3250 - acc: 0.1540 - val_loss: 4.2903 - val_acc: 0.0546\n",
            "Epoch 32/100\n",
            "105/105 [==============================] - 1s 9ms/step - loss: 4.3304 - acc: 0.1220 - val_loss: 4.2850 - val_acc: 0.1448\n",
            "Epoch 33/100\n",
            "105/105 [==============================] - 1s 9ms/step - loss: 4.3267 - acc: 0.1052 - val_loss: 4.2995 - val_acc: 0.0546\n",
            "Epoch 34/100\n",
            "105/105 [==============================] - 1s 9ms/step - loss: 4.3320 - acc: 0.1369 - val_loss: 4.2860 - val_acc: 0.2186\n",
            "Epoch 35/100\n",
            "105/105 [==============================] - 1s 9ms/step - loss: 4.3223 - acc: 0.1223 - val_loss: 4.2920 - val_acc: 0.2186\n",
            "Epoch 36/100\n",
            "105/105 [==============================] - 1s 9ms/step - loss: 4.3268 - acc: 0.1106 - val_loss: 4.2934 - val_acc: 0.0546\n",
            "Epoch 37/100\n",
            "105/105 [==============================] - 1s 9ms/step - loss: 4.3286 - acc: 0.1277 - val_loss: 4.2848 - val_acc: 0.0546\n",
            "Epoch 38/100\n",
            "105/105 [==============================] - 1s 9ms/step - loss: 4.3305 - acc: 0.1378 - val_loss: 4.2947 - val_acc: 0.2186\n",
            "Epoch 39/100\n",
            "105/105 [==============================] - 1s 9ms/step - loss: 4.3284 - acc: 0.1187 - val_loss: 4.2955 - val_acc: 0.0546\n",
            "Epoch 40/100\n",
            "105/105 [==============================] - 1s 9ms/step - loss: 4.3208 - acc: 0.1229 - val_loss: 4.2844 - val_acc: 0.0546\n",
            "Epoch 41/100\n",
            "105/105 [==============================] - 1s 9ms/step - loss: 4.3290 - acc: 0.1034 - val_loss: 4.2941 - val_acc: 0.2186\n",
            "Epoch 42/100\n",
            "105/105 [==============================] - 1s 9ms/step - loss: 4.3290 - acc: 0.1417 - val_loss: 4.2876 - val_acc: 0.0355\n",
            "Epoch 43/100\n",
            "105/105 [==============================] - 1s 9ms/step - loss: 4.3263 - acc: 0.1199 - val_loss: 4.2911 - val_acc: 0.0546\n",
            "Epoch 44/100\n",
            "105/105 [==============================] - 1s 9ms/step - loss: 4.3294 - acc: 0.1262 - val_loss: 4.2859 - val_acc: 0.0546\n",
            "Epoch 45/100\n",
            "105/105 [==============================] - 1s 9ms/step - loss: 4.3289 - acc: 0.1175 - val_loss: 4.2872 - val_acc: 0.0546\n",
            "Epoch 46/100\n",
            "105/105 [==============================] - 1s 9ms/step - loss: 4.3253 - acc: 0.1333 - val_loss: 4.2844 - val_acc: 0.0546\n",
            "Epoch 47/100\n",
            "105/105 [==============================] - 1s 9ms/step - loss: 4.3248 - acc: 0.1414 - val_loss: 4.2847 - val_acc: 0.1448\n",
            "Epoch 48/100\n",
            "105/105 [==============================] - 1s 9ms/step - loss: 4.3244 - acc: 0.1575 - val_loss: 4.2877 - val_acc: 0.0546\n",
            "Epoch 49/100\n",
            "105/105 [==============================] - 1s 9ms/step - loss: 4.3272 - acc: 0.1133 - val_loss: 4.2887 - val_acc: 0.2186\n",
            "Epoch 50/100\n",
            "105/105 [==============================] - 1s 9ms/step - loss: 4.3303 - acc: 0.1339 - val_loss: 4.2909 - val_acc: 0.0546\n",
            "Epoch 51/100\n",
            "105/105 [==============================] - 1s 9ms/step - loss: 4.3194 - acc: 0.1342 - val_loss: 4.3254 - val_acc: 0.2186\n",
            "Epoch 52/100\n",
            "105/105 [==============================] - 1s 9ms/step - loss: 4.3379 - acc: 0.1399 - val_loss: 4.2841 - val_acc: 0.0546\n",
            "Epoch 53/100\n",
            "105/105 [==============================] - 1s 9ms/step - loss: 4.3332 - acc: 0.1151 - val_loss: 4.2874 - val_acc: 0.1448\n",
            "Epoch 54/100\n",
            "105/105 [==============================] - 1s 9ms/step - loss: 4.3251 - acc: 0.1324 - val_loss: 4.2862 - val_acc: 0.2186\n",
            "Epoch 55/100\n",
            "105/105 [==============================] - 1s 9ms/step - loss: 4.3277 - acc: 0.0894 - val_loss: 4.2862 - val_acc: 0.0355\n",
            "Epoch 56/100\n",
            "105/105 [==============================] - 1s 9ms/step - loss: 4.3314 - acc: 0.1659 - val_loss: 4.2842 - val_acc: 0.2186\n",
            "Epoch 57/100\n",
            "105/105 [==============================] - 1s 9ms/step - loss: 4.3324 - acc: 0.1635 - val_loss: 4.2842 - val_acc: 0.2186\n",
            "Epoch 58/100\n",
            "105/105 [==============================] - 1s 9ms/step - loss: 4.3256 - acc: 0.1608 - val_loss: 4.2923 - val_acc: 0.2186\n",
            "Epoch 59/100\n",
            "105/105 [==============================] - 1s 9ms/step - loss: 4.3265 - acc: 0.1752 - val_loss: 4.2846 - val_acc: 0.1448\n",
            "Epoch 60/100\n",
            "105/105 [==============================] - 1s 9ms/step - loss: 4.3228 - acc: 0.1575 - val_loss: 4.2851 - val_acc: 0.1448\n",
            "Epoch 61/100\n",
            "105/105 [==============================] - 1s 9ms/step - loss: 4.3244 - acc: 0.1525 - val_loss: 4.2840 - val_acc: 0.2186\n",
            "Epoch 62/100\n",
            "105/105 [==============================] - 1s 9ms/step - loss: 4.3242 - acc: 0.1504 - val_loss: 4.2909 - val_acc: 0.1448\n",
            "Epoch 63/100\n",
            "105/105 [==============================] - 1s 9ms/step - loss: 4.3308 - acc: 0.1555 - val_loss: 4.2863 - val_acc: 0.2186\n",
            "Epoch 64/100\n",
            "105/105 [==============================] - 1s 9ms/step - loss: 4.3254 - acc: 0.1372 - val_loss: 4.2843 - val_acc: 0.1448\n",
            "Epoch 65/100\n",
            "105/105 [==============================] - 1s 9ms/step - loss: 4.3239 - acc: 0.1614 - val_loss: 4.2862 - val_acc: 0.2186\n",
            "Epoch 66/100\n",
            "105/105 [==============================] - 1s 9ms/step - loss: 4.3251 - acc: 0.1462 - val_loss: 4.2845 - val_acc: 0.0546\n",
            "Epoch 67/100\n",
            "105/105 [==============================] - 1s 9ms/step - loss: 4.3235 - acc: 0.1199 - val_loss: 4.2847 - val_acc: 0.0546\n",
            "Epoch 68/100\n",
            "105/105 [==============================] - 1s 9ms/step - loss: 4.3252 - acc: 0.1572 - val_loss: 4.2852 - val_acc: 0.0355\n",
            "Epoch 69/100\n",
            "105/105 [==============================] - 1s 9ms/step - loss: 4.3278 - acc: 0.1587 - val_loss: 4.2918 - val_acc: 0.2186\n",
            "Epoch 70/100\n",
            "105/105 [==============================] - 1s 9ms/step - loss: 4.3323 - acc: 0.1623 - val_loss: 4.3007 - val_acc: 0.0546\n",
            "Epoch 71/100\n",
            "105/105 [==============================] - 1s 9ms/step - loss: 4.3244 - acc: 0.1474 - val_loss: 4.3115 - val_acc: 0.1448\n",
            "Epoch 72/100\n",
            "105/105 [==============================] - 1s 9ms/step - loss: 4.3266 - acc: 0.1522 - val_loss: 4.2842 - val_acc: 0.2186\n",
            "Epoch 73/100\n",
            "105/105 [==============================] - 1s 9ms/step - loss: 4.3279 - acc: 0.1429 - val_loss: 4.2841 - val_acc: 0.0546\n",
            "Epoch 74/100\n",
            "105/105 [==============================] - 1s 9ms/step - loss: 4.3228 - acc: 0.1259 - val_loss: 4.2845 - val_acc: 0.0546\n",
            "Epoch 75/100\n",
            "105/105 [==============================] - 1s 9ms/step - loss: 4.3222 - acc: 0.1357 - val_loss: 4.2927 - val_acc: 0.0546\n",
            "Epoch 76/100\n",
            "105/105 [==============================] - 1s 9ms/step - loss: 4.3279 - acc: 0.1363 - val_loss: 4.2930 - val_acc: 0.2186\n",
            "Epoch 77/100\n",
            "105/105 [==============================] - 1s 9ms/step - loss: 4.3360 - acc: 0.1465 - val_loss: 4.2872 - val_acc: 0.2186\n",
            "Epoch 78/100\n",
            "105/105 [==============================] - 1s 9ms/step - loss: 4.3193 - acc: 0.1438 - val_loss: 4.2842 - val_acc: 0.0546\n",
            "Epoch 79/100\n",
            "105/105 [==============================] - 1s 9ms/step - loss: 4.3226 - acc: 0.1339 - val_loss: 4.2879 - val_acc: 0.2186\n",
            "Epoch 80/100\n",
            "105/105 [==============================] - 1s 9ms/step - loss: 4.3287 - acc: 0.1393 - val_loss: 4.2888 - val_acc: 0.2186\n",
            "Epoch 81/100\n",
            "105/105 [==============================] - 1s 9ms/step - loss: 4.3217 - acc: 0.1390 - val_loss: 4.2885 - val_acc: 0.0546\n",
            "Epoch 82/100\n",
            "105/105 [==============================] - 1s 9ms/step - loss: 4.3319 - acc: 0.1259 - val_loss: 4.2853 - val_acc: 0.2186\n",
            "Epoch 83/100\n",
            "105/105 [==============================] - 1s 9ms/step - loss: 4.3250 - acc: 0.1312 - val_loss: 4.2866 - val_acc: 0.0546\n",
            "Epoch 84/100\n",
            "105/105 [==============================] - 1s 9ms/step - loss: 4.3248 - acc: 0.1274 - val_loss: 4.2843 - val_acc: 0.0546\n",
            "Epoch 85/100\n",
            "105/105 [==============================] - 1s 9ms/step - loss: 4.3259 - acc: 0.1309 - val_loss: 4.2848 - val_acc: 0.2186\n",
            "Epoch 86/100\n",
            "105/105 [==============================] - 1s 9ms/step - loss: 4.3199 - acc: 0.1333 - val_loss: 4.3002 - val_acc: 0.0546\n",
            "Epoch 87/100\n",
            "105/105 [==============================] - 1s 9ms/step - loss: 4.3237 - acc: 0.1208 - val_loss: 4.2847 - val_acc: 0.0546\n",
            "Epoch 88/100\n",
            "105/105 [==============================] - 1s 9ms/step - loss: 4.3286 - acc: 0.1244 - val_loss: 4.2845 - val_acc: 0.2186\n",
            "Epoch 89/100\n",
            "105/105 [==============================] - 1s 9ms/step - loss: 4.3278 - acc: 0.1333 - val_loss: 4.2889 - val_acc: 0.2186\n",
            "Epoch 90/100\n",
            "105/105 [==============================] - 1s 9ms/step - loss: 4.3304 - acc: 0.1345 - val_loss: 4.2863 - val_acc: 0.0546\n",
            "Epoch 91/100\n",
            "105/105 [==============================] - 1s 9ms/step - loss: 4.3231 - acc: 0.1286 - val_loss: 4.2841 - val_acc: 0.0546\n",
            "Epoch 92/100\n",
            "105/105 [==============================] - 1s 9ms/step - loss: 4.3263 - acc: 0.1384 - val_loss: 4.2920 - val_acc: 0.0546\n",
            "Epoch 93/100\n",
            "105/105 [==============================] - 1s 9ms/step - loss: 4.3264 - acc: 0.1303 - val_loss: 4.2869 - val_acc: 0.0546\n",
            "Epoch 94/100\n",
            "105/105 [==============================] - 1s 9ms/step - loss: 4.3266 - acc: 0.1271 - val_loss: 4.2840 - val_acc: 0.2186\n",
            "Epoch 95/100\n",
            "105/105 [==============================] - 1s 9ms/step - loss: 4.3264 - acc: 0.1408 - val_loss: 4.2867 - val_acc: 0.2186\n",
            "Epoch 96/100\n",
            "105/105 [==============================] - 1s 9ms/step - loss: 4.3249 - acc: 0.1345 - val_loss: 4.2885 - val_acc: 0.2186\n",
            "Epoch 97/100\n",
            "105/105 [==============================] - 1s 10ms/step - loss: 4.3198 - acc: 0.1471 - val_loss: 4.2951 - val_acc: 0.2186\n",
            "Epoch 98/100\n",
            "105/105 [==============================] - 1s 10ms/step - loss: 4.3272 - acc: 0.1306 - val_loss: 4.2848 - val_acc: 0.2186\n",
            "Epoch 99/100\n",
            "105/105 [==============================] - 1s 9ms/step - loss: 4.3243 - acc: 0.1265 - val_loss: 4.2855 - val_acc: 0.2186\n",
            "Epoch 100/100\n",
            "105/105 [==============================] - 1s 9ms/step - loss: 4.3260 - acc: 0.1297 - val_loss: 4.2862 - val_acc: 0.0546\n"
          ],
          "name": "stdout"
        }
      ]
    },
    {
      "cell_type": "code",
      "metadata": {
        "id": "YJeqcSkoLhWd",
        "colab_type": "code",
        "colab": {
          "base_uri": "https://localhost:8080/",
          "height": 35
        },
        "outputId": "ead8a734-92eb-44fc-de4a-e7c159938901"
      },
      "source": [
        "history.history.keys()"
      ],
      "execution_count": null,
      "outputs": [
        {
          "output_type": "execute_result",
          "data": {
            "text/plain": [
              "dict_keys(['loss', 'acc', 'val_loss', 'val_acc'])"
            ]
          },
          "metadata": {
            "tags": []
          },
          "execution_count": 89
        }
      ]
    },
    {
      "cell_type": "code",
      "metadata": {
        "id": "7Hr4OVpsMBjQ",
        "colab_type": "code",
        "colab": {
          "base_uri": "https://localhost:8080/",
          "height": 284
        },
        "outputId": "8723bf0e-3331-48f2-e988-368d772e9083"
      },
      "source": [
        "plt.plot(history.epoch,history.history.get('acc'),label='acc')\n",
        "plt.plot(history.epoch,history.history.get('val_acc'),label='val_acc')"
      ],
      "execution_count": null,
      "outputs": [
        {
          "output_type": "execute_result",
          "data": {
            "text/plain": [
              "[<matplotlib.lines.Line2D at 0x7f625073ce48>]"
            ]
          },
          "metadata": {
            "tags": []
          },
          "execution_count": 90
        },
        {
          "output_type": "display_data",
          "data": {
            "image/png": "[encoded data removed]",
            "text/plain": [
              "<Figure size 432x288 with 1 Axes>"
            ]
          },
          "metadata": {
            "tags": [],
            "needs_background": "light"
          }
        }
      ]
    },
    {
      "cell_type": "code",
      "metadata": {
        "id": "rq2MjdxvMIDC",
        "colab_type": "code",
        "colab": {
          "base_uri": "https://localhost:8080/",
          "height": 282
        },
        "outputId": "224b3262-e0ad-44a1-fbb2-d02602c03d2e"
      },
      "source": [
        "plt.plot(history.epoch,history.history.get('loss'),label='loss')\n",
        "plt.plot(history.epoch,history.history.get('val_loss'),label='val_loss')"
      ],
      "execution_count": null,
      "outputs": [
        {
          "output_type": "execute_result",
          "data": {
            "text/plain": [
              "[<matplotlib.lines.Line2D at 0x7f6250c43470>]"
            ]
          },
          "metadata": {
            "tags": []
          },
          "execution_count": 91
        },
        {
          "output_type": "display_data",
          "data": {
            "image/png": "[encoded data removed]",
            "text/plain": [
              "<Figure size 432x288 with 1 Axes>"
            ]
          },
          "metadata": {
            "tags": [],
            "needs_background": "light"
          }
        }
      ]
    }
  ]
}