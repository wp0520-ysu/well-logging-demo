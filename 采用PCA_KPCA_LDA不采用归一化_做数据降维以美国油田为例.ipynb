{
  "nbformat": 4,
  "nbformat_minor": 0,
  "metadata": {
    "colab": {
      "name": "采用PCA KPCA LDA不采用归一化 做数据降维以美国油田为例.ipynb",
      "provenance": [],
      "collapsed_sections": [],
      "toc_visible": true,
      "authorship_tag": "ABX9TyPjos6qD9VaewRp/vav/WtV",
      "include_colab_link": true
    },
    "kernelspec": {
      "name": "python3",
      "display_name": "Python 3"
    }
  },
  "cells": [
    {
      "cell_type": "markdown",
      "metadata": {
        "id": "view-in-github",
        "colab_type": "text"
      },
      "source": [
        "<a href=\"https://colab.research.google.com/github/sunyingjian/-Logging-related-network/blob/master/%E9%87%87%E7%94%A8PCA_KPCA_LDA%E4%B8%8D%E9%87%87%E7%94%A8%E5%BD%92%E4%B8%80%E5%8C%96_%E5%81%9A%E6%95%B0%E6%8D%AE%E9%99%8D%E7%BB%B4%E4%BB%A5%E7%BE%8E%E5%9B%BD%E6%B2%B9%E7%94%B0%E4%B8%BA%E4%BE%8B.ipynb\" target=\"_parent\"><img src=\"https://colab.research.google.com/assets/colab-badge.svg\" alt=\"Open In Colab\"/></a>"
      ]
    },
    {
      "cell_type": "markdown",
      "metadata": {
        "id": "Cqy3vXXOMI06",
        "colab_type": "text"
      },
      "source": [
        "### <font size=5px color=\"red\">✦ *Google Colab 突破90分钟自动断开:</font>\n",
        "<p><font size=3px > 每60分钟自动运行代码以刷新90分钟断开限制. 打开 developer-settings (在你的浏览器) 快速健 Ctrl+Shift+I 然后按console 输入以下代码 Enter. ( mac 按 Option+Command+I)</p><b>复制以下隐藏代码粉贴在浏览器console！！不要关闭浏览器以免失效</b>"
      ]
    },
    {
      "cell_type": "markdown",
      "metadata": {
        "id": "3Z8cK8h2Avbv",
        "colab_type": "text"
      },
      "source": [
        "<code>function ClickConnect(){\n",
        "console.log(\"Working\"); \n",
        "document.querySelector(\"colab-connect-button\").click() \n",
        "}setInterval(ClickConnect,6000)</code>"
      ]
    },
    {
      "cell_type": "code",
      "metadata": {
        "id": "jtClEMAMLVHw",
        "colab_type": "code",
        "cellView": "both",
        "colab": {
          "base_uri": "https://localhost:8080/",
          "height": 35
        },
        "outputId": "c67dbc5f-984d-425d-8edf-13876027afa1"
      },
      "source": [
        "#@markdown <h3>← 输入了代码后运行以防止断开</h>\n",
        "\n",
        "\n",
        "import IPython\n",
        "from google.colab import output\n",
        "\n",
        "display(IPython.display.Javascript('''\n",
        " function ClickConnect(){\n",
        "   btn = document.querySelector(\"colab-connect-button\")\n",
        "   if (btn != null){\n",
        "     console.log(\"Click colab-connect-button\"); \n",
        "     btn.click() \n",
        "     }\n",
        "   \n",
        "   btn = document.getElementById('ok')\n",
        "   if (btn != null){\n",
        "     console.log(\"Click reconnect\"); \n",
        "     btn.click() \n",
        "     }\n",
        "  }\n",
        "  \n",
        "setInterval(ClickConnect,60000)\n",
        "'''))\n",
        "\n",
        "print(\"Done.\")"
      ],
      "execution_count": 1,
      "outputs": [
        {
          "output_type": "display_data",
          "data": {
            "application/javascript": [
              "\n",
              " function ClickConnect(){\n",
              "   btn = document.querySelector(\"colab-connect-button\")\n",
              "   if (btn != null){\n",
              "     console.log(\"Click colab-connect-button\"); \n",
              "     btn.click() \n",
              "     }\n",
              "   \n",
              "   btn = document.getElementById('ok')\n",
              "   if (btn != null){\n",
              "     console.log(\"Click reconnect\"); \n",
              "     btn.click() \n",
              "     }\n",
              "  }\n",
              "  \n",
              "setInterval(ClickConnect,60000)\n"
            ],
            "text/plain": [
              "<IPython.core.display.Javascript object>"
            ]
          },
          "metadata": {
            "tags": []
          }
        },
        {
          "output_type": "stream",
          "text": [
            "Done.\n"
          ],
          "name": "stdout"
        }
      ]
    },
    {
      "cell_type": "markdown",
      "metadata": {
        "id": "2Kt3s4toryUA",
        "colab_type": "text"
      },
      "source": [
        "#准备数据"
      ]
    },
    {
      "cell_type": "code",
      "metadata": {
        "id": "9X6siHUprwnl",
        "colab_type": "code",
        "colab": {
          "base_uri": "https://localhost:8080/",
          "height": 207
        },
        "outputId": "982f2dd0-ec91-4cf0-fb21-0a0923a44c6d"
      },
      "source": [
        "! git clone https://github.com/sunyingjian/numpy-.git\n",
        "! git clone https://github.com/seg/tutorials-2016.git"
      ],
      "execution_count": 2,
      "outputs": [
        {
          "output_type": "stream",
          "text": [
            "Cloning into 'numpy-'...\n",
            "remote: Enumerating objects: 69, done.\u001b[K\n",
            "remote: Counting objects: 100% (69/69), done.\u001b[K\n",
            "remote: Compressing objects: 100% (69/69), done.\u001b[K\n",
            "remote: Total 69 (delta 23), reused 0 (delta 0), pack-reused 0\u001b[K\n",
            "Unpacking objects: 100% (69/69), done.\n",
            "Cloning into 'tutorials-2016'...\n",
            "remote: Enumerating objects: 161, done.\u001b[K\n",
            "remote: Total 161 (delta 0), reused 0 (delta 0), pack-reused 161\u001b[K\n",
            "Receiving objects: 100% (161/161), 16.86 MiB | 13.50 MiB/s, done.\n",
            "Resolving deltas: 100% (64/64), done.\n"
          ],
          "name": "stdout"
        }
      ]
    },
    {
      "cell_type": "code",
      "metadata": {
        "id": "rw0aebL3r2lS",
        "colab_type": "code",
        "colab": {
          "base_uri": "https://localhost:8080/",
          "height": 124
        },
        "outputId": "05027778-ecc5-43fa-df50-167b022a53a9"
      },
      "source": [
        "import os\n",
        "from google.colab import drive\n",
        "drive.mount('/content/drive')"
      ],
      "execution_count": 3,
      "outputs": [
        {
          "output_type": "stream",
          "text": [
            "Go to this URL in a browser: https://accounts.google.com/o/oauth2/auth?client_id=947318989803-6bn6qk8qdgf4n4g3pfee6491hc0brc4i.apps.googleusercontent.com&redirect_uri=urn%3aietf%3awg%3aoauth%3a2.0%3aoob&response_type=code&scope=email%20https%3a%2f%2fwww.googleapis.com%2fauth%2fdocs.test%20https%3a%2f%2fwww.googleapis.com%2fauth%2fdrive%20https%3a%2f%2fwww.googleapis.com%2fauth%2fdrive.photos.readonly%20https%3a%2f%2fwww.googleapis.com%2fauth%2fpeopleapi.readonly\n",
            "\n",
            "Enter your authorization code:\n",
            "··········\n",
            "Mounted at /content/drive\n"
          ],
          "name": "stdout"
        }
      ]
    },
    {
      "cell_type": "code",
      "metadata": {
        "id": "K7PBrA4Yr8h_",
        "colab_type": "code",
        "colab": {
          "base_uri": "https://localhost:8080/",
          "height": 407
        },
        "outputId": "add309cc-4a38-4d6a-c63e-84e8bf7f2860"
      },
      "source": [
        "%matplotlib inline\n",
        "#%matplotlib inline 可以在Ipython编译器里直接使用，功能是可以内嵌绘图，并且可以省略掉plt.show()这一步。\n",
        "import pandas as pd\n",
        "import numpy as np\n",
        "import matplotlib as mpl\n",
        "import matplotlib.pyplot as plt\n",
        "import matplotlib.colors as colors\n",
        "from mpl_toolkits.axes_grid1 import make_axes_locatable\n",
        "from pandas import set_option\n",
        "set_option(\"display.max_rows\", 10)#设置要显示的默认行数，显示的最大行数是10\n",
        "pd.options.mode.chained_assignment = None #为了在增加列表行数的时候防止出现setting with copy warning\n",
        "filename = 'facies_vectors.csv'\n",
        "training_data = pd.read_csv('/content/tutorials-2016/1610_Facies_classification/training_data.csv')\n",
        "training_data"
      ],
      "execution_count": 4,
      "outputs": [
        {
          "output_type": "execute_result",
          "data": {
            "text/html": [
              "<div>\n",
              "<style scoped>\n",
              "    .dataframe tbody tr th:only-of-type {\n",
              "        vertical-align: middle;\n",
              "    }\n",
              "\n",
              "    .dataframe tbody tr th {\n",
              "        vertical-align: top;\n",
              "    }\n",
              "\n",
              "    .dataframe thead th {\n",
              "        text-align: right;\n",
              "    }\n",
              "</style>\n",
              "<table border=\"1\" class=\"dataframe\">\n",
              "  <thead>\n",
              "    <tr style=\"text-align: right;\">\n",
              "      <th></th>\n",
              "      <th>Facies</th>\n",
              "      <th>Formation</th>\n",
              "      <th>Well Name</th>\n",
              "      <th>Depth</th>\n",
              "      <th>GR</th>\n",
              "      <th>ILD_log10</th>\n",
              "      <th>DeltaPHI</th>\n",
              "      <th>PHIND</th>\n",
              "      <th>PE</th>\n",
              "      <th>NM_M</th>\n",
              "      <th>RELPOS</th>\n",
              "    </tr>\n",
              "  </thead>\n",
              "  <tbody>\n",
              "    <tr>\n",
              "      <th>0</th>\n",
              "      <td>3</td>\n",
              "      <td>A1 SH</td>\n",
              "      <td>SHRIMPLIN</td>\n",
              "      <td>2793.0</td>\n",
              "      <td>77.450</td>\n",
              "      <td>0.664</td>\n",
              "      <td>9.900</td>\n",
              "      <td>11.915</td>\n",
              "      <td>4.600</td>\n",
              "      <td>1</td>\n",
              "      <td>1.000</td>\n",
              "    </tr>\n",
              "    <tr>\n",
              "      <th>1</th>\n",
              "      <td>3</td>\n",
              "      <td>A1 SH</td>\n",
              "      <td>SHRIMPLIN</td>\n",
              "      <td>2793.5</td>\n",
              "      <td>78.260</td>\n",
              "      <td>0.661</td>\n",
              "      <td>14.200</td>\n",
              "      <td>12.565</td>\n",
              "      <td>4.100</td>\n",
              "      <td>1</td>\n",
              "      <td>0.979</td>\n",
              "    </tr>\n",
              "    <tr>\n",
              "      <th>2</th>\n",
              "      <td>3</td>\n",
              "      <td>A1 SH</td>\n",
              "      <td>SHRIMPLIN</td>\n",
              "      <td>2794.0</td>\n",
              "      <td>79.050</td>\n",
              "      <td>0.658</td>\n",
              "      <td>14.800</td>\n",
              "      <td>13.050</td>\n",
              "      <td>3.600</td>\n",
              "      <td>1</td>\n",
              "      <td>0.957</td>\n",
              "    </tr>\n",
              "    <tr>\n",
              "      <th>3</th>\n",
              "      <td>3</td>\n",
              "      <td>A1 SH</td>\n",
              "      <td>SHRIMPLIN</td>\n",
              "      <td>2794.5</td>\n",
              "      <td>86.100</td>\n",
              "      <td>0.655</td>\n",
              "      <td>13.900</td>\n",
              "      <td>13.115</td>\n",
              "      <td>3.500</td>\n",
              "      <td>1</td>\n",
              "      <td>0.936</td>\n",
              "    </tr>\n",
              "    <tr>\n",
              "      <th>4</th>\n",
              "      <td>3</td>\n",
              "      <td>A1 SH</td>\n",
              "      <td>SHRIMPLIN</td>\n",
              "      <td>2795.0</td>\n",
              "      <td>74.580</td>\n",
              "      <td>0.647</td>\n",
              "      <td>13.500</td>\n",
              "      <td>13.300</td>\n",
              "      <td>3.400</td>\n",
              "      <td>1</td>\n",
              "      <td>0.915</td>\n",
              "    </tr>\n",
              "    <tr>\n",
              "      <th>...</th>\n",
              "      <td>...</td>\n",
              "      <td>...</td>\n",
              "      <td>...</td>\n",
              "      <td>...</td>\n",
              "      <td>...</td>\n",
              "      <td>...</td>\n",
              "      <td>...</td>\n",
              "      <td>...</td>\n",
              "      <td>...</td>\n",
              "      <td>...</td>\n",
              "      <td>...</td>\n",
              "    </tr>\n",
              "    <tr>\n",
              "      <th>3227</th>\n",
              "      <td>5</td>\n",
              "      <td>C LM</td>\n",
              "      <td>CHURCHMAN BIBLE</td>\n",
              "      <td>3120.5</td>\n",
              "      <td>46.719</td>\n",
              "      <td>0.947</td>\n",
              "      <td>1.828</td>\n",
              "      <td>7.254</td>\n",
              "      <td>3.617</td>\n",
              "      <td>2</td>\n",
              "      <td>0.685</td>\n",
              "    </tr>\n",
              "    <tr>\n",
              "      <th>3228</th>\n",
              "      <td>5</td>\n",
              "      <td>C LM</td>\n",
              "      <td>CHURCHMAN BIBLE</td>\n",
              "      <td>3121.0</td>\n",
              "      <td>44.563</td>\n",
              "      <td>0.953</td>\n",
              "      <td>2.241</td>\n",
              "      <td>8.013</td>\n",
              "      <td>3.344</td>\n",
              "      <td>2</td>\n",
              "      <td>0.677</td>\n",
              "    </tr>\n",
              "    <tr>\n",
              "      <th>3229</th>\n",
              "      <td>5</td>\n",
              "      <td>C LM</td>\n",
              "      <td>CHURCHMAN BIBLE</td>\n",
              "      <td>3121.5</td>\n",
              "      <td>49.719</td>\n",
              "      <td>0.964</td>\n",
              "      <td>2.925</td>\n",
              "      <td>8.013</td>\n",
              "      <td>3.190</td>\n",
              "      <td>2</td>\n",
              "      <td>0.669</td>\n",
              "    </tr>\n",
              "    <tr>\n",
              "      <th>3230</th>\n",
              "      <td>5</td>\n",
              "      <td>C LM</td>\n",
              "      <td>CHURCHMAN BIBLE</td>\n",
              "      <td>3122.0</td>\n",
              "      <td>51.469</td>\n",
              "      <td>0.965</td>\n",
              "      <td>3.083</td>\n",
              "      <td>7.708</td>\n",
              "      <td>3.152</td>\n",
              "      <td>2</td>\n",
              "      <td>0.661</td>\n",
              "    </tr>\n",
              "    <tr>\n",
              "      <th>3231</th>\n",
              "      <td>5</td>\n",
              "      <td>C LM</td>\n",
              "      <td>CHURCHMAN BIBLE</td>\n",
              "      <td>3122.5</td>\n",
              "      <td>50.031</td>\n",
              "      <td>0.970</td>\n",
              "      <td>2.609</td>\n",
              "      <td>6.668</td>\n",
              "      <td>3.295</td>\n",
              "      <td>2</td>\n",
              "      <td>0.653</td>\n",
              "    </tr>\n",
              "  </tbody>\n",
              "</table>\n",
              "<p>3232 rows × 11 columns</p>\n",
              "</div>"
            ],
            "text/plain": [
              "      Facies Formation        Well Name   Depth  ...   PHIND     PE  NM_M  RELPOS\n",
              "0          3     A1 SH        SHRIMPLIN  2793.0  ...  11.915  4.600     1   1.000\n",
              "1          3     A1 SH        SHRIMPLIN  2793.5  ...  12.565  4.100     1   0.979\n",
              "2          3     A1 SH        SHRIMPLIN  2794.0  ...  13.050  3.600     1   0.957\n",
              "3          3     A1 SH        SHRIMPLIN  2794.5  ...  13.115  3.500     1   0.936\n",
              "4          3     A1 SH        SHRIMPLIN  2795.0  ...  13.300  3.400     1   0.915\n",
              "...      ...       ...              ...     ...  ...     ...    ...   ...     ...\n",
              "3227       5      C LM  CHURCHMAN BIBLE  3120.5  ...   7.254  3.617     2   0.685\n",
              "3228       5      C LM  CHURCHMAN BIBLE  3121.0  ...   8.013  3.344     2   0.677\n",
              "3229       5      C LM  CHURCHMAN BIBLE  3121.5  ...   8.013  3.190     2   0.669\n",
              "3230       5      C LM  CHURCHMAN BIBLE  3122.0  ...   7.708  3.152     2   0.661\n",
              "3231       5      C LM  CHURCHMAN BIBLE  3122.5  ...   6.668  3.295     2   0.653\n",
              "\n",
              "[3232 rows x 11 columns]"
            ]
          },
          "metadata": {
            "tags": []
          },
          "execution_count": 4
        }
      ]
    },
    {
      "cell_type": "code",
      "metadata": {
        "id": "OXLr943cr_Zz",
        "colab_type": "code",
        "colab": {
          "base_uri": "https://localhost:8080/",
          "height": 69
        },
        "outputId": "1440de05-d626-4385-f629-337270ad37b0"
      },
      "source": [
        "training_data['Well Name'] = training_data['Well Name'].astype('category')\n",
        "training_data['Formation'] = training_data['Formation'].astype('category')\n",
        "training_data['Well Name'].unique()"
      ],
      "execution_count": 5,
      "outputs": [
        {
          "output_type": "execute_result",
          "data": {
            "text/plain": [
              "[SHRIMPLIN, SHANKLE, LUKE G U, CROSS H CATTLE, NOLAN, Recruit F9, NEWBY, CHURCHMAN BIBLE]\n",
              "Categories (8, object): [SHRIMPLIN, SHANKLE, LUKE G U, CROSS H CATTLE, NOLAN, Recruit F9, NEWBY,\n",
              "                         CHURCHMAN BIBLE]"
            ]
          },
          "metadata": {
            "tags": []
          },
          "execution_count": 5
        }
      ]
    },
    {
      "cell_type": "code",
      "metadata": {
        "id": "XgXfk6c-sD-f",
        "colab_type": "code",
        "colab": {
          "base_uri": "https://localhost:8080/",
          "height": 288
        },
        "outputId": "2ef10d90-935d-4212-ae29-90f7972a5e72"
      },
      "source": [
        "# 1=sandstone  2=c_siltstone   3=f_siltstone \n",
        "# 4=marine_silt_shale 5=mudstone 6=wackestone 7=dolomite\n",
        "# 8=packstone 9=bafflestone\n",
        "facies_colors = ['#F4D03F', '#F5B041','#DC7633','#6E2C00',\n",
        "       '#1B4F72','#2E86C1', '#AED6F1', '#A569BD', '#196F3D']\n",
        "\n",
        "facies_labels = ['SS', 'CSiS', 'FSiS', 'SiSh', 'MS',\n",
        "                 'WS', 'D','PS', 'BS']\n",
        "#facies_color_map is a dictionary that maps facies labels\n",
        "#to their respective colors\n",
        "facies_color_map = {}\n",
        "for ind, label in enumerate(facies_labels):\n",
        "    facies_color_map[label] = facies_colors[ind]\n",
        "\n",
        "def label_facies(row, labels):\n",
        "    return labels[ row['Facies'] -1]\n",
        "    \n",
        "training_data.loc[:,'FaciesLabels'] = training_data.apply(lambda row: label_facies(row, facies_labels), axis=1) #建立标签\n",
        "training_data.describe()"
      ],
      "execution_count": 6,
      "outputs": [
        {
          "output_type": "execute_result",
          "data": {
            "text/html": [
              "<div>\n",
              "<style scoped>\n",
              "    .dataframe tbody tr th:only-of-type {\n",
              "        vertical-align: middle;\n",
              "    }\n",
              "\n",
              "    .dataframe tbody tr th {\n",
              "        vertical-align: top;\n",
              "    }\n",
              "\n",
              "    .dataframe thead th {\n",
              "        text-align: right;\n",
              "    }\n",
              "</style>\n",
              "<table border=\"1\" class=\"dataframe\">\n",
              "  <thead>\n",
              "    <tr style=\"text-align: right;\">\n",
              "      <th></th>\n",
              "      <th>Facies</th>\n",
              "      <th>Depth</th>\n",
              "      <th>GR</th>\n",
              "      <th>ILD_log10</th>\n",
              "      <th>DeltaPHI</th>\n",
              "      <th>PHIND</th>\n",
              "      <th>PE</th>\n",
              "      <th>NM_M</th>\n",
              "      <th>RELPOS</th>\n",
              "    </tr>\n",
              "  </thead>\n",
              "  <tbody>\n",
              "    <tr>\n",
              "      <th>count</th>\n",
              "      <td>3232.000000</td>\n",
              "      <td>3232.000000</td>\n",
              "      <td>3232.000000</td>\n",
              "      <td>3232.000000</td>\n",
              "      <td>3232.000000</td>\n",
              "      <td>3232.000000</td>\n",
              "      <td>3232.000000</td>\n",
              "      <td>3232.000000</td>\n",
              "      <td>3232.000000</td>\n",
              "    </tr>\n",
              "    <tr>\n",
              "      <th>mean</th>\n",
              "      <td>4.422030</td>\n",
              "      <td>2875.824567</td>\n",
              "      <td>66.135769</td>\n",
              "      <td>0.642719</td>\n",
              "      <td>3.559642</td>\n",
              "      <td>13.483213</td>\n",
              "      <td>3.725014</td>\n",
              "      <td>1.498453</td>\n",
              "      <td>0.520287</td>\n",
              "    </tr>\n",
              "    <tr>\n",
              "      <th>std</th>\n",
              "      <td>2.504243</td>\n",
              "      <td>131.006274</td>\n",
              "      <td>30.854826</td>\n",
              "      <td>0.241845</td>\n",
              "      <td>5.228948</td>\n",
              "      <td>7.698980</td>\n",
              "      <td>0.896152</td>\n",
              "      <td>0.500075</td>\n",
              "      <td>0.286792</td>\n",
              "    </tr>\n",
              "    <tr>\n",
              "      <th>min</th>\n",
              "      <td>1.000000</td>\n",
              "      <td>2573.500000</td>\n",
              "      <td>13.250000</td>\n",
              "      <td>-0.025949</td>\n",
              "      <td>-21.832000</td>\n",
              "      <td>0.550000</td>\n",
              "      <td>0.200000</td>\n",
              "      <td>1.000000</td>\n",
              "      <td>0.010000</td>\n",
              "    </tr>\n",
              "    <tr>\n",
              "      <th>25%</th>\n",
              "      <td>2.000000</td>\n",
              "      <td>2791.000000</td>\n",
              "      <td>46.918750</td>\n",
              "      <td>0.492750</td>\n",
              "      <td>1.163750</td>\n",
              "      <td>8.346750</td>\n",
              "      <td>3.100000</td>\n",
              "      <td>1.000000</td>\n",
              "      <td>0.273000</td>\n",
              "    </tr>\n",
              "    <tr>\n",
              "      <th>50%</th>\n",
              "      <td>4.000000</td>\n",
              "      <td>2893.500000</td>\n",
              "      <td>65.721500</td>\n",
              "      <td>0.624437</td>\n",
              "      <td>3.500000</td>\n",
              "      <td>12.150000</td>\n",
              "      <td>3.551500</td>\n",
              "      <td>1.000000</td>\n",
              "      <td>0.526000</td>\n",
              "    </tr>\n",
              "    <tr>\n",
              "      <th>75%</th>\n",
              "      <td>6.000000</td>\n",
              "      <td>2980.000000</td>\n",
              "      <td>79.626250</td>\n",
              "      <td>0.812735</td>\n",
              "      <td>6.432500</td>\n",
              "      <td>16.453750</td>\n",
              "      <td>4.300000</td>\n",
              "      <td>2.000000</td>\n",
              "      <td>0.767250</td>\n",
              "    </tr>\n",
              "    <tr>\n",
              "      <th>max</th>\n",
              "      <td>9.000000</td>\n",
              "      <td>3122.500000</td>\n",
              "      <td>361.150000</td>\n",
              "      <td>1.480000</td>\n",
              "      <td>18.600000</td>\n",
              "      <td>84.400000</td>\n",
              "      <td>8.094000</td>\n",
              "      <td>2.000000</td>\n",
              "      <td>1.000000</td>\n",
              "    </tr>\n",
              "  </tbody>\n",
              "</table>\n",
              "</div>"
            ],
            "text/plain": [
              "            Facies        Depth  ...         NM_M       RELPOS\n",
              "count  3232.000000  3232.000000  ...  3232.000000  3232.000000\n",
              "mean      4.422030  2875.824567  ...     1.498453     0.520287\n",
              "std       2.504243   131.006274  ...     0.500075     0.286792\n",
              "min       1.000000  2573.500000  ...     1.000000     0.010000\n",
              "25%       2.000000  2791.000000  ...     1.000000     0.273000\n",
              "50%       4.000000  2893.500000  ...     1.000000     0.526000\n",
              "75%       6.000000  2980.000000  ...     2.000000     0.767250\n",
              "max       9.000000  3122.500000  ...     2.000000     1.000000\n",
              "\n",
              "[8 rows x 9 columns]"
            ]
          },
          "metadata": {
            "tags": []
          },
          "execution_count": 6
        }
      ]
    },
    {
      "cell_type": "code",
      "metadata": {
        "id": "xYclPvD4uVfk",
        "colab_type": "code",
        "colab": {
          "base_uri": "https://localhost:8080/",
          "height": 466
        },
        "outputId": "4ddb67e5-b63b-4345-f87a-cc49360ad921"
      },
      "source": [
        "#count the number of unique entries for each facies, sort them by facies number (instead of by number of entries)\n",
        "#计算每个相的唯一条目数，然后按相数（而不是条目数）对它们进行排序\n",
        "facies_counts = training_data['Facies'].value_counts().sort_index()\n",
        "#use facies labels to index each count\n",
        "#使用相标签索引每个计数\n",
        "facies_counts.index = facies_labels\n",
        "\n",
        "facies_counts.plot(kind='bar',color=facies_colors, \n",
        "                   title='Distribution of Training Data by Facies')\n",
        "facies_counts"
      ],
      "execution_count": 7,
      "outputs": [
        {
          "output_type": "execute_result",
          "data": {
            "text/plain": [
              "SS      259\n",
              "CSiS    738\n",
              "FSiS    615\n",
              "SiSh    184\n",
              "MS      217\n",
              "WS      462\n",
              "D        98\n",
              "PS      498\n",
              "BS      161\n",
              "Name: Facies, dtype: int64"
            ]
          },
          "metadata": {
            "tags": []
          },
          "execution_count": 7
        },
        {
          "output_type": "display_data",
          "data": {
            "image/png": "[encoded data removed]",
            "text/plain": [
              "<Figure size 432x288 with 1 Axes>"
            ]
          },
          "metadata": {
            "tags": [],
            "needs_background": "light"
          }
        }
      ]
    },
    {
      "cell_type": "code",
      "metadata": {
        "id": "QtWLNJ9huaPn",
        "colab_type": "code",
        "colab": {
          "base_uri": "https://localhost:8080/",
          "height": 288
        },
        "outputId": "75529d8b-5a65-4084-f8f3-ac5ab2228a18"
      },
      "source": [
        "correct_facies_labels = training_data['Facies'].values\n",
        "\n",
        "feature_vectors = training_data.drop(['Formation', 'Well Name', 'Depth','Facies','FaciesLabels'], axis=1)\n",
        "feature_vectors.describe()"
      ],
      "execution_count": 8,
      "outputs": [
        {
          "output_type": "execute_result",
          "data": {
            "text/html": [
              "<div>\n",
              "<style scoped>\n",
              "    .dataframe tbody tr th:only-of-type {\n",
              "        vertical-align: middle;\n",
              "    }\n",
              "\n",
              "    .dataframe tbody tr th {\n",
              "        vertical-align: top;\n",
              "    }\n",
              "\n",
              "    .dataframe thead th {\n",
              "        text-align: right;\n",
              "    }\n",
              "</style>\n",
              "<table border=\"1\" class=\"dataframe\">\n",
              "  <thead>\n",
              "    <tr style=\"text-align: right;\">\n",
              "      <th></th>\n",
              "      <th>GR</th>\n",
              "      <th>ILD_log10</th>\n",
              "      <th>DeltaPHI</th>\n",
              "      <th>PHIND</th>\n",
              "      <th>PE</th>\n",
              "      <th>NM_M</th>\n",
              "      <th>RELPOS</th>\n",
              "    </tr>\n",
              "  </thead>\n",
              "  <tbody>\n",
              "    <tr>\n",
              "      <th>count</th>\n",
              "      <td>3232.000000</td>\n",
              "      <td>3232.000000</td>\n",
              "      <td>3232.000000</td>\n",
              "      <td>3232.000000</td>\n",
              "      <td>3232.000000</td>\n",
              "      <td>3232.000000</td>\n",
              "      <td>3232.000000</td>\n",
              "    </tr>\n",
              "    <tr>\n",
              "      <th>mean</th>\n",
              "      <td>66.135769</td>\n",
              "      <td>0.642719</td>\n",
              "      <td>3.559642</td>\n",
              "      <td>13.483213</td>\n",
              "      <td>3.725014</td>\n",
              "      <td>1.498453</td>\n",
              "      <td>0.520287</td>\n",
              "    </tr>\n",
              "    <tr>\n",
              "      <th>std</th>\n",
              "      <td>30.854826</td>\n",
              "      <td>0.241845</td>\n",
              "      <td>5.228948</td>\n",
              "      <td>7.698980</td>\n",
              "      <td>0.896152</td>\n",
              "      <td>0.500075</td>\n",
              "      <td>0.286792</td>\n",
              "    </tr>\n",
              "    <tr>\n",
              "      <th>min</th>\n",
              "      <td>13.250000</td>\n",
              "      <td>-0.025949</td>\n",
              "      <td>-21.832000</td>\n",
              "      <td>0.550000</td>\n",
              "      <td>0.200000</td>\n",
              "      <td>1.000000</td>\n",
              "      <td>0.010000</td>\n",
              "    </tr>\n",
              "    <tr>\n",
              "      <th>25%</th>\n",
              "      <td>46.918750</td>\n",
              "      <td>0.492750</td>\n",
              "      <td>1.163750</td>\n",
              "      <td>8.346750</td>\n",
              "      <td>3.100000</td>\n",
              "      <td>1.000000</td>\n",
              "      <td>0.273000</td>\n",
              "    </tr>\n",
              "    <tr>\n",
              "      <th>50%</th>\n",
              "      <td>65.721500</td>\n",
              "      <td>0.624437</td>\n",
              "      <td>3.500000</td>\n",
              "      <td>12.150000</td>\n",
              "      <td>3.551500</td>\n",
              "      <td>1.000000</td>\n",
              "      <td>0.526000</td>\n",
              "    </tr>\n",
              "    <tr>\n",
              "      <th>75%</th>\n",
              "      <td>79.626250</td>\n",
              "      <td>0.812735</td>\n",
              "      <td>6.432500</td>\n",
              "      <td>16.453750</td>\n",
              "      <td>4.300000</td>\n",
              "      <td>2.000000</td>\n",
              "      <td>0.767250</td>\n",
              "    </tr>\n",
              "    <tr>\n",
              "      <th>max</th>\n",
              "      <td>361.150000</td>\n",
              "      <td>1.480000</td>\n",
              "      <td>18.600000</td>\n",
              "      <td>84.400000</td>\n",
              "      <td>8.094000</td>\n",
              "      <td>2.000000</td>\n",
              "      <td>1.000000</td>\n",
              "    </tr>\n",
              "  </tbody>\n",
              "</table>\n",
              "</div>"
            ],
            "text/plain": [
              "                GR    ILD_log10  ...         NM_M       RELPOS\n",
              "count  3232.000000  3232.000000  ...  3232.000000  3232.000000\n",
              "mean     66.135769     0.642719  ...     1.498453     0.520287\n",
              "std      30.854826     0.241845  ...     0.500075     0.286792\n",
              "min      13.250000    -0.025949  ...     1.000000     0.010000\n",
              "25%      46.918750     0.492750  ...     1.000000     0.273000\n",
              "50%      65.721500     0.624437  ...     1.000000     0.526000\n",
              "75%      79.626250     0.812735  ...     2.000000     0.767250\n",
              "max     361.150000     1.480000  ...     2.000000     1.000000\n",
              "\n",
              "[8 rows x 7 columns]"
            ]
          },
          "metadata": {
            "tags": []
          },
          "execution_count": 8
        }
      ]
    },
    {
      "cell_type": "code",
      "metadata": {
        "id": "-YpX8bElsI7K",
        "colab_type": "code",
        "colab": {}
      },
      "source": [
        "from sklearn.model_selection import train_test_split\n",
        "\n",
        "X_train, X_test, y_train, y_test = train_test_split(\n",
        "        feature_vectors, correct_facies_labels, test_size=0.2, random_state=42)"
      ],
      "execution_count": 9,
      "outputs": []
    },
    {
      "cell_type": "markdown",
      "metadata": {
        "id": "xnM6c_Q-vhfi",
        "colab_type": "text"
      },
      "source": [
        "#smote"
      ]
    },
    {
      "cell_type": "code",
      "metadata": {
        "id": "aJqYaIDDT2xz",
        "colab_type": "code",
        "colab": {
          "base_uri": "https://localhost:8080/",
          "height": 400
        },
        "outputId": "6691490d-2eb2-4769-8fe4-645eab969780"
      },
      "source": [
        "from imblearn.over_sampling import SMOTE\n",
        "from collections import Counter\n",
        "sm = SMOTE(random_state=123)\n",
        "X_train_sm, y_train_sm = sm.fit_sample(X_train, y_train)\n",
        "\n",
        "train_x = pd.DataFrame(X_train_sm)\n",
        "train_y = pd.DataFrame(y_train_sm)\n",
        "print(Counter(y_train_sm))"
      ],
      "execution_count": 17,
      "outputs": [
        {
          "output_type": "stream",
          "text": [
            "Counter({5: 585, 2: 585, 9: 585, 3: 585, 8: 585, 1: 585, 6: 585, 4: 585, 7: 585})\n"
          ],
          "name": "stdout"
        },
        {
          "output_type": "stream",
          "text": [
            "/usr/local/lib/python3.6/dist-packages/sklearn/externals/six.py:31: FutureWarning: The module is deprecated in version 0.21 and will be removed in version 0.23 since we've dropped support for Python 2.7. Please rely on the official version of six (https://pypi.org/project/six/).\n",
            "  \"(https://pypi.org/project/six/).\", FutureWarning)\n",
            "/usr/local/lib/python3.6/dist-packages/sklearn/utils/deprecation.py:144: FutureWarning: The sklearn.neighbors.base module is  deprecated in version 0.22 and will be removed in version 0.24. The corresponding classes / functions should instead be imported from sklearn.neighbors. Anything that cannot be imported from sklearn.neighbors is now part of the private API.\n",
            "  warnings.warn(message, FutureWarning)\n",
            "/usr/local/lib/python3.6/dist-packages/sklearn/utils/deprecation.py:87: FutureWarning: Function safe_indexing is deprecated; safe_indexing is deprecated in version 0.22 and will be removed in version 0.24.\n",
            "  warnings.warn(msg, category=FutureWarning)\n",
            "/usr/local/lib/python3.6/dist-packages/sklearn/utils/deprecation.py:87: FutureWarning: Function safe_indexing is deprecated; safe_indexing is deprecated in version 0.22 and will be removed in version 0.24.\n",
            "  warnings.warn(msg, category=FutureWarning)\n",
            "/usr/local/lib/python3.6/dist-packages/sklearn/utils/deprecation.py:87: FutureWarning: Function safe_indexing is deprecated; safe_indexing is deprecated in version 0.22 and will be removed in version 0.24.\n",
            "  warnings.warn(msg, category=FutureWarning)\n",
            "/usr/local/lib/python3.6/dist-packages/sklearn/utils/deprecation.py:87: FutureWarning: Function safe_indexing is deprecated; safe_indexing is deprecated in version 0.22 and will be removed in version 0.24.\n",
            "  warnings.warn(msg, category=FutureWarning)\n",
            "/usr/local/lib/python3.6/dist-packages/sklearn/utils/deprecation.py:87: FutureWarning: Function safe_indexing is deprecated; safe_indexing is deprecated in version 0.22 and will be removed in version 0.24.\n",
            "  warnings.warn(msg, category=FutureWarning)\n",
            "/usr/local/lib/python3.6/dist-packages/sklearn/utils/deprecation.py:87: FutureWarning: Function safe_indexing is deprecated; safe_indexing is deprecated in version 0.22 and will be removed in version 0.24.\n",
            "  warnings.warn(msg, category=FutureWarning)\n",
            "/usr/local/lib/python3.6/dist-packages/sklearn/utils/deprecation.py:87: FutureWarning: Function safe_indexing is deprecated; safe_indexing is deprecated in version 0.22 and will be removed in version 0.24.\n",
            "  warnings.warn(msg, category=FutureWarning)\n",
            "/usr/local/lib/python3.6/dist-packages/sklearn/utils/deprecation.py:87: FutureWarning: Function safe_indexing is deprecated; safe_indexing is deprecated in version 0.22 and will be removed in version 0.24.\n",
            "  warnings.warn(msg, category=FutureWarning)\n"
          ],
          "name": "stderr"
        }
      ]
    },
    {
      "cell_type": "markdown",
      "metadata": {
        "id": "NZtG8GLTsKNc",
        "colab_type": "text"
      },
      "source": [
        "#PCA降维"
      ]
    },
    {
      "cell_type": "code",
      "metadata": {
        "id": "harMDRTgsU4N",
        "colab_type": "code",
        "colab": {
          "base_uri": "https://localhost:8080/",
          "height": 281
        },
        "outputId": "4ed61d50-597e-41aa-84e3-af6e78265f00"
      },
      "source": [
        "import numpy as np\n",
        "from sklearn.datasets import load_iris\n",
        "from sklearn.decomposition import PCA\n",
        "import matplotlib.pyplot as plt\n",
        "X = feature_vectors\n",
        "Y = correct_facies_labels\n",
        "sklearn_pca = PCA(n_components=5)#降维\n",
        "data_2d2 = sklearn_pca.fit_transform(X)\n",
        "plt.subplot(122)\n",
        "plt.title(\"sklearn_PCA\")\n",
        "plt.scatter(data_2d2[:, 0], data_2d2[:, 1], c = Y)\n",
        "plt.show()"
      ],
      "execution_count": 14,
      "outputs": [
        {
          "output_type": "display_data",
          "data": {
            "image/png": "[encoded data removed]",
            "text/plain": [
              "<Figure size 432x288 with 1 Axes>"
            ]
          },
          "metadata": {
            "tags": [],
            "needs_background": "light"
          }
        }
      ]
    },
    {
      "cell_type": "code",
      "metadata": {
        "id": "f4YxHL31sZC4",
        "colab_type": "code",
        "colab": {}
      },
      "source": [
        "from sklearn.model_selection import train_test_split\n",
        "X_train_PCA,X_test_PCA,y_train_PCA,y_test_PCA=train_test_split(data_2d2,correct_facies_labels,test_size=0.2,random_state=42)"
      ],
      "execution_count": 15,
      "outputs": []
    },
    {
      "cell_type": "markdown",
      "metadata": {
        "id": "kJqVkh7Csa7U",
        "colab_type": "text"
      },
      "source": [
        "##PCA的随机森林"
      ]
    },
    {
      "cell_type": "code",
      "metadata": {
        "id": "DbrN8__ctdFX",
        "colab_type": "code",
        "colab": {
          "base_uri": "https://localhost:8080/",
          "height": 656
        },
        "outputId": "79a9b034-d0e7-4ee5-f9e2-9a26e8a3d8c9"
      },
      "source": [
        "#降到五维效果较好\n",
        "from sklearn.ensemble import RandomForestClassifier\n",
        "from sklearn import metrics\n",
        "\n",
        "rfmodel = RandomForestClassifier()\n",
        "rfmodel.fit(X_train_PCA,y_train_PCA)\n",
        "print('model')\n",
        "print(rfmodel)\n",
        "\n",
        "ypredrf1 = rfmodel.predict(X_test_PCA)\n",
        "print('confusion matrix')\n",
        "print(metrics.confusion_matrix(y_test_PCA, ypredrf1))\n",
        "print('classification report')\n",
        "print(metrics.classification_report(y_test_PCA, ypredrf1))\n",
        "print('Accuracy : %f' % (metrics.accuracy_score(y_test_PCA, ypredrf1)))"
      ],
      "execution_count": 16,
      "outputs": [
        {
          "output_type": "stream",
          "text": [
            "model\n",
            "RandomForestClassifier(bootstrap=True, ccp_alpha=0.0, class_weight=None,\n",
            "                       criterion='gini', max_depth=None, max_features='auto',\n",
            "                       max_leaf_nodes=None, max_samples=None,\n",
            "                       min_impurity_decrease=0.0, min_impurity_split=None,\n",
            "                       min_samples_leaf=1, min_samples_split=2,\n",
            "                       min_weight_fraction_leaf=0.0, n_estimators=100,\n",
            "                       n_jobs=None, oob_score=False, random_state=None,\n",
            "                       verbose=0, warm_start=False)\n",
            "confusion matrix\n",
            "[[ 29  12   5   0   0   0   0   0   0]\n",
            " [  6 107  38   0   2   0   0   0   0]\n",
            " [  5  33  85   0   0   1   1   1   0]\n",
            " [  0   1   1  19   2   4   0   1   0]\n",
            " [  0   1   2   4  17  15   1   7   0]\n",
            " [  0   0   0   8   7  65   0  20   0]\n",
            " [  0   0   1   1   1   1   6  11   1]\n",
            " [  0   0   3   6   2  13   0  66   4]\n",
            " [  0   0   0   0   0   0   0   1  30]]\n",
            "classification report\n",
            "              precision    recall  f1-score   support\n",
            "\n",
            "           1       0.72      0.63      0.67        46\n",
            "           2       0.69      0.70      0.70       153\n",
            "           3       0.63      0.67      0.65       126\n",
            "           4       0.50      0.68      0.58        28\n",
            "           5       0.55      0.36      0.44        47\n",
            "           6       0.66      0.65      0.65       100\n",
            "           7       0.75      0.27      0.40        22\n",
            "           8       0.62      0.70      0.66        94\n",
            "           9       0.86      0.97      0.91        31\n",
            "\n",
            "    accuracy                           0.66       647\n",
            "   macro avg       0.66      0.63      0.63       647\n",
            "weighted avg       0.66      0.66      0.65       647\n",
            "\n",
            "Accuracy : 0.655332\n"
          ],
          "name": "stdout"
        }
      ]
    },
    {
      "cell_type": "markdown",
      "metadata": {
        "id": "irqsbQUQtinD",
        "colab_type": "text"
      },
      "source": [
        "##PCA的xgboost"
      ]
    },
    {
      "cell_type": "code",
      "metadata": {
        "id": "InxbbzY7tfXO",
        "colab_type": "code",
        "colab": {
          "base_uri": "https://localhost:8080/",
          "height": 312
        },
        "outputId": "ad67e6f0-190c-4f3d-b9d4-7b87201f7858"
      },
      "source": [
        "#降到六维效果较好\n",
        "from xgboost import plot_importance\n",
        "from matplotlib import pyplot as plt\n",
        "\n",
        "import xgboost as xgb\n",
        "from numpy import loadtxt\n",
        "from sklearn.model_selection import train_test_split\n",
        "from sklearn.metrics import accuracy_score\n",
        "\n",
        "params ={'learning_rate': 0.4,\n",
        "          'max_depth': 20,                # 构建树的深度，越大越容易过拟合\n",
        "          'num_boost_round':2000,\n",
        "          'objective': 'multi:softprob', # 多分类的问题\n",
        "          'random_state': 7,\n",
        "          'silent':0,\n",
        "          'num_class':10,                 # 类别数，与 multisoftmax 并用\n",
        "          'eta':0.8                      #为了防止过拟合，更新过程中用到的收缩步长。eta通过缩减特征 的权重使提升计算过程更加保守。缺省值为0.3，取值范围为：[0,1]\n",
        "        }\n",
        "model = xgb.train(params,xgb.DMatrix(X_train_PCA, y_train_PCA))\n",
        "y_pred=model.predict(xgb.DMatrix(X_test_PCA))\n",
        "\n",
        "model.save_model('testXGboostClass.model')  # 保存训练模型\n",
        "\n",
        "yprob = np.argmax(y_pred, axis=1)  # return the index of the biggest pro\n",
        "\n",
        "predictions = [round(value) for value in yprob]\n",
        "\n",
        "# evaluate predictions\n",
        "accuracy = accuracy_score(y_test_PCA, predictions)\n",
        "print(\"Accuracy: %.2f%%\" % (accuracy * 100.0))\n",
        "\n",
        "# 显示重要特征\n",
        "plot_importance(model)\n",
        "plt.show()"
      ],
      "execution_count": 18,
      "outputs": [
        {
          "output_type": "stream",
          "text": [
            "Accuracy: 63.06%\n"
          ],
          "name": "stdout"
        },
        {
          "output_type": "display_data",
          "data": {
            "image/png": "[encoded data removed]",
            "text/plain": [
              "<Figure size 432x288 with 1 Axes>"
            ]
          },
          "metadata": {
            "tags": [],
            "needs_background": "light"
          }
        }
      ]
    },
    {
      "cell_type": "markdown",
      "metadata": {
        "id": "a-LZwlgpvzQw",
        "colab_type": "text"
      },
      "source": [
        "##PCA的knn"
      ]
    },
    {
      "cell_type": "code",
      "metadata": {
        "id": "F07fqNykwM6b",
        "colab_type": "code",
        "colab": {}
      },
      "source": [
        "import sys\n",
        "sys.path.append('/content/drive/My Drive/Colab Notebooks/Machine-Learning-From-Scratch-master')"
      ],
      "execution_count": 19,
      "outputs": []
    },
    {
      "cell_type": "code",
      "metadata": {
        "id": "FBMA7f24vy1N",
        "colab_type": "code",
        "colab": {
          "base_uri": "https://localhost:8080/",
          "height": 325
        },
        "outputId": "0b06d37f-716f-4ae5-a98e-32196c882a62"
      },
      "source": [
        "import numpy as np\n",
        "import matplotlib.pyplot as plt\n",
        "from sklearn import datasets\n",
        "\n",
        "from utils import train_test_split, normalize, accuracy_score\n",
        "from utils import euclidean_distance, Plot\n",
        "class KNN():\n",
        "\n",
        "    def __init__(self,k=5):\n",
        "\n",
        "        self.k = k\n",
        "    def predict(self, X_test, X_train, y_train):\n",
        "\n",
        "        y_predict = np.zeros(X_test.shape[0])\n",
        "\n",
        "        for i in range(X_test.shape[0]):\n",
        "\n",
        "            distances = np.zeros((X_train.shape[0], 2)) #测试的数据和训练的各个数据的欧式距离\n",
        "\n",
        "            for j in range(X_train.shape[0]):\n",
        "                dis = euclidean_distance(X_test[i], X_train[j]) #计算欧式距离\n",
        "                label = y_train[j] #测试集到的每个训练集的数据的分类标签\n",
        "                distances[j] = [dis, label]\n",
        "\n",
        "                # argsort()得到测试集到训练的各个数据的欧式距离从小到大排列并且得到序列，然后再取前k个.\n",
        "                k_nearest_neighbors = distances[distances[:, 0].argsort()][:self.k]\n",
        "\n",
        "                #利用np.bincount统计k个近邻里面各类别出现的次数\n",
        "                counts = np.bincount(k_nearest_neighbors[:, 1].astype('int'))\n",
        "\n",
        "                #得出每个测试数据k个近邻里面各类别出现的次数最多的类别\n",
        "                testLabel = counts.argmax()\n",
        "                y_predict[i] = testLabel\n",
        "\n",
        "        return y_predict\n",
        "\n",
        "def run():\n",
        "    #初始化knn\n",
        "    model = KNN(k=5)\n",
        "    y_pred = model.predict(X_test_PCA, X_train_PCA, y_train_PCA)\n",
        "\n",
        "    accuracy = accuracy_score(y_test_PCA, y_pred)\n",
        "\n",
        "    print(\"Accuracy:\", accuracy)\n",
        "\n",
        "    # 用图画出测试集的分类情况\n",
        "    Plot().plot_in_2d(X_test_PCA, y_pred, title=\"KNN\", accuracy=accuracy)\n",
        "\n",
        "\n",
        "if __name__ == \"__main__\":\n",
        "    run()"
      ],
      "execution_count": 20,
      "outputs": [
        {
          "output_type": "stream",
          "text": [
            "Accuracy: 0.5100463678516228\n"
          ],
          "name": "stdout"
        },
        {
          "output_type": "display_data",
          "data": {
            "image/png": "[encoded data removed]",
            "text/plain": [
              "<Figure size 432x288 with 1 Axes>"
            ]
          },
          "metadata": {
            "tags": [],
            "needs_background": "light"
          }
        }
      ]
    },
    {
      "cell_type": "markdown",
      "metadata": {
        "id": "8GKtOcsHy6sB",
        "colab_type": "text"
      },
      "source": [
        "#LDA降维"
      ]
    },
    {
      "cell_type": "code",
      "metadata": {
        "id": "5mGMcuvWy9rQ",
        "colab_type": "code",
        "colab": {
          "base_uri": "https://localhost:8080/",
          "height": 281
        },
        "outputId": "597338d0-bdf9-4148-8a0c-a30468ec4fd5"
      },
      "source": [
        "import numpy as np\n",
        "from sklearn.discriminant_analysis import LinearDiscriminantAnalysis\n",
        "import matplotlib.pyplot as plt\n",
        "\n",
        "def lda(data, target, n_dim):\n",
        "\n",
        "    clusters = np.unique(target)\n",
        "\n",
        "    if n_dim > len(clusters)-1:\n",
        "        print(\"K is too much\")\n",
        "        print(\"please input again\")\n",
        "        exit(0)\n",
        "\n",
        "    #within_class scatter matrix\n",
        "    Sw = np.zeros((data.shape[1],data.shape[1]))\n",
        "    for i in clusters:\n",
        "        datai = data[target == i]\n",
        "        datai = datai-datai.mean(0)\n",
        "        Swi = np.mat(datai).T*np.mat(datai)\n",
        "        Sw += Swi\n",
        "\n",
        "    #between_class scatter matrix\n",
        "    SB = np.zeros((data.shape[1],data.shape[1]))\n",
        "    u = data.mean(0)  #所有样本的平均值\n",
        "    for i in clusters:\n",
        "        Ni = data[target == i].shape[0]\n",
        "        ui = data[target == i].mean(0)  #某个类别的平均值\n",
        "        SBi = Ni*np.mat(ui - u).T*np.mat(ui - u)\n",
        "        SB += SBi\n",
        "    S = np.linalg.inv(Sw)*SB\n",
        "    eigVals,eigVects = np.linalg.eig(S)  #求特征值，特征向量\n",
        "    eigValInd = np.argsort(eigVals)\n",
        "    eigValInd = eigValInd[:(-n_dim-1):-1]\n",
        "    w = eigVects[:,eigValInd]\n",
        "    data_ndim = np.dot(data, w)\n",
        "\n",
        "    return data_ndim\n",
        "\n",
        "if __name__ == '__main__':\n",
        "    X=feature_vectors\n",
        "    Y=correct_facies_labels\n",
        "    data_1 = lda(X, Y, 5)#自己根据数学原理实现LDA\n",
        "\n",
        "    data_2 = LinearDiscriminantAnalysis(n_components=6).fit_transform(X, Y)#直接调sklearn\n",
        "\n",
        "\n",
        "    plt.figure(figsize=(8,4))\n",
        "    plt.subplot(121)\n",
        "    plt.title(\"my_LDA\")\n",
        "    plt.scatter(data_1[:, 0], data_1[:, 1], c = Y)\n",
        "\n",
        "    plt.subplot(122)\n",
        "    plt.title(\"sklearn_LDA\")\n",
        "    plt.scatter(data_2[:, 0], data_2[:, 1], c = Y)\n",
        "    plt.savefig(\"LDA.png\")\n",
        "    plt.show()"
      ],
      "execution_count": 21,
      "outputs": [
        {
          "output_type": "display_data",
          "data": {
            "image/png": "[encoded data removed]",
            "text/plain": [
              "<Figure size 576x288 with 2 Axes>"
            ]
          },
          "metadata": {
            "tags": [],
            "needs_background": "light"
          }
        }
      ]
    },
    {
      "cell_type": "code",
      "metadata": {
        "id": "RdgUzBWRzd2h",
        "colab_type": "code",
        "colab": {}
      },
      "source": [
        "from sklearn.model_selection import train_test_split\n",
        "X_train_LDA,X_test_LDA,y_train_LDA,y_test_LDA=train_test_split(data_2,correct_facies_labels,test_size=0.2,random_state=42)"
      ],
      "execution_count": 22,
      "outputs": []
    },
    {
      "cell_type": "markdown",
      "metadata": {
        "id": "dz0XHR_Mzh3n",
        "colab_type": "text"
      },
      "source": [
        "##LDA的随机森林"
      ]
    },
    {
      "cell_type": "code",
      "metadata": {
        "id": "zWoeshzizlY4",
        "colab_type": "code",
        "colab": {
          "base_uri": "https://localhost:8080/",
          "height": 656
        },
        "outputId": "39a9be64-6d69-485c-c65c-d4692a463dde"
      },
      "source": [
        "from sklearn.ensemble import RandomForestClassifier\n",
        "from sklearn import metrics\n",
        "\n",
        "rfmodel = RandomForestClassifier()\n",
        "rfmodel.fit(X_train_LDA,y_train_LDA)\n",
        "print('model')\n",
        "print(rfmodel)\n",
        "\n",
        "ypredrf1 = rfmodel.predict(X_test_LDA)\n",
        "print('confusion matrix')\n",
        "print(metrics.confusion_matrix(y_test_LDA, ypredrf1))\n",
        "print('classification report')\n",
        "print(metrics.classification_report(y_test_LDA, ypredrf1))\n",
        "print('Accuracy : %f' % (metrics.accuracy_score(y_test_LDA, ypredrf1)))"
      ],
      "execution_count": 23,
      "outputs": [
        {
          "output_type": "stream",
          "text": [
            "model\n",
            "RandomForestClassifier(bootstrap=True, ccp_alpha=0.0, class_weight=None,\n",
            "                       criterion='gini', max_depth=None, max_features='auto',\n",
            "                       max_leaf_nodes=None, max_samples=None,\n",
            "                       min_impurity_decrease=0.0, min_impurity_split=None,\n",
            "                       min_samples_leaf=1, min_samples_split=2,\n",
            "                       min_weight_fraction_leaf=0.0, n_estimators=100,\n",
            "                       n_jobs=None, oob_score=False, random_state=None,\n",
            "                       verbose=0, warm_start=False)\n",
            "confusion matrix\n",
            "[[ 30  15   1   0   0   0   0   0   0]\n",
            " [  6 112  33   1   0   0   0   1   0]\n",
            " [  0  32  91   1   0   1   0   1   0]\n",
            " [  0   0   1  22   2   1   1   1   0]\n",
            " [  0   2   1   4  21  10   0   9   0]\n",
            " [  0   0   0   7   3  74   1  14   1]\n",
            " [  0   0   0   0   0   1  15   5   1]\n",
            " [  0   0   1   9   4  15   3  58   4]\n",
            " [  0   0   0   0   0   0   0   0  31]]\n",
            "classification report\n",
            "              precision    recall  f1-score   support\n",
            "\n",
            "           1       0.83      0.65      0.73        46\n",
            "           2       0.70      0.73      0.71       153\n",
            "           3       0.71      0.72      0.72       126\n",
            "           4       0.50      0.79      0.61        28\n",
            "           5       0.70      0.45      0.55        47\n",
            "           6       0.73      0.74      0.73       100\n",
            "           7       0.75      0.68      0.71        22\n",
            "           8       0.65      0.62      0.63        94\n",
            "           9       0.84      1.00      0.91        31\n",
            "\n",
            "    accuracy                           0.70       647\n",
            "   macro avg       0.71      0.71      0.70       647\n",
            "weighted avg       0.71      0.70      0.70       647\n",
            "\n",
            "Accuracy : 0.701700\n"
          ],
          "name": "stdout"
        }
      ]
    },
    {
      "cell_type": "markdown",
      "metadata": {
        "id": "_p7V3pE-08yH",
        "colab_type": "text"
      },
      "source": [
        "##LDA的xgboost"
      ]
    },
    {
      "cell_type": "code",
      "metadata": {
        "id": "rgW1u8mh1BhI",
        "colab_type": "code",
        "colab": {
          "base_uri": "https://localhost:8080/",
          "height": 312
        },
        "outputId": "24a6b7dc-f877-470a-f383-46c08b01732a"
      },
      "source": [
        "from xgboost import plot_importance\n",
        "from matplotlib import pyplot as plt\n",
        "\n",
        "import xgboost as xgb\n",
        "from numpy import loadtxt\n",
        "from sklearn.model_selection import train_test_split\n",
        "from sklearn.metrics import accuracy_score\n",
        "\n",
        "params ={'learning_rate': 0.4,\n",
        "          'max_depth': 20,                # 构建树的深度，越大越容易过拟合\n",
        "          'num_boost_round':2000,\n",
        "          'objective': 'multi:softprob', # 多分类的问题\n",
        "          'random_state': 7,\n",
        "          'silent':0,\n",
        "          'num_class':10,                 # 类别数，与 multisoftmax 并用\n",
        "          'eta':0.8                      #为了防止过拟合，更新过程中用到的收缩步长。eta通过缩减特征 的权重使提升计算过程更加保守。缺省值为0.3，取值范围为：[0,1]\n",
        "        }\n",
        "model = xgb.train(params,xgb.DMatrix(X_train_LDA, y_train_LDA))\n",
        "y_pred=model.predict(xgb.DMatrix(X_test_LDA))\n",
        "\n",
        "model.save_model('testXGboostClass.model')  # 保存训练模型\n",
        "\n",
        "yprob = np.argmax(y_pred, axis=1)  # return the index of the biggest pro\n",
        "\n",
        "predictions = [round(value) for value in yprob]\n",
        "\n",
        "# evaluate predictions\n",
        "accuracy = accuracy_score(y_test_LDA, predictions)\n",
        "print(\"Accuracy: %.2f%%\" % (accuracy * 100.0))\n",
        "\n",
        "# 显示重要特征\n",
        "plot_importance(model)\n",
        "plt.show()"
      ],
      "execution_count": 24,
      "outputs": [
        {
          "output_type": "stream",
          "text": [
            "Accuracy: 66.46%\n"
          ],
          "name": "stdout"
        },
        {
          "output_type": "display_data",
          "data": {
            "image/png": "[encoded data removed]",
            "text/plain": [
              "<Figure size 432x288 with 1 Axes>"
            ]
          },
          "metadata": {
            "tags": [],
            "needs_background": "light"
          }
        }
      ]
    },
    {
      "cell_type": "markdown",
      "metadata": {
        "id": "D_0IvLzX1V4X",
        "colab_type": "text"
      },
      "source": [
        "##LDA的knn"
      ]
    },
    {
      "cell_type": "code",
      "metadata": {
        "id": "JnQNy5MT1Vek",
        "colab_type": "code",
        "colab": {
          "base_uri": "https://localhost:8080/",
          "height": 351
        },
        "outputId": "01f29083-14d2-4b44-a64f-250b4a4cf2c0"
      },
      "source": [
        "import numpy as np\n",
        "import matplotlib.pyplot as plt\n",
        "from sklearn import datasets\n",
        "\n",
        "from utils import train_test_split, normalize, accuracy_score\n",
        "from utils import euclidean_distance, Plot\n",
        "class KNN():\n",
        "\n",
        "    def __init__(self,k=5):\n",
        "\n",
        "        self.k = k\n",
        "    def predict(self, X_test, X_train, y_train):\n",
        "\n",
        "        y_predict = np.zeros(X_test.shape[0])\n",
        "\n",
        "        for i in range(X_test.shape[0]):\n",
        "\n",
        "            distances = np.zeros((X_train.shape[0], 2)) #测试的数据和训练的各个数据的欧式距离\n",
        "\n",
        "            for j in range(X_train.shape[0]):\n",
        "                dis = euclidean_distance(X_test[i], X_train[j]) #计算欧式距离\n",
        "                label = y_train[j] #测试集到的每个训练集的数据的分类标签\n",
        "                distances[j] = [dis, label]\n",
        "\n",
        "                # argsort()得到测试集到训练的各个数据的欧式距离从小到大排列并且得到序列，然后再取前k个.\n",
        "                k_nearest_neighbors = distances[distances[:, 0].argsort()][:self.k]\n",
        "\n",
        "                #利用np.bincount统计k个近邻里面各类别出现的次数\n",
        "                counts = np.bincount(k_nearest_neighbors[:, 1].astype('int'))\n",
        "\n",
        "                #得出每个测试数据k个近邻里面各类别出现的次数最多的类别\n",
        "                testLabel = counts.argmax()\n",
        "                y_predict[i] = testLabel\n",
        "\n",
        "        return y_predict\n",
        "\n",
        "def run():\n",
        "    #初始化knn\n",
        "    model = KNN(k=5)\n",
        "    y_pred = model.predict(X_test_LDA, X_train_LDA, y_train_LDA)\n",
        "\n",
        "    accuracy = accuracy_score(y_test_LDA, y_pred)\n",
        "\n",
        "    print(\"Accuracy:\", accuracy)\n",
        "\n",
        "    # 用图画出测试集的分类情况\n",
        "    Plot().plot_in_2d(X_test_LDA, y_pred, title=\"KNN\", accuracy=accuracy)\n",
        "\n",
        "\n",
        "if __name__ == \"__main__\":\n",
        "    run()"
      ],
      "execution_count": 25,
      "outputs": [
        {
          "output_type": "error",
          "ename": "KeyboardInterrupt",
          "evalue": "ignored",
          "traceback": [
            "\u001b[0;31m---------------------------------------------------------------------------\u001b[0m",
            "\u001b[0;31mKeyboardInterrupt\u001b[0m                         Traceback (most recent call last)",
            "\u001b[0;32m<ipython-input-25-dbbea75fc279>\u001b[0m in \u001b[0;36m<module>\u001b[0;34m()\u001b[0m\n\u001b[1;32m     49\u001b[0m \u001b[0;34m\u001b[0m\u001b[0m\n\u001b[1;32m     50\u001b[0m \u001b[0;32mif\u001b[0m \u001b[0m__name__\u001b[0m \u001b[0;34m==\u001b[0m \u001b[0;34m\"__main__\"\u001b[0m\u001b[0;34m:\u001b[0m\u001b[0;34m\u001b[0m\u001b[0;34m\u001b[0m\u001b[0m\n\u001b[0;32m---> 51\u001b[0;31m     \u001b[0mrun\u001b[0m\u001b[0;34m(\u001b[0m\u001b[0;34m)\u001b[0m\u001b[0;34m\u001b[0m\u001b[0;34m\u001b[0m\u001b[0m\n\u001b[0m",
            "\u001b[0;32m<ipython-input-25-dbbea75fc279>\u001b[0m in \u001b[0;36mrun\u001b[0;34m()\u001b[0m\n\u001b[1;32m     38\u001b[0m     \u001b[0;31m#初始化knn\u001b[0m\u001b[0;34m\u001b[0m\u001b[0;34m\u001b[0m\u001b[0;34m\u001b[0m\u001b[0m\n\u001b[1;32m     39\u001b[0m     \u001b[0mmodel\u001b[0m \u001b[0;34m=\u001b[0m \u001b[0mKNN\u001b[0m\u001b[0;34m(\u001b[0m\u001b[0mk\u001b[0m\u001b[0;34m=\u001b[0m\u001b[0;36m5\u001b[0m\u001b[0;34m)\u001b[0m\u001b[0;34m\u001b[0m\u001b[0;34m\u001b[0m\u001b[0m\n\u001b[0;32m---> 40\u001b[0;31m     \u001b[0my_pred\u001b[0m \u001b[0;34m=\u001b[0m \u001b[0mmodel\u001b[0m\u001b[0;34m.\u001b[0m\u001b[0mpredict\u001b[0m\u001b[0;34m(\u001b[0m\u001b[0mX_test_LDA\u001b[0m\u001b[0;34m,\u001b[0m \u001b[0mX_train_LDA\u001b[0m\u001b[0;34m,\u001b[0m \u001b[0my_train_LDA\u001b[0m\u001b[0;34m)\u001b[0m\u001b[0;34m\u001b[0m\u001b[0;34m\u001b[0m\u001b[0m\n\u001b[0m\u001b[1;32m     41\u001b[0m \u001b[0;34m\u001b[0m\u001b[0m\n\u001b[1;32m     42\u001b[0m     \u001b[0maccuracy\u001b[0m \u001b[0;34m=\u001b[0m \u001b[0maccuracy_score\u001b[0m\u001b[0;34m(\u001b[0m\u001b[0my_test_LDA\u001b[0m\u001b[0;34m,\u001b[0m \u001b[0my_pred\u001b[0m\u001b[0;34m)\u001b[0m\u001b[0;34m\u001b[0m\u001b[0;34m\u001b[0m\u001b[0m\n",
            "\u001b[0;32m<ipython-input-25-dbbea75fc279>\u001b[0m in \u001b[0;36mpredict\u001b[0;34m(self, X_test, X_train, y_train)\u001b[0m\n\u001b[1;32m     24\u001b[0m \u001b[0;34m\u001b[0m\u001b[0m\n\u001b[1;32m     25\u001b[0m                 \u001b[0;31m# argsort()得到测试集到训练的各个数据的欧式距离从小到大排列并且得到序列，然后再取前k个.\u001b[0m\u001b[0;34m\u001b[0m\u001b[0;34m\u001b[0m\u001b[0;34m\u001b[0m\u001b[0m\n\u001b[0;32m---> 26\u001b[0;31m                 \u001b[0mk_nearest_neighbors\u001b[0m \u001b[0;34m=\u001b[0m \u001b[0mdistances\u001b[0m\u001b[0;34m[\u001b[0m\u001b[0mdistances\u001b[0m\u001b[0;34m[\u001b[0m\u001b[0;34m:\u001b[0m\u001b[0;34m,\u001b[0m \u001b[0;36m0\u001b[0m\u001b[0;34m]\u001b[0m\u001b[0;34m.\u001b[0m\u001b[0margsort\u001b[0m\u001b[0;34m(\u001b[0m\u001b[0;34m)\u001b[0m\u001b[0;34m]\u001b[0m\u001b[0;34m[\u001b[0m\u001b[0;34m:\u001b[0m\u001b[0mself\u001b[0m\u001b[0;34m.\u001b[0m\u001b[0mk\u001b[0m\u001b[0;34m]\u001b[0m\u001b[0;34m\u001b[0m\u001b[0;34m\u001b[0m\u001b[0m\n\u001b[0m\u001b[1;32m     27\u001b[0m \u001b[0;34m\u001b[0m\u001b[0m\n\u001b[1;32m     28\u001b[0m                 \u001b[0;31m#利用np.bincount统计k个近邻里面各类别出现的次数\u001b[0m\u001b[0;34m\u001b[0m\u001b[0;34m\u001b[0m\u001b[0;34m\u001b[0m\u001b[0m\n",
            "\u001b[0;31mKeyboardInterrupt\u001b[0m: "
          ]
        }
      ]
    },
    {
      "cell_type": "markdown",
      "metadata": {
        "id": "NVmhpLy3sEHP",
        "colab_type": "text"
      },
      "source": [
        "#KPCA降维"
      ]
    },
    {
      "cell_type": "code",
      "metadata": {
        "id": "NITCJaacsDip",
        "colab_type": "code",
        "colab": {
          "base_uri": "https://localhost:8080/",
          "height": 281
        },
        "outputId": "2bd0fe87-924b-4f7f-e0a1-87d36a7525cc"
      },
      "source": [
        "#PCA算法的非线性扩展\n",
        "from sklearn.datasets import load_iris\n",
        "from sklearn.decomposition import KernelPCA\n",
        "import numpy as np\n",
        "import matplotlib.pyplot as plt\n",
        "from scipy.spatial.distance import pdist, squareform\n",
        "X = feature_vectors\n",
        "Y = correct_facies_labels\n",
        "sklearn_kpca = KernelPCA(n_components=4, kernel=\"rbf\", gamma=15)\n",
        "data_3 = sklearn_kpca.fit_transform(X)\n",
        "plt.subplot(122)\n",
        "plt.title(\"sklearn_KPCA\")\n",
        "plt.scatter(data_3[:, 0], data_3[:, 1], c = Y)\n",
        "plt.show()"
      ],
      "execution_count": 26,
      "outputs": [
        {
          "output_type": "display_data",
          "data": {
            "image/png": "[encoded data removed]",
            "text/plain": [
              "<Figure size 432x288 with 1 Axes>"
            ]
          },
          "metadata": {
            "tags": [],
            "needs_background": "light"
          }
        }
      ]
    },
    {
      "cell_type": "code",
      "metadata": {
        "id": "c8egS-b6t3g-",
        "colab_type": "code",
        "colab": {}
      },
      "source": [
        "from sklearn.model_selection import train_test_split\n",
        "X_train_KPCA,X_test_KPCA,y_train_KPCA,y_test_KPCA=train_test_split(data_3,correct_facies_labels,test_size=0.2,random_state=42)"
      ],
      "execution_count": 27,
      "outputs": []
    },
    {
      "cell_type": "markdown",
      "metadata": {
        "id": "ldZxUEk_uI4Y",
        "colab_type": "text"
      },
      "source": [
        "##KPCA的随机森林"
      ]
    },
    {
      "cell_type": "code",
      "metadata": {
        "id": "OhZ9x7GwuIT5",
        "colab_type": "code",
        "colab": {
          "base_uri": "https://localhost:8080/",
          "height": 711
        },
        "outputId": "54ac76d6-89ed-4ebc-b9ae-6ab3271b58f6"
      },
      "source": [
        "from sklearn.ensemble import RandomForestClassifier\n",
        "from sklearn import metrics\n",
        "\n",
        "rfmodel = RandomForestClassifier()\n",
        "rfmodel.fit(X_train_KPCA,y_train_KPCA)\n",
        "print('model')\n",
        "print(rfmodel)\n",
        "\n",
        "ypredrf1 = rfmodel.predict(X_test_KPCA)\n",
        "print('confusion matrix')\n",
        "print(metrics.confusion_matrix(y_test_KPCA, ypredrf1))\n",
        "print('classification report')\n",
        "print(metrics.classification_report(y_test_KPCA, ypredrf1))\n",
        "print('Accuracy : %f' % (metrics.accuracy_score(y_test_KPCA, ypredrf1)))"
      ],
      "execution_count": 28,
      "outputs": [
        {
          "output_type": "stream",
          "text": [
            "model\n",
            "RandomForestClassifier(bootstrap=True, ccp_alpha=0.0, class_weight=None,\n",
            "                       criterion='gini', max_depth=None, max_features='auto',\n",
            "                       max_leaf_nodes=None, max_samples=None,\n",
            "                       min_impurity_decrease=0.0, min_impurity_split=None,\n",
            "                       min_samples_leaf=1, min_samples_split=2,\n",
            "                       min_weight_fraction_leaf=0.0, n_estimators=100,\n",
            "                       n_jobs=None, oob_score=False, random_state=None,\n",
            "                       verbose=0, warm_start=False)\n",
            "confusion matrix\n",
            "[[  4  41   0   0   0   0   0   1   0]\n",
            " [  2 144   2   2   0   1   0   1   1]\n",
            " [  2 122   2   0   0   0   0   0   0]\n",
            " [  0  27   0   1   0   0   0   0   0]\n",
            " [  0  44   0   1   1   0   0   0   1]\n",
            " [  0  94   0   1   1   1   0   2   1]\n",
            " [  0  21   0   0   0   0   0   0   1]\n",
            " [  0  90   0   1   0   0   0   2   1]\n",
            " [  0   2   0   0   0   0   0   0  29]]\n",
            "classification report\n",
            "              precision    recall  f1-score   support\n",
            "\n",
            "           1       0.50      0.09      0.15        46\n",
            "           2       0.25      0.94      0.39       153\n",
            "           3       0.50      0.02      0.03       126\n",
            "           4       0.17      0.04      0.06        28\n",
            "           5       0.50      0.02      0.04        47\n",
            "           6       0.50      0.01      0.02       100\n",
            "           7       0.00      0.00      0.00        22\n",
            "           8       0.33      0.02      0.04        94\n",
            "           9       0.85      0.94      0.89        31\n",
            "\n",
            "    accuracy                           0.28       647\n",
            "   macro avg       0.40      0.23      0.18       647\n",
            "weighted avg       0.40      0.28      0.17       647\n",
            "\n",
            "Accuracy : 0.284389\n"
          ],
          "name": "stdout"
        },
        {
          "output_type": "stream",
          "text": [
            "/usr/local/lib/python3.6/dist-packages/sklearn/metrics/_classification.py:1272: UndefinedMetricWarning: Precision and F-score are ill-defined and being set to 0.0 in labels with no predicted samples. Use `zero_division` parameter to control this behavior.\n",
            "  _warn_prf(average, modifier, msg_start, len(result))\n"
          ],
          "name": "stderr"
        }
      ]
    },
    {
      "cell_type": "markdown",
      "metadata": {
        "id": "qhNL990iuxYF",
        "colab_type": "text"
      },
      "source": [
        "所以证明我们这个数据不是非线性的  粒子群优化"
      ]
    }
  ]
}